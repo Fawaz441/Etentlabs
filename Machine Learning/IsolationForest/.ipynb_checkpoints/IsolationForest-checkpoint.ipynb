{
 "cells": [
  {
   "cell_type": "code",
   "execution_count": 1,
   "metadata": {},
   "outputs": [],
   "source": [
    "import pandas as pd\n",
    "import numpy as np\n",
    "import re\n",
    "import nltk\n",
    "from nltk.corpus import stopwords\n",
    "from sklearn.metrics import accuracy_score,f1_score,recall_score,precision_score,roc_curve\n",
    "from sklearn.ensemble import IsolationForest\n",
    "from sklearn.feature_extraction.text import CountVectorizer\n",
    "from sklearn.model_selection import train_test_split"
   ]
  },
  {
   "cell_type": "code",
   "execution_count": 2,
   "metadata": {},
   "outputs": [],
   "source": [
    "df = pd.read_csv('../formspring_data.csv',delimiter='\\t',quoting=3)\n",
    "df = df[['ques','ans1']]  #limiting to question and answer \n",
    "#replacing html symbols\n",
    "df['ques'] = df['ques'].str.replace('&#039;',' ')\n",
    "df['ques'] = df['ques'].str.replace('&quot;',' ')\n",
    "df['ques'] = df['ques'].str.replace('<br>',' ')    "
   ]
  },
  {
   "cell_type": "code",
   "execution_count": 3,
   "metadata": {},
   "outputs": [],
   "source": [
    "df = df.dropna()\n",
    "positives = df[df['ans1']=='Yes']\n",
    "negatives = df[df['ans1']=='No']\n",
    "frames = [positives,negatives]"
   ]
  },
  {
   "cell_type": "code",
   "execution_count": 4,
   "metadata": {},
   "outputs": [],
   "source": [
    "df = pd.concat(frames)\n",
    "df = df.sample(frac=1)"
   ]
  },
  {
   "cell_type": "code",
   "execution_count": 5,
   "metadata": {},
   "outputs": [
    {
     "data": {
      "text/plain": [
       "<AxesSubplot:title={'center':'No of cyberbullying cases'}>"
      ]
     },
     "execution_count": 5,
     "metadata": {},
     "output_type": "execute_result"
    },
    {
     "data": {
      "image/png": "[encoded data removed]",
      "text/plain": [
       "<Figure size 432x288 with 1 Axes>"
      ]
     },
     "metadata": {
      "needs_background": "light"
     },
     "output_type": "display_data"
    }
   ],
   "source": [
    "%matplotlib inline\n",
    "import matplotlib.pyplot as plt\n",
    "\n",
    "df['ans1'].value_counts().plot(kind='bar',title='No of cyberbullying cases')"
   ]
  },
  {
   "cell_type": "code",
   "execution_count": 6,
   "metadata": {},
   "outputs": [],
   "source": [
    "df['ans1'] = df['ans1'].replace(('Yes','No'),(1,0))\n",
    "bag = []\n",
    "def clean_data(sentence):\n",
    "    sentence = re.sub('[^a-zA-Z]',' ',sentence)\n",
    "    sentence = sentence.lower().split()\n",
    "    words = [word for word in sentence if not word in stopwords.words('english')]\n",
    "    sentence = ' '.join(words)\n",
    "    bag.append(sentence)"
   ]
  },
  {
   "cell_type": "code",
   "execution_count": 7,
   "metadata": {},
   "outputs": [
    {
     "data": {
      "text/html": [
       "<div>\n",
       "<style scoped>\n",
       "    .dataframe tbody tr th:only-of-type {\n",
       "        vertical-align: middle;\n",
       "    }\n",
       "\n",
       "    .dataframe tbody tr th {\n",
       "        vertical-align: top;\n",
       "    }\n",
       "\n",
       "    .dataframe thead th {\n",
       "        text-align: right;\n",
       "    }\n",
       "</style>\n",
       "<table border=\"1\" class=\"dataframe\">\n",
       "  <thead>\n",
       "    <tr style=\"text-align: right;\">\n",
       "      <th></th>\n",
       "      <th>ques</th>\n",
       "      <th>ans1</th>\n",
       "    </tr>\n",
       "  </thead>\n",
       "  <tbody>\n",
       "    <tr>\n",
       "      <th>6826</th>\n",
       "      <td>We might get married soon an have kids. I&amp;apos...</td>\n",
       "      <td>0</td>\n",
       "    </tr>\n",
       "    <tr>\n",
       "      <th>5149</th>\n",
       "      <td>1 mothna llready and not bord told ya !!!</td>\n",
       "      <td>0</td>\n",
       "    </tr>\n",
       "    <tr>\n",
       "      <th>3380</th>\n",
       "      <td>Okeyyy honestly now I think this stupid person...</td>\n",
       "      <td>0</td>\n",
       "    </tr>\n",
       "    <tr>\n",
       "      <th>11901</th>\n",
       "      <td>If you had to choose a song that would suit as...</td>\n",
       "      <td>0</td>\n",
       "    </tr>\n",
       "    <tr>\n",
       "      <th>2684</th>\n",
       "      <td>my momss a BITCH.! shee fuckin blockedd my tex...</td>\n",
       "      <td>1</td>\n",
       "    </tr>\n",
       "  </tbody>\n",
       "</table>\n",
       "</div>"
      ],
      "text/plain": [
       "                                                    ques  ans1\n",
       "6826   We might get married soon an have kids. I&apos...     0\n",
       "5149           1 mothna llready and not bord told ya !!!     0\n",
       "3380   Okeyyy honestly now I think this stupid person...     0\n",
       "11901  If you had to choose a song that would suit as...     0\n",
       "2684   my momss a BITCH.! shee fuckin blockedd my tex...     1"
      ]
     },
     "execution_count": 7,
     "metadata": {},
     "output_type": "execute_result"
    }
   ],
   "source": [
    "df['ans1'] = df['ans1'].astype(int)\n",
    "df.head()"
   ]
  },
  {
   "cell_type": "code",
   "execution_count": 8,
   "metadata": {},
   "outputs": [
    {
     "data": {
      "text/plain": [
       "12729"
      ]
     },
     "execution_count": 8,
     "metadata": {},
     "output_type": "execute_result"
    }
   ],
   "source": [
    "df['ques'].apply(clean_data)\n",
    "len(bag)"
   ]
  },
  {
   "cell_type": "code",
   "execution_count": 9,
   "metadata": {},
   "outputs": [
    {
     "data": {
      "text/plain": [
       "IsolationForest()"
      ]
     },
     "execution_count": 9,
     "metadata": {},
     "output_type": "execute_result"
    }
   ],
   "source": [
    "y = df['ans1'].values\n",
    "\n",
    "cv = CountVectorizer()\n",
    "X_train,X_test,y_train,y_test = train_test_split(bag,y,test_size=0.2,random_state=0)\n",
    "cv.fit(X_train)\n",
    "X_train = cv.transform(X_train).toarray() #create sparse matrix \n",
    "X_test = cv.transform(X_test).toarray()\n",
    "clf = IsolationForest()\n",
    "clf.fit(X_train,y_train)\n"
   ]
  },
  {
   "cell_type": "code",
   "execution_count": 10,
   "metadata": {},
   "outputs": [],
   "source": [
    "y_pred = clf.predict(X_test)"
   ]
  },
  {
   "cell_type": "code",
   "execution_count": 11,
   "metadata": {},
   "outputs": [
    {
     "name": "stdout",
     "output_type": "stream",
     "text": [
      "Accuracy =>  0.0781618224666143\n",
      "Recall =>  1.0\n",
      "F1 score =>  0.14499089253187614\n"
     ]
    }
   ],
   "source": [
    "score = accuracy_score(y_test,y_pred)\n",
    "f1_score__ = f1_score(y_test,y_pred)\n",
    "recall = recall_score(y_test,y_pred)\n",
    "print(\"Accuracy => \",score)\n",
    "print(\"Recall => \",recall)\n",
    "print(\"F1 score => \",f1_score__)"
   ]
  },
  {
   "cell_type": "code",
   "execution_count": 12,
   "metadata": {},
   "outputs": [
    {
     "data": {
      "text/plain": [
       "0.0781618224666143"
      ]
     },
     "execution_count": 12,
     "metadata": {},
     "output_type": "execute_result"
    }
   ],
   "source": [
    "precision =  precision_score(y_test,y_pred)\n",
    "precision"
   ]
  },
  {
   "cell_type": "code",
   "execution_count": 13,
   "metadata": {},
   "outputs": [
    {
     "data": {
      "image/png": "[encoded data removed]",
      "text/plain": [
       "<Figure size 432x288 with 1 Axes>"
      ]
     },
     "metadata": {
      "needs_background": "light"
     },
     "output_type": "display_data"
    }
   ],
   "source": [
    "fp, tp, treshold = roc_curve(y_test, y_pred)\n",
    "plt.plot(fp, tp, marker='.', label='ROC Curve')\n",
    "plt.xlabel('False Positive Rate')\n",
    "plt.ylabel('True Positive Rate')\n",
    "plt.legend()\n",
    "plt.show()"
   ]
  },
  {
   "cell_type": "code",
   "execution_count": null,
   "metadata": {},
   "outputs": [],
   "source": []
  },
  {
   "cell_type": "code",
   "execution_count": null,
   "metadata": {},
   "outputs": [],
   "source": []
  }
 ],
 "metadata": {
  "kernelspec": {
   "display_name": "Python 3",
   "language": "python",
   "name": "python3"
  },
  "language_info": {
   "codemirror_mode": {
    "name": "ipython",
    "version": 3
   },
   "file_extension": ".py",
   "mimetype": "text/x-python",
   "name": "python",
   "nbconvert_exporter": "python",
   "pygments_lexer": "ipython3",
   "version": "3.7.4"
  }
 },
 "nbformat": 4,
 "nbformat_minor": 4
}
