{
 "cells": [
  {
   "cell_type": "code",
   "execution_count": 1,
   "metadata": {},
   "outputs": [],
   "source": [
    "import pandas as pd\n",
    "import numpy as np\n",
    "import re\n",
    "import nltk\n",
    "from nltk.corpus import stopwords\n",
    "from sklearn.metrics import accuracy_score,f1_score,recall_score,precision_score,roc_curve\n",
    "from sklearn.ensemble import IsolationForest\n",
    "from sklearn.feature_extraction.text import CountVectorizer\n",
    "from sklearn.model_selection import train_test_split"
   ]
  },
  {
   "cell_type": "code",
   "execution_count": 2,
   "metadata": {},
   "outputs": [],
   "source": [
    "df = pd.read_csv('../../formspring_data.csv',delimiter='\\t',quoting=3)\n",
    "df = df[['ques','ans1']]  #limiting to question and answer \n",
    "#replacing html symbols\n",
    "df['ques'] = df['ques'].str.replace('&#039;',' ')\n",
    "df['ques'] = df['ques'].str.replace('&quot;',' ')\n",
    "df['ques'] = df['ques'].str.replace('<br>',' ')    "
   ]
  },
  {
   "cell_type": "code",
   "execution_count": 3,
   "metadata": {},
   "outputs": [],
   "source": [
    "df = df.dropna()\n",
    "positives = df[df['ans1']=='Yes']\n",
    "negatives = df[df['ans1']=='No']\n",
    "frames = [positives,negatives]"
   ]
  },
  {
   "cell_type": "code",
   "execution_count": 4,
   "metadata": {},
   "outputs": [],
   "source": [
    "df = pd.concat(frames)\n",
    "df = df.sample(frac=1)"
   ]
  },
  {
   "cell_type": "code",
   "execution_count": 5,
   "metadata": {},
   "outputs": [
    {
     "data": {
      "text/plain": [
       "<AxesSubplot:title={'center':'No of cyberbullying cases'}>"
      ]
     },
     "execution_count": 5,
     "metadata": {},
     "output_type": "execute_result"
    },
    {
     "data": {
      "image/png": "[encoded data removed]",
      "text/plain": [
       "<Figure size 432x288 with 1 Axes>"
      ]
     },
     "metadata": {
      "needs_background": "light"
     },
     "output_type": "display_data"
    }
   ],
   "source": [
    "%matplotlib inline\n",
    "import matplotlib.pyplot as plt\n",
    "\n",
    "df['ans1'].value_counts().plot(kind='bar',title='No of cyberbullying cases')"
   ]
  },
  {
   "cell_type": "code",
   "execution_count": 6,
   "metadata": {},
   "outputs": [],
   "source": [
    "df['ans1'] = df['ans1'].replace(('Yes','No'),(1,0))\n",
    "bag = []\n",
    "def clean_data(sentence):\n",
    "    sentence = re.sub('[^a-zA-Z]',' ',sentence)\n",
    "    sentence = sentence.lower().split()\n",
    "    words = [word for word in sentence if not word in stopwords.words('english')]\n",
    "    sentence = ' '.join(words)\n",
    "    bag.append(sentence)"
   ]
  },
  {
   "cell_type": "code",
   "execution_count": 7,
   "metadata": {},
   "outputs": [
    {
     "data": {
      "text/html": [
       "<div>\n",
       "<style scoped>\n",
       "    .dataframe tbody tr th:only-of-type {\n",
       "        vertical-align: middle;\n",
       "    }\n",
       "\n",
       "    .dataframe tbody tr th {\n",
       "        vertical-align: top;\n",
       "    }\n",
       "\n",
       "    .dataframe thead th {\n",
       "        text-align: right;\n",
       "    }\n",
       "</style>\n",
       "<table border=\"1\" class=\"dataframe\">\n",
       "  <thead>\n",
       "    <tr style=\"text-align: right;\">\n",
       "      <th></th>\n",
       "      <th>ques</th>\n",
       "      <th>ans1</th>\n",
       "    </tr>\n",
       "  </thead>\n",
       "  <tbody>\n",
       "    <tr>\n",
       "      <th>404</th>\n",
       "      <td>no body likes yuuuuuuu!</td>\n",
       "      <td>1</td>\n",
       "    </tr>\n",
       "    <tr>\n",
       "      <th>12856</th>\n",
       "      <td>You get to pick your celebrity parents and a s...</td>\n",
       "      <td>0</td>\n",
       "    </tr>\n",
       "    <tr>\n",
       "      <th>6137</th>\n",
       "      <td>if someone gave a blow up doll and boxer short...</td>\n",
       "      <td>0</td>\n",
       "    </tr>\n",
       "    <tr>\n",
       "      <th>7925</th>\n",
       "      <td>nate doenst know  but for the record i climbed...</td>\n",
       "      <td>0</td>\n",
       "    </tr>\n",
       "    <tr>\n",
       "      <th>12335</th>\n",
       "      <td>what are your thoughts on older kids wearing d...</td>\n",
       "      <td>0</td>\n",
       "    </tr>\n",
       "  </tbody>\n",
       "</table>\n",
       "</div>"
      ],
      "text/plain": [
       "                                                    ques  ans1\n",
       "404                              no body likes yuuuuuuu!     1\n",
       "12856  You get to pick your celebrity parents and a s...     0\n",
       "6137   if someone gave a blow up doll and boxer short...     0\n",
       "7925   nate doenst know  but for the record i climbed...     0\n",
       "12335  what are your thoughts on older kids wearing d...     0"
      ]
     },
     "execution_count": 7,
     "metadata": {},
     "output_type": "execute_result"
    }
   ],
   "source": [
    "df['ans1'] = df['ans1'].astype(int)\n",
    "df.head()"
   ]
  },
  {
   "cell_type": "code",
   "execution_count": 8,
   "metadata": {},
   "outputs": [
    {
     "data": {
      "text/plain": [
       "12729"
      ]
     },
     "execution_count": 8,
     "metadata": {},
     "output_type": "execute_result"
    }
   ],
   "source": [
    "df['ques'].apply(clean_data)\n",
    "len(bag)"
   ]
  },
  {
   "cell_type": "code",
   "execution_count": 9,
   "metadata": {},
   "outputs": [
    {
     "data": {
      "text/plain": [
       "IsolationForest()"
      ]
     },
     "execution_count": 9,
     "metadata": {},
     "output_type": "execute_result"
    }
   ],
   "source": [
    "y = df['ans1'].values\n",
    "\n",
    "cv = CountVectorizer()\n",
    "X_train,X_test,y_train,y_test = train_test_split(bag,y,test_size=0.2,random_state=0)\n",
    "cv.fit(X_train)\n",
    "X_train = cv.transform(X_train).toarray() #create sparse matrix \n",
    "X_test = cv.transform(X_test).toarray()\n",
    "clf = IsolationForest()\n",
    "clf.fit(X_train,y_train)\n"
   ]
  },
  {
   "cell_type": "code",
   "execution_count": 10,
   "metadata": {},
   "outputs": [],
   "source": [
    "y_pred = clf.predict(X_test)"
   ]
  },
  {
   "cell_type": "code",
   "execution_count": 11,
   "metadata": {},
   "outputs": [
    {
     "name": "stdout",
     "output_type": "stream",
     "text": [
      "Accuracy =>  0.0828750981932443\n",
      "Recall =>  1.0\n",
      "F1 score =>  0.15306492564381574\n"
     ]
    }
   ],
   "source": [
    "score = accuracy_score(y_test,y_pred)\n",
    "f1_score__ = f1_score(y_test,y_pred)\n",
    "recall = recall_score(y_test,y_pred)\n",
    "print(\"Accuracy => \",score)\n",
    "print(\"Recall => \",recall)\n",
    "print(\"F1 score => \",f1_score__)"
   ]
  },
  {
   "cell_type": "code",
   "execution_count": 12,
   "metadata": {},
   "outputs": [
    {
     "data": {
      "text/plain": [
       "0.0828750981932443"
      ]
     },
     "execution_count": 12,
     "metadata": {},
     "output_type": "execute_result"
    }
   ],
   "source": [
    "precision =  precision_score(y_test,y_pred)\n",
    "precision"
   ]
  },
  {
   "cell_type": "code",
   "execution_count": 13,
   "metadata": {},
   "outputs": [
    {
     "data": {
      "image/png": "[encoded data removed]",
      "text/plain": [
       "<Figure size 432x288 with 1 Axes>"
      ]
     },
     "metadata": {
      "needs_background": "light"
     },
     "output_type": "display_data"
    }
   ],
   "source": [
    "fp, tp, treshold = roc_curve(y_test, y_pred)\n",
    "plt.plot(fp, tp, marker='.', label='ROC Curve')\n",
    "plt.xlabel('False Positive Rate')\n",
    "plt.ylabel('True Positive Rate')\n",
    "plt.legend()\n",
    "plt.show()"
   ]
  },
  {
   "cell_type": "code",
   "execution_count": 14,
   "metadata": {},
   "outputs": [
    {
     "name": "stdout",
     "output_type": "stream",
     "text": [
      "ROC area  0.5\n",
      "True positive rate  1.0\n",
      "False positive rate  1.0\n"
     ]
    }
   ],
   "source": [
    "def get_roc_area_and_rates():\n",
    "    from sklearn.metrics import confusion_matrix,roc_auc_score\n",
    "    tn, fp, fn, tp = confusion_matrix(y_test,y_pred).ravel()\n",
    "    true_positive_rate = (tp)/(tp + fn)\n",
    "    false_positive_rate = (fp)/(tn + fp)\n",
    "    area = roc_auc_score(y_test,y_pred)\n",
    "    print(\"ROC area \",area)\n",
    "    print(\"True positive rate \",true_positive_rate)\n",
    "    print(\"False positive rate \",false_positive_rate)\n",
    "\n",
    "get_roc_area_and_rates()"
   ]
  },
  {
   "cell_type": "code",
   "execution_count": null,
   "metadata": {},
   "outputs": [],
   "source": []
  }
 ],
 "metadata": {
  "kernelspec": {
   "display_name": "Python 3",
   "language": "python",
   "name": "python3"
  },
  "language_info": {
   "codemirror_mode": {
    "name": "ipython",
    "version": 3
   },
   "file_extension": ".py",
   "mimetype": "text/x-python",
   "name": "python",
   "nbconvert_exporter": "python",
   "pygments_lexer": "ipython3",
   "version": "3.7.7"
  }
 },
 "nbformat": 4,
 "nbformat_minor": 4
}
