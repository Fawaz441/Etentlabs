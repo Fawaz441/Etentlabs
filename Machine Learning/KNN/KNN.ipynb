{
  "nbformat": 4,
  "nbformat_minor": 0,
  "metadata": {
    "kernelspec": {
      "display_name": "Python 3",
      "language": "python",
      "name": "python3"
    },
    "language_info": {
      "codemirror_mode": {
        "name": "ipython",
        "version": 3
      },
      "file_extension": ".py",
      "mimetype": "text/x-python",
      "name": "python",
      "nbconvert_exporter": "python",
      "pygments_lexer": "ipython3",
      "version": "3.7.4"
    },
    "colab": {
      "name": "KNN.ipynb",
      "provenance": [],
      "collapsed_sections": []
    }
  },
  "cells": [
    {
      "cell_type": "code",
      "metadata": {
        "id": "r6JFOg7iN-9r",
        "colab_type": "code",
        "colab": {
          "base_uri": "https://localhost:8080/",
          "height": 51
        },
        "outputId": "09d5314f-6b41-4f23-e773-204c3c3fa707"
      },
      "source": [
        "import pandas as pd\n",
        "import numpy as np\n",
        "import re\n",
        "import nltk\n",
        "nltk.download('stopwords')\n",
        "from nltk.corpus import stopwords\n",
        "from sklearn.metrics import accuracy_score,f1_score,recall_score,precision_score,roc_curve\n",
        "from sklearn.neighbors import KNeighborsClassifier\n",
        "from sklearn.feature_extraction.text import CountVectorizer\n",
        "from sklearn.model_selection import train_test_split"
      ],
      "execution_count": 20,
      "outputs": [
        {
          "output_type": "stream",
          "text": [
            "[nltk_data] Downloading package stopwords to /root/nltk_data...\n",
            "[nltk_data]   Unzipping corpora/stopwords.zip.\n"
          ],
          "name": "stdout"
        }
      ]
    },
    {
      "cell_type": "code",
      "metadata": {
        "id": "YVFzjohMN-98",
        "colab_type": "code",
        "colab": {}
      },
      "source": [
        "df = pd.read_csv('/content/sample_data/formspring_data.csv',delimiter='\\t',quoting=3)\n",
        "df = df[['ques','ans1']]  #limiting to question and answer \n",
        "#replacing html symbols\n",
        "df['ques'] = df['ques'].str.replace('&#039;',' ')\n",
        "df['ques'] = df['ques'].str.replace('&quot;',' ')\n",
        "df['ques'] = df['ques'].str.replace('<br>',' ')    "
      ],
      "execution_count": 21,
      "outputs": []
    },
    {
      "cell_type": "code",
      "metadata": {
        "id": "b_jsNgeXN--G",
        "colab_type": "code",
        "colab": {}
      },
      "source": [
        "df = df.dropna()\n",
        "positives = df[df['ans1']=='Yes']\n",
        "negatives = df[df['ans1']=='No']\n",
        "frames = [positives,negatives]"
      ],
      "execution_count": 22,
      "outputs": []
    },
    {
      "cell_type": "code",
      "metadata": {
        "id": "fXJM2bWWN--U",
        "colab_type": "code",
        "colab": {}
      },
      "source": [
        "df = pd.concat(frames)\n",
        "df = df.sample(frac=1)"
      ],
      "execution_count": 23,
      "outputs": []
    },
    {
      "cell_type": "code",
      "metadata": {
        "id": "szRYJ9udN--g",
        "colab_type": "code",
        "colab": {
          "base_uri": "https://localhost:8080/",
          "height": 304
        },
        "outputId": "3c7955a2-1cf2-4912-9d49-049c1d8d0bb3"
      },
      "source": [
        "%matplotlib inline\n",
        "import matplotlib.pyplot as plt\n",
        "\n",
        "df['ans1'].value_counts().plot(kind='bar',title='No of cyberbullying cases')"
      ],
      "execution_count": 24,
      "outputs": [
        {
          "output_type": "execute_result",
          "data": {
            "text/plain": [
              "<matplotlib.axes._subplots.AxesSubplot at 0x7faac7ade908>"
            ]
          },
          "metadata": {
            "tags": []
          },
          "execution_count": 24
        },
        {
          "output_type": "display_data",
          "data": {
            "image/png": "[encoded data removed]",
            "text/plain": [
              "<Figure size 432x288 with 1 Axes>"
            ]
          },
          "metadata": {
            "tags": [],
            "needs_background": "light"
          }
        }
      ]
    },
    {
      "cell_type": "code",
      "metadata": {
        "id": "ofifY0WyN--w",
        "colab_type": "code",
        "colab": {}
      },
      "source": [
        "df['ans1'] = df['ans1'].replace(('Yes','No'),(1,0))\n",
        "bag = []\n",
        "def clean_data(sentence):\n",
        "    sentence = re.sub('[^a-zA-Z]',' ',sentence)\n",
        "    sentence = sentence.lower().split()\n",
        "    words = [word for word in sentence if not word in stopwords.words('english')]\n",
        "    sentence = ' '.join(words)\n",
        "    bag.append(sentence)"
      ],
      "execution_count": 25,
      "outputs": []
    },
    {
      "cell_type": "code",
      "metadata": {
        "id": "jEsyrO_sN--9",
        "colab_type": "code",
        "colab": {
          "base_uri": "https://localhost:8080/",
          "height": 204
        },
        "outputId": "9124f0c8-d920-41a7-a525-162265474f7f"
      },
      "source": [
        "df['ans1'] = df['ans1'].astype(int)\n",
        "df.head()"
      ],
      "execution_count": 26,
      "outputs": [
        {
          "output_type": "execute_result",
          "data": {
            "text/html": [
              "<div>\n",
              "<style scoped>\n",
              "    .dataframe tbody tr th:only-of-type {\n",
              "        vertical-align: middle;\n",
              "    }\n",
              "\n",
              "    .dataframe tbody tr th {\n",
              "        vertical-align: top;\n",
              "    }\n",
              "\n",
              "    .dataframe thead th {\n",
              "        text-align: right;\n",
              "    }\n",
              "</style>\n",
              "<table border=\"1\" class=\"dataframe\">\n",
              "  <thead>\n",
              "    <tr style=\"text-align: right;\">\n",
              "      <th></th>\n",
              "      <th>ques</th>\n",
              "      <th>ans1</th>\n",
              "    </tr>\n",
              "  </thead>\n",
              "  <tbody>\n",
              "    <tr>\n",
              "      <th>4444</th>\n",
              "      <td>thatss coo (x</td>\n",
              "      <td>0</td>\n",
              "    </tr>\n",
              "    <tr>\n",
              "      <th>7277</th>\n",
              "      <td>Would u end up in heaven or hell. Or in purgat...</td>\n",
              "      <td>0</td>\n",
              "    </tr>\n",
              "    <tr>\n",
              "      <th>9669</th>\n",
              "      <td>Twitter Is Dead. Viva La Revolution!</td>\n",
              "      <td>0</td>\n",
              "    </tr>\n",
              "    <tr>\n",
              "      <th>541</th>\n",
              "      <td>Dont squirm motha fucka! its just a syringe. i...</td>\n",
              "      <td>1</td>\n",
              "    </tr>\n",
              "    <tr>\n",
              "      <th>3190</th>\n",
              "      <td>Besides  the chick who&amp;#39;s starting shit won...</td>\n",
              "      <td>1</td>\n",
              "    </tr>\n",
              "  </tbody>\n",
              "</table>\n",
              "</div>"
            ],
            "text/plain": [
              "                                                   ques  ans1\n",
              "4444                                      thatss coo (x     0\n",
              "7277  Would u end up in heaven or hell. Or in purgat...     0\n",
              "9669               Twitter Is Dead. Viva La Revolution!     0\n",
              "541   Dont squirm motha fucka! its just a syringe. i...     1\n",
              "3190  Besides  the chick who&#39;s starting shit won...     1"
            ]
          },
          "metadata": {
            "tags": []
          },
          "execution_count": 26
        }
      ]
    },
    {
      "cell_type": "code",
      "metadata": {
        "id": "CesmXHzCN-_J",
        "colab_type": "code",
        "colab": {
          "base_uri": "https://localhost:8080/",
          "height": 34
        },
        "outputId": "6cf10c10-e80e-486e-e1f4-8e905bdf6e8f"
      },
      "source": [
        "df['ques'].apply(clean_data)\n",
        "len(bag)"
      ],
      "execution_count": 27,
      "outputs": [
        {
          "output_type": "execute_result",
          "data": {
            "text/plain": [
              "12729"
            ]
          },
          "metadata": {
            "tags": []
          },
          "execution_count": 27
        }
      ]
    },
    {
      "cell_type": "code",
      "metadata": {
        "id": "_nTZiWhON-_V",
        "colab_type": "code",
        "colab": {
          "base_uri": "https://localhost:8080/",
          "height": 68
        },
        "outputId": "cd252839-e95d-49dd-8655-4a7ac5f3c5f5"
      },
      "source": [
        "y = df['ans1'].values\n",
        "\n",
        "cv = CountVectorizer()\n",
        "X_train,X_test,y_train,y_test = train_test_split(bag,y,test_size=0.3,random_state=0)  #0.3 in this case\n",
        "cv.fit(X_train)\n",
        "X_train = cv.transform(X_train).toarray() #create sparse matrix \n",
        "X_test = cv.transform(X_test).toarray()\n",
        "clf = KNeighborsClassifier()\n",
        "clf.fit(X_train,y_train)\n"
      ],
      "execution_count": 28,
      "outputs": [
        {
          "output_type": "execute_result",
          "data": {
            "text/plain": [
              "KNeighborsClassifier(algorithm='auto', leaf_size=30, metric='minkowski',\n",
              "                     metric_params=None, n_jobs=None, n_neighbors=5, p=2,\n",
              "                     weights='uniform')"
            ]
          },
          "metadata": {
            "tags": []
          },
          "execution_count": 28
        }
      ]
    },
    {
      "cell_type": "code",
      "metadata": {
        "id": "AjfbE824N-_g",
        "colab_type": "code",
        "colab": {}
      },
      "source": [
        "y_pred = clf.predict(X_test)"
      ],
      "execution_count": 29,
      "outputs": []
    },
    {
      "cell_type": "code",
      "metadata": {
        "id": "-NvxoG-0N-_u",
        "colab_type": "code",
        "colab": {
          "base_uri": "https://localhost:8080/",
          "height": 68
        },
        "outputId": "74bff74c-6895-43da-b993-ee333cf9f2dc"
      },
      "source": [
        "score = accuracy_score(y_test,y_pred)\n",
        "f1_score__ = f1_score(y_test,y_pred)\n",
        "recall = recall_score(y_test,y_pred)\n",
        "print(\"Accuracy => \",score)\n",
        "print(\"Recall => \",recall)\n",
        "print(\"F1 score => \",f1_score__)"
      ],
      "execution_count": 30,
      "outputs": [
        {
          "output_type": "stream",
          "text": [
            "Accuracy =>  0.924063891070961\n",
            "Recall =>  0.10666666666666667\n",
            "F1 score =>  0.1807909604519774\n"
          ],
          "name": "stdout"
        }
      ]
    },
    {
      "cell_type": "code",
      "metadata": {
        "id": "5qTT8F7MN-_3",
        "colab_type": "code",
        "colab": {
          "base_uri": "https://localhost:8080/",
          "height": 34
        },
        "outputId": "02045560-81f1-4049-858e-691711a857fe"
      },
      "source": [
        "precision =  precision_score(y_test,y_pred)\n",
        "precision"
      ],
      "execution_count": 31,
      "outputs": [
        {
          "output_type": "execute_result",
          "data": {
            "text/plain": [
              "0.5925925925925926"
            ]
          },
          "metadata": {
            "tags": []
          },
          "execution_count": 31
        }
      ]
    },
    {
      "cell_type": "code",
      "metadata": {
        "id": "0cQmf67eN_AD",
        "colab_type": "code",
        "colab": {
          "base_uri": "https://localhost:8080/",
          "height": 279
        },
        "outputId": "b27fd4e7-0e5a-4fcf-981e-0861140fc753"
      },
      "source": [
        "fp, tp, treshold = roc_curve(y_test, y_pred)\n",
        "plt.plot(fp, tp, marker='.', label='ROC Curve')\n",
        "plt.xlabel('False Positive Rate')\n",
        "plt.ylabel('True Positive Rate')\n",
        "plt.legend()\n",
        "plt.show()"
      ],
      "execution_count": 32,
      "outputs": [
        {
          "output_type": "display_data",
          "data": {
            "image/png": "[encoded data removed]",
            "text/plain": [
              "<Figure size 432x288 with 1 Axes>"
            ]
          },
          "metadata": {
            "tags": [],
            "needs_background": "light"
          }
        }
      ]
    }
  ]
}