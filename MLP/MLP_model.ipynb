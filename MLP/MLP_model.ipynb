{
  "nbformat": 4,
  "nbformat_minor": 0,
  "metadata": {
    "kernelspec": {
      "display_name": "Python 3",
      "language": "python",
      "name": "python3"
    },
    "language_info": {
      "codemirror_mode": {
        "name": "ipython",
        "version": 3
      },
      "file_extension": ".py",
      "mimetype": "text/x-python",
      "name": "python",
      "nbconvert_exporter": "python",
      "pygments_lexer": "ipython3",
      "version": "3.7.4"
    },
    "colab": {
      "name": "MLP_model.ipynb",
      "provenance": []
    }
  },
  "cells": [
    {
      "cell_type": "code",
      "metadata": {
        "id": "vXDv9MwWEzgp",
        "colab_type": "code",
        "colab": {
          "base_uri": "https://localhost:8080/",
          "height": 68
        },
        "outputId": "15243063-7f30-4e52-8657-fa8b4ea7f2b2"
      },
      "source": [
        "import pandas as pd\n",
        "import numpy as np\n",
        "import nltk\n",
        "nltk.download('stopwords')"
      ],
      "execution_count": 59,
      "outputs": [
        {
          "output_type": "stream",
          "text": [
            "[nltk_data] Downloading package stopwords to /root/nltk_data...\n",
            "[nltk_data]   Package stopwords is already up-to-date!\n"
          ],
          "name": "stdout"
        },
        {
          "output_type": "execute_result",
          "data": {
            "text/plain": [
              "True"
            ]
          },
          "metadata": {
            "tags": []
          },
          "execution_count": 59
        }
      ]
    },
    {
      "cell_type": "code",
      "metadata": {
        "id": "um8P1_DZGcZD",
        "colab_type": "code",
        "colab": {}
      },
      "source": [
        "dataset = pd.read_csv('/content/sample_data/formspring_data.csv',delimiter='\\t',quoting=3)"
      ],
      "execution_count": 60,
      "outputs": []
    },
    {
      "cell_type": "code",
      "metadata": {
        "id": "JDatyjXGHJ7D",
        "colab_type": "code",
        "colab": {}
      },
      "source": [
        "import re\n",
        "bag_of_words = []\n",
        "def clean_words(words):\n",
        "    cleaned_words = re.sub('[^a-zA-Z]',' ',words.lower())\n",
        "    cleaned_words = cleaned_words.split()\n",
        "    words = [word for word in cleaned_words if not word in set(stopwords.words(\"english\"))]\n",
        "    words = ' '.join(words)\n",
        "    bag_of_words.append(words)"
      ],
      "execution_count": 61,
      "outputs": []
    },
    {
      "cell_type": "code",
      "metadata": {
        "id": "v4et6E0RHMeC",
        "colab_type": "code",
        "colab": {}
      },
      "source": [
        "df = dataset[['bully1','ans1']]"
      ],
      "execution_count": 62,
      "outputs": []
    },
    {
      "cell_type": "code",
      "metadata": {
        "id": "QqsJ2gVzHWF5",
        "colab_type": "code",
        "colab": {}
      },
      "source": [
        "df = df.dropna()"
      ],
      "execution_count": 63,
      "outputs": []
    },
    {
      "cell_type": "code",
      "metadata": {
        "id": "02PXqewPHX1c",
        "colab_type": "code",
        "colab": {}
      },
      "source": [
        "holder = df['bully1'] != 'None'\n",
        "df = df[holder]"
      ],
      "execution_count": 64,
      "outputs": []
    },
    {
      "cell_type": "code",
      "metadata": {
        "id": "_3pPapYcHlNj",
        "colab_type": "code",
        "colab": {
          "base_uri": "https://localhost:8080/",
          "height": 419
        },
        "outputId": "9c0ca87a-59c8-484b-936a-06ad76b221b4"
      },
      "source": [
        "df"
      ],
      "execution_count": 65,
      "outputs": [
        {
          "output_type": "execute_result",
          "data": {
            "text/html": [
              "<div>\n",
              "<style scoped>\n",
              "    .dataframe tbody tr th:only-of-type {\n",
              "        vertical-align: middle;\n",
              "    }\n",
              "\n",
              "    .dataframe tbody tr th {\n",
              "        vertical-align: top;\n",
              "    }\n",
              "\n",
              "    .dataframe thead th {\n",
              "        text-align: right;\n",
              "    }\n",
              "</style>\n",
              "<table border=\"1\" class=\"dataframe\">\n",
              "  <thead>\n",
              "    <tr style=\"text-align: right;\">\n",
              "      <th></th>\n",
              "      <th>bully1</th>\n",
              "      <th>ans1</th>\n",
              "    </tr>\n",
              "  </thead>\n",
              "  <tbody>\n",
              "    <tr>\n",
              "      <th>28</th>\n",
              "      <td>fake a$$ friend!!&lt;/3</td>\n",
              "      <td>No</td>\n",
              "    </tr>\n",
              "    <tr>\n",
              "      <th>38</th>\n",
              "      <td>Ur a fuckin idiot!</td>\n",
              "      <td>Yes</td>\n",
              "    </tr>\n",
              "    <tr>\n",
              "      <th>56</th>\n",
              "      <td>Hello bitch!</td>\n",
              "      <td>Yes</td>\n",
              "    </tr>\n",
              "    <tr>\n",
              "      <th>62</th>\n",
              "      <td>\"\"\"\"\"\"\"why you such a bitch?\"\"\"\"\"\"\"</td>\n",
              "      <td>Yes</td>\n",
              "    </tr>\n",
              "    <tr>\n",
              "      <th>68</th>\n",
              "      <td>Who the hell are yuh!!! And who tha fuck is mi...</td>\n",
              "      <td>Yes</td>\n",
              "    </tr>\n",
              "    <tr>\n",
              "      <th>...</th>\n",
              "      <td>...</td>\n",
              "      <td>...</td>\n",
              "    </tr>\n",
              "    <tr>\n",
              "      <th>12842</th>\n",
              "      <td>rather cheat or be cheated on?</td>\n",
              "      <td>Yes</td>\n",
              "    </tr>\n",
              "    <tr>\n",
              "      <th>12865</th>\n",
              "      <td>we both lifted up our legs and she went flying...</td>\n",
              "      <td>Yes</td>\n",
              "    </tr>\n",
              "    <tr>\n",
              "      <th>12871</th>\n",
              "      <td>piece of shit</td>\n",
              "      <td>Yes</td>\n",
              "    </tr>\n",
              "    <tr>\n",
              "      <th>12883</th>\n",
              "      <td>\"\"\"Referring to the other user as a \"\"\"\"Dumbas...</td>\n",
              "      <td>Yes</td>\n",
              "    </tr>\n",
              "    <tr>\n",
              "      <th>12895</th>\n",
              "      <td>fake scaredyy cat</td>\n",
              "      <td>Yes</td>\n",
              "    </tr>\n",
              "  </tbody>\n",
              "</table>\n",
              "<p>1303 rows × 2 columns</p>\n",
              "</div>"
            ],
            "text/plain": [
              "                                                  bully1 ans1\n",
              "28                                  fake a$$ friend!!</3   No\n",
              "38                                    Ur a fuckin idiot!  Yes\n",
              "56                                          Hello bitch!  Yes\n",
              "62                   \"\"\"\"\"\"\"why you such a bitch?\"\"\"\"\"\"\"  Yes\n",
              "68     Who the hell are yuh!!! And who tha fuck is mi...  Yes\n",
              "...                                                  ...  ...\n",
              "12842                     rather cheat or be cheated on?  Yes\n",
              "12865  we both lifted up our legs and she went flying...  Yes\n",
              "12871                                      piece of shit  Yes\n",
              "12883  \"\"\"Referring to the other user as a \"\"\"\"Dumbas...  Yes\n",
              "12895                                  fake scaredyy cat  Yes\n",
              "\n",
              "[1303 rows x 2 columns]"
            ]
          },
          "metadata": {
            "tags": []
          },
          "execution_count": 65
        }
      ]
    },
    {
      "cell_type": "code",
      "metadata": {
        "id": "cXVteg2IHmHS",
        "colab_type": "code",
        "colab": {}
      },
      "source": [
        "df.ans1 = df.ans1.replace((\"No\",\"Yes\"),(0,1))"
      ],
      "execution_count": 66,
      "outputs": []
    },
    {
      "cell_type": "code",
      "metadata": {
        "id": "dUFPEIUWHtwG",
        "colab_type": "code",
        "colab": {}
      },
      "source": [
        "df['ans1'] = df['ans1'].astype(int)"
      ],
      "execution_count": 68,
      "outputs": []
    },
    {
      "cell_type": "code",
      "metadata": {
        "id": "IzNLVFmFH6NC",
        "colab_type": "code",
        "colab": {}
      },
      "source": [
        "for word in df['bully1']:\n",
        "    clean_words(word)"
      ],
      "execution_count": 74,
      "outputs": []
    },
    {
      "cell_type": "code",
      "metadata": {
        "id": "nctKwVdSJgJu",
        "colab_type": "code",
        "colab": {}
      },
      "source": [
        "X,y = np.array(bag_of_words),df['ans1'].values"
      ],
      "execution_count": 88,
      "outputs": []
    },
    {
      "cell_type": "code",
      "metadata": {
        "id": "iMJeYJCmIBHe",
        "colab_type": "code",
        "colab": {}
      },
      "source": [
        "from sklearn.model_selection import train_test_split\n",
        "X_train, X_test, y_train, y_test = train_test_split(X, y, test_size=0.25, random_state=0)"
      ],
      "execution_count": 91,
      "outputs": []
    },
    {
      "cell_type": "code",
      "metadata": {
        "id": "w1OkmFWyIphw",
        "colab_type": "code",
        "colab": {}
      },
      "source": [
        "from sklearn.feature_extraction.text import CountVectorizer\n",
        "vectorizer = CountVectorizer()\n",
        "vectorizer.fit(X_train)\n",
        "X_train = vectorizer.transform(X_train)\n",
        "X_test = vectorizer.transform(X_test)"
      ],
      "execution_count": 92,
      "outputs": []
    },
    {
      "cell_type": "code",
      "metadata": {
        "id": "PQCj8t2iKP7l",
        "colab_type": "code",
        "colab": {
          "base_uri": "https://localhost:8080/",
          "height": 51
        },
        "outputId": "6c0b9b13-114d-44f6-efa6-304f9737567b"
      },
      "source": [
        "X_train"
      ],
      "execution_count": 94,
      "outputs": [
        {
          "output_type": "execute_result",
          "data": {
            "text/plain": [
              "<977x1410 sparse matrix of type '<class 'numpy.int64'>'\n",
              "\twith 3197 stored elements in Compressed Sparse Row format>"
            ]
          },
          "metadata": {
            "tags": []
          },
          "execution_count": 94
        }
      ]
    },
    {
      "cell_type": "code",
      "metadata": {
        "id": "Th2UxlfaK9s5",
        "colab_type": "code",
        "colab": {}
      },
      "source": [
        "from tensorflow.keras.models import Sequential\n",
        "from tensorflow.keras.layers import Dense"
      ],
      "execution_count": 96,
      "outputs": []
    },
    {
      "cell_type": "code",
      "metadata": {
        "id": "uc92IAMeLR_M",
        "colab_type": "code",
        "colab": {}
      },
      "source": [
        "input_dim = X_train.shape[1]\n",
        "model = Sequential()\n",
        "model.add(Dense(25,activation='relu',input_dim=input_dim))\n",
        "model.add(Dense(1,activation='sigmoid'))"
      ],
      "execution_count": 97,
      "outputs": []
    },
    {
      "cell_type": "code",
      "metadata": {
        "id": "ke36OwFfMGPs",
        "colab_type": "code",
        "colab": {}
      },
      "source": [
        "model.compile(loss='binary_crossentropy',optimizer='adam',metrics=['accuracy'])"
      ],
      "execution_count": 98,
      "outputs": []
    },
    {
      "cell_type": "code",
      "metadata": {
        "id": "UuLvgS33MRxG",
        "colab_type": "code",
        "colab": {
          "base_uri": "https://localhost:8080/",
          "height": 221
        },
        "outputId": "b3f13fa9-4a87-4d49-a3c9-028f565916e2"
      },
      "source": [
        "model.summary()"
      ],
      "execution_count": 99,
      "outputs": [
        {
          "output_type": "stream",
          "text": [
            "Model: \"sequential_1\"\n",
            "_________________________________________________________________\n",
            "Layer (type)                 Output Shape              Param #   \n",
            "=================================================================\n",
            "dense_2 (Dense)              (None, 25)                35275     \n",
            "_________________________________________________________________\n",
            "dense_3 (Dense)              (None, 1)                 26        \n",
            "=================================================================\n",
            "Total params: 35,301\n",
            "Trainable params: 35,301\n",
            "Non-trainable params: 0\n",
            "_________________________________________________________________\n"
          ],
          "name": "stdout"
        }
      ]
    },
    {
      "cell_type": "code",
      "metadata": {
        "id": "O_oZFfJ0MUWf",
        "colab_type": "code",
        "colab": {
          "base_uri": "https://localhost:8080/",
          "height": 1000
        },
        "outputId": "9538034d-e720-49bc-abab-a69faa703eca"
      },
      "source": [
        "history = model.fit(X_train,y_train,batch_size=25,epochs=70,verbose=2,validation_data=(X_test,y_test))"
      ],
      "execution_count": 109,
      "outputs": [
        {
          "output_type": "stream",
          "text": [
            "Epoch 1/70\n",
            "40/40 - 0s - loss: 0.0373 - accuracy: 0.9898 - val_loss: 0.7665 - val_accuracy: 0.8160\n",
            "Epoch 2/70\n",
            "40/40 - 0s - loss: 0.0373 - accuracy: 0.9898 - val_loss: 0.7657 - val_accuracy: 0.8160\n",
            "Epoch 3/70\n",
            "40/40 - 0s - loss: 0.0372 - accuracy: 0.9898 - val_loss: 0.7671 - val_accuracy: 0.8160\n",
            "Epoch 4/70\n",
            "40/40 - 0s - loss: 0.0373 - accuracy: 0.9898 - val_loss: 0.7735 - val_accuracy: 0.8160\n",
            "Epoch 5/70\n",
            "40/40 - 0s - loss: 0.0372 - accuracy: 0.9898 - val_loss: 0.7705 - val_accuracy: 0.8160\n",
            "Epoch 6/70\n",
            "40/40 - 0s - loss: 0.0373 - accuracy: 0.9898 - val_loss: 0.7685 - val_accuracy: 0.8160\n",
            "Epoch 7/70\n",
            "40/40 - 0s - loss: 0.0372 - accuracy: 0.9898 - val_loss: 0.7727 - val_accuracy: 0.8160\n",
            "Epoch 8/70\n",
            "40/40 - 0s - loss: 0.0372 - accuracy: 0.9898 - val_loss: 0.7738 - val_accuracy: 0.8160\n",
            "Epoch 9/70\n",
            "40/40 - 0s - loss: 0.0372 - accuracy: 0.9898 - val_loss: 0.7735 - val_accuracy: 0.8160\n",
            "Epoch 10/70\n",
            "40/40 - 0s - loss: 0.0372 - accuracy: 0.9898 - val_loss: 0.7749 - val_accuracy: 0.8160\n",
            "Epoch 11/70\n",
            "40/40 - 0s - loss: 0.0372 - accuracy: 0.9898 - val_loss: 0.7733 - val_accuracy: 0.8160\n",
            "Epoch 12/70\n",
            "40/40 - 0s - loss: 0.0371 - accuracy: 0.9898 - val_loss: 0.7764 - val_accuracy: 0.8160\n",
            "Epoch 13/70\n",
            "40/40 - 0s - loss: 0.0373 - accuracy: 0.9898 - val_loss: 0.7732 - val_accuracy: 0.8160\n",
            "Epoch 14/70\n",
            "40/40 - 0s - loss: 0.0372 - accuracy: 0.9898 - val_loss: 0.7770 - val_accuracy: 0.8160\n",
            "Epoch 15/70\n",
            "40/40 - 0s - loss: 0.0372 - accuracy: 0.9898 - val_loss: 0.7720 - val_accuracy: 0.8160\n",
            "Epoch 16/70\n",
            "40/40 - 0s - loss: 0.0371 - accuracy: 0.9898 - val_loss: 0.7756 - val_accuracy: 0.8160\n",
            "Epoch 17/70\n",
            "40/40 - 0s - loss: 0.0372 - accuracy: 0.9898 - val_loss: 0.7760 - val_accuracy: 0.8160\n",
            "Epoch 18/70\n",
            "40/40 - 0s - loss: 0.0372 - accuracy: 0.9898 - val_loss: 0.7741 - val_accuracy: 0.8160\n",
            "Epoch 19/70\n",
            "40/40 - 0s - loss: 0.0371 - accuracy: 0.9898 - val_loss: 0.7782 - val_accuracy: 0.8160\n",
            "Epoch 20/70\n",
            "40/40 - 0s - loss: 0.0372 - accuracy: 0.9898 - val_loss: 0.7781 - val_accuracy: 0.8160\n",
            "Epoch 21/70\n",
            "40/40 - 0s - loss: 0.0371 - accuracy: 0.9898 - val_loss: 0.7808 - val_accuracy: 0.8160\n",
            "Epoch 22/70\n",
            "40/40 - 0s - loss: 0.0372 - accuracy: 0.9898 - val_loss: 0.7785 - val_accuracy: 0.8160\n",
            "Epoch 23/70\n",
            "40/40 - 0s - loss: 0.0371 - accuracy: 0.9898 - val_loss: 0.7811 - val_accuracy: 0.8160\n",
            "Epoch 24/70\n",
            "40/40 - 0s - loss: 0.0371 - accuracy: 0.9898 - val_loss: 0.7807 - val_accuracy: 0.8160\n",
            "Epoch 25/70\n",
            "40/40 - 0s - loss: 0.0372 - accuracy: 0.9898 - val_loss: 0.7772 - val_accuracy: 0.8160\n",
            "Epoch 26/70\n",
            "40/40 - 0s - loss: 0.0371 - accuracy: 0.9898 - val_loss: 0.7810 - val_accuracy: 0.8160\n",
            "Epoch 27/70\n",
            "40/40 - 0s - loss: 0.0371 - accuracy: 0.9898 - val_loss: 0.7820 - val_accuracy: 0.8160\n",
            "Epoch 28/70\n",
            "40/40 - 0s - loss: 0.0371 - accuracy: 0.9898 - val_loss: 0.7818 - val_accuracy: 0.8160\n",
            "Epoch 29/70\n",
            "40/40 - 0s - loss: 0.0373 - accuracy: 0.9898 - val_loss: 0.7853 - val_accuracy: 0.8160\n",
            "Epoch 30/70\n",
            "40/40 - 0s - loss: 0.0371 - accuracy: 0.9898 - val_loss: 0.7826 - val_accuracy: 0.8160\n",
            "Epoch 31/70\n",
            "40/40 - 0s - loss: 0.0373 - accuracy: 0.9898 - val_loss: 0.7863 - val_accuracy: 0.8160\n",
            "Epoch 32/70\n",
            "40/40 - 0s - loss: 0.0371 - accuracy: 0.9898 - val_loss: 0.7803 - val_accuracy: 0.8160\n",
            "Epoch 33/70\n",
            "40/40 - 0s - loss: 0.0371 - accuracy: 0.9898 - val_loss: 0.7812 - val_accuracy: 0.8160\n",
            "Epoch 34/70\n",
            "40/40 - 0s - loss: 0.0371 - accuracy: 0.9898 - val_loss: 0.7831 - val_accuracy: 0.8160\n",
            "Epoch 35/70\n",
            "40/40 - 0s - loss: 0.0371 - accuracy: 0.9898 - val_loss: 0.7872 - val_accuracy: 0.8160\n",
            "Epoch 36/70\n",
            "40/40 - 0s - loss: 0.0371 - accuracy: 0.9898 - val_loss: 0.7913 - val_accuracy: 0.8160\n",
            "Epoch 37/70\n",
            "40/40 - 0s - loss: 0.0371 - accuracy: 0.9898 - val_loss: 0.7931 - val_accuracy: 0.8160\n",
            "Epoch 38/70\n",
            "40/40 - 0s - loss: 0.0373 - accuracy: 0.9898 - val_loss: 0.7816 - val_accuracy: 0.8160\n",
            "Epoch 39/70\n",
            "40/40 - 0s - loss: 0.0372 - accuracy: 0.9898 - val_loss: 0.7908 - val_accuracy: 0.8160\n",
            "Epoch 40/70\n",
            "40/40 - 0s - loss: 0.0372 - accuracy: 0.9898 - val_loss: 0.7980 - val_accuracy: 0.8160\n",
            "Epoch 41/70\n",
            "40/40 - 0s - loss: 0.0371 - accuracy: 0.9898 - val_loss: 0.7956 - val_accuracy: 0.8160\n",
            "Epoch 42/70\n",
            "40/40 - 0s - loss: 0.0370 - accuracy: 0.9898 - val_loss: 0.7977 - val_accuracy: 0.8160\n",
            "Epoch 43/70\n",
            "40/40 - 0s - loss: 0.0371 - accuracy: 0.9898 - val_loss: 0.7975 - val_accuracy: 0.8160\n",
            "Epoch 44/70\n",
            "40/40 - 0s - loss: 0.0370 - accuracy: 0.9898 - val_loss: 0.7974 - val_accuracy: 0.8160\n",
            "Epoch 45/70\n",
            "40/40 - 0s - loss: 0.0370 - accuracy: 0.9898 - val_loss: 0.7962 - val_accuracy: 0.8160\n",
            "Epoch 46/70\n",
            "40/40 - 0s - loss: 0.0370 - accuracy: 0.9898 - val_loss: 0.7965 - val_accuracy: 0.8160\n",
            "Epoch 47/70\n",
            "40/40 - 0s - loss: 0.0370 - accuracy: 0.9898 - val_loss: 0.7957 - val_accuracy: 0.8160\n",
            "Epoch 48/70\n",
            "40/40 - 0s - loss: 0.0374 - accuracy: 0.9898 - val_loss: 0.7976 - val_accuracy: 0.8160\n",
            "Epoch 49/70\n",
            "40/40 - 0s - loss: 0.0371 - accuracy: 0.9898 - val_loss: 0.8010 - val_accuracy: 0.8160\n",
            "Epoch 50/70\n",
            "40/40 - 0s - loss: 0.0371 - accuracy: 0.9898 - val_loss: 0.8029 - val_accuracy: 0.8160\n",
            "Epoch 51/70\n",
            "40/40 - 0s - loss: 0.0370 - accuracy: 0.9898 - val_loss: 0.7966 - val_accuracy: 0.8160\n",
            "Epoch 52/70\n",
            "40/40 - 0s - loss: 0.0370 - accuracy: 0.9898 - val_loss: 0.8002 - val_accuracy: 0.8160\n",
            "Epoch 53/70\n",
            "40/40 - 0s - loss: 0.0370 - accuracy: 0.9898 - val_loss: 0.8004 - val_accuracy: 0.8160\n",
            "Epoch 54/70\n",
            "40/40 - 0s - loss: 0.0373 - accuracy: 0.9898 - val_loss: 0.7920 - val_accuracy: 0.8160\n",
            "Epoch 55/70\n",
            "40/40 - 0s - loss: 0.0371 - accuracy: 0.9898 - val_loss: 0.8016 - val_accuracy: 0.8160\n",
            "Epoch 56/70\n",
            "40/40 - 0s - loss: 0.0370 - accuracy: 0.9898 - val_loss: 0.8027 - val_accuracy: 0.8160\n",
            "Epoch 57/70\n",
            "40/40 - 0s - loss: 0.0370 - accuracy: 0.9898 - val_loss: 0.8040 - val_accuracy: 0.8160\n",
            "Epoch 58/70\n",
            "40/40 - 0s - loss: 0.0370 - accuracy: 0.9898 - val_loss: 0.8064 - val_accuracy: 0.8160\n",
            "Epoch 59/70\n",
            "40/40 - 0s - loss: 0.0370 - accuracy: 0.9898 - val_loss: 0.8040 - val_accuracy: 0.8160\n",
            "Epoch 60/70\n",
            "40/40 - 0s - loss: 0.0371 - accuracy: 0.9898 - val_loss: 0.8009 - val_accuracy: 0.8160\n",
            "Epoch 61/70\n",
            "40/40 - 0s - loss: 0.0371 - accuracy: 0.9898 - val_loss: 0.8089 - val_accuracy: 0.8160\n",
            "Epoch 62/70\n",
            "40/40 - 0s - loss: 0.0371 - accuracy: 0.9898 - val_loss: 0.8058 - val_accuracy: 0.8160\n",
            "Epoch 63/70\n",
            "40/40 - 0s - loss: 0.0370 - accuracy: 0.9898 - val_loss: 0.8072 - val_accuracy: 0.8160\n",
            "Epoch 64/70\n",
            "40/40 - 0s - loss: 0.0370 - accuracy: 0.9898 - val_loss: 0.8054 - val_accuracy: 0.8160\n",
            "Epoch 65/70\n",
            "40/40 - 0s - loss: 0.0370 - accuracy: 0.9898 - val_loss: 0.8055 - val_accuracy: 0.8160\n",
            "Epoch 66/70\n",
            "40/40 - 0s - loss: 0.0373 - accuracy: 0.9898 - val_loss: 0.8104 - val_accuracy: 0.8160\n",
            "Epoch 67/70\n",
            "40/40 - 0s - loss: 0.0371 - accuracy: 0.9898 - val_loss: 0.8024 - val_accuracy: 0.8160\n",
            "Epoch 68/70\n",
            "40/40 - 0s - loss: 0.0370 - accuracy: 0.9898 - val_loss: 0.8087 - val_accuracy: 0.8160\n",
            "Epoch 69/70\n",
            "40/40 - 0s - loss: 0.0371 - accuracy: 0.9898 - val_loss: 0.8131 - val_accuracy: 0.8160\n",
            "Epoch 70/70\n",
            "40/40 - 0s - loss: 0.0371 - accuracy: 0.9898 - val_loss: 0.8080 - val_accuracy: 0.8160\n"
          ],
          "name": "stdout"
        }
      ]
    },
    {
      "cell_type": "code",
      "metadata": {
        "id": "KibjuDPoMtN9",
        "colab_type": "code",
        "colab": {}
      },
      "source": [
        "def pre(words):\n",
        "    words = cv.transform(words).toarray()\n",
        "    prediction = model.predict(words)\n",
        "    return prediction"
      ],
      "execution_count": 106,
      "outputs": []
    },
    {
      "cell_type": "code",
      "metadata": {
        "id": "CqodBMB8O1cz",
        "colab_type": "code",
        "colab": {}
      },
      "source": [
        "# Scores\n",
        "y_pred = model.predict(X_test)\n",
        "from sklearn.metrics import accuracy_score,recall_score,f1_score\n",
        "# Using treshold of .5\n",
        "y_pred = (y_pred > 0.5)\n"
      ],
      "execution_count": 116,
      "outputs": []
    },
    {
      "cell_type": "code",
      "metadata": {
        "id": "lT2wt6ZjPCq4",
        "colab_type": "code",
        "colab": {
          "base_uri": "https://localhost:8080/",
          "height": 68
        },
        "outputId": "4ac69999-927b-411b-cce2-3b2e2bba4657"
      },
      "source": [
        "acc = accuracy_score(y_test,y_pred)\n",
        "recall = recall_score(y_test,y_pred)\n",
        "f1 = f1_score(y_test,y_pred)\n",
        "\n",
        "print(\"Accuracy = \",acc)\n",
        "print(\"Recall = \",recall)\n",
        "print(\"F1 Score = \",f1)"
      ],
      "execution_count": 117,
      "outputs": [
        {
          "output_type": "stream",
          "text": [
            "Accuracy =  0.8159509202453987\n",
            "Recall =  0.7883817427385892\n",
            "F1 Score =  0.8636363636363636\n"
          ],
          "name": "stdout"
        }
      ]
    },
    {
      "cell_type": "code",
      "metadata": {
        "id": "bgmv21h7QXVg",
        "colab_type": "code",
        "colab": {}
      },
      "source": [
        ""
      ],
      "execution_count": null,
      "outputs": []
    }
  ]
}