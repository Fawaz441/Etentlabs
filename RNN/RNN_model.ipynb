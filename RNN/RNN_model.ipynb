{
  "nbformat": 4,
  "nbformat_minor": 0,
  "metadata": {
    "colab": {
      "name": "RNN_model.ipynb",
      "provenance": [],
      "collapsed_sections": []
    },
    "kernelspec": {
      "name": "python3",
      "display_name": "Python 3"
    }
  },
  "cells": [
    {
      "cell_type": "code",
      "metadata": {
        "id": "dMVin-OR1wfS",
        "colab_type": "code",
        "colab": {
          "base_uri": "https://localhost:8080/",
          "height": 51
        },
        "outputId": "63e10a51-994e-47cf-aa1a-bd1ac20c0731"
      },
      "source": [
        "from tensorflow.keras.layers import Dense,Embedding,LSTM,Dropout\n",
        "from tensorflow.keras.models import Sequential\n",
        "from tensorflow.keras.preprocessing import sequence\n",
        "from tensorflow.keras.preprocessing.text import Tokenizer\n",
        "import nltk\n",
        "nltk.download('stopwords')\n",
        "from nltk.corpus import stopwords\n",
        "import pandas as pd"
      ],
      "execution_count": 2,
      "outputs": [
        {
          "output_type": "stream",
          "text": [
            "[nltk_data] Downloading package stopwords to /root/nltk_data...\n",
            "[nltk_data]   Unzipping corpora/stopwords.zip.\n"
          ],
          "name": "stdout"
        }
      ]
    },
    {
      "cell_type": "code",
      "metadata": {
        "id": "OoTf9sev2Gjf",
        "colab_type": "code",
        "colab": {}
      },
      "source": [
        "df = pd.read_csv('/content/formspring_data.csv',delimiter='\\t',quoting=3)"
      ],
      "execution_count": 13,
      "outputs": []
    },
    {
      "cell_type": "code",
      "metadata": {
        "id": "_pQwSRuG47zk",
        "colab_type": "code",
        "colab": {}
      },
      "source": [
        "a = df['ans1'] == df['ans2']\n",
        "b = df['ans2'] == df['ans3']\n",
        "c = df['ans3'] == df['ans1']"
      ],
      "execution_count": 14,
      "outputs": []
    },
    {
      "cell_type": "code",
      "metadata": {
        "id": "puTDx8OZ493G",
        "colab_type": "code",
        "colab": {}
      },
      "source": [
        "df = df[a & b & c]"
      ],
      "execution_count": 15,
      "outputs": []
    },
    {
      "cell_type": "code",
      "metadata": {
        "id": "lxacvJyI7RjJ",
        "colab_type": "code",
        "colab": {}
      },
      "source": [
        "df = df[df['ans1'].notna()]"
      ],
      "execution_count": 16,
      "outputs": []
    },
    {
      "cell_type": "code",
      "metadata": {
        "id": "kcwLoG8s7SZh",
        "colab_type": "code",
        "colab": {
          "base_uri": "https://localhost:8080/",
          "height": 898
        },
        "outputId": "e283af51-9741-4ec1-9761-a841f763e393"
      },
      "source": [
        "df"
      ],
      "execution_count": 17,
      "outputs": [
        {
          "output_type": "execute_result",
          "data": {
            "text/html": [
              "<div>\n",
              "<style scoped>\n",
              "    .dataframe tbody tr th:only-of-type {\n",
              "        vertical-align: middle;\n",
              "    }\n",
              "\n",
              "    .dataframe tbody tr th {\n",
              "        vertical-align: top;\n",
              "    }\n",
              "\n",
              "    .dataframe thead th {\n",
              "        text-align: right;\n",
              "    }\n",
              "</style>\n",
              "<table border=\"1\" class=\"dataframe\">\n",
              "  <thead>\n",
              "    <tr style=\"text-align: right;\">\n",
              "      <th></th>\n",
              "      <th>userid</th>\n",
              "      <th>post</th>\n",
              "      <th>ques</th>\n",
              "      <th>ans</th>\n",
              "      <th>asker</th>\n",
              "      <th>ans1</th>\n",
              "      <th>severity1</th>\n",
              "      <th>bully1</th>\n",
              "      <th>ans2</th>\n",
              "      <th>severity2</th>\n",
              "      <th>bully2</th>\n",
              "      <th>ans3</th>\n",
              "      <th>severity3</th>\n",
              "      <th>bully3</th>\n",
              "    </tr>\n",
              "  </thead>\n",
              "  <tbody>\n",
              "    <tr>\n",
              "      <th>0</th>\n",
              "      <td>aguitarplayer94</td>\n",
              "      <td>Q: what&amp;#039;s your favorite song? :D&lt;br&gt;A: I ...</td>\n",
              "      <td>what&amp;#039;s your favorite song? :D&lt;br&gt;</td>\n",
              "      <td>I like too many songs to have a favorite</td>\n",
              "      <td>None</td>\n",
              "      <td>No</td>\n",
              "      <td>0</td>\n",
              "      <td>NaN</td>\n",
              "      <td>No</td>\n",
              "      <td>0</td>\n",
              "      <td>NaN</td>\n",
              "      <td>No</td>\n",
              "      <td>0</td>\n",
              "      <td>NaN</td>\n",
              "    </tr>\n",
              "    <tr>\n",
              "      <th>1</th>\n",
              "      <td>aprilpooh15</td>\n",
              "      <td>Q: &lt;3&lt;br&gt;A: &lt;/3 ? haha jk! &lt;33</td>\n",
              "      <td>&lt;3</td>\n",
              "      <td>&lt;/3 ? haha jk! &lt;33</td>\n",
              "      <td>None</td>\n",
              "      <td>No</td>\n",
              "      <td>0</td>\n",
              "      <td>NaN</td>\n",
              "      <td>No</td>\n",
              "      <td>0</td>\n",
              "      <td>NaN</td>\n",
              "      <td>No</td>\n",
              "      <td>0</td>\n",
              "      <td>NaN</td>\n",
              "    </tr>\n",
              "    <tr>\n",
              "      <th>2</th>\n",
              "      <td>aprilpooh15</td>\n",
              "      <td>Q: &amp;quot;hey angel  you duh sexy&amp;quot;&lt;br&gt;A: R...</td>\n",
              "      <td>&amp;quot;hey angel  you duh sexy&amp;quot;</td>\n",
              "      <td>Really?!?! Thanks?! haha</td>\n",
              "      <td>None</td>\n",
              "      <td>No</td>\n",
              "      <td>0</td>\n",
              "      <td>NaN</td>\n",
              "      <td>No</td>\n",
              "      <td>0</td>\n",
              "      <td>NaN</td>\n",
              "      <td>No</td>\n",
              "      <td>0</td>\n",
              "      <td>NaN</td>\n",
              "    </tr>\n",
              "    <tr>\n",
              "      <th>3</th>\n",
              "      <td>aprilpooh15</td>\n",
              "      <td>Q: (:&lt;br&gt;A: ;(</td>\n",
              "      <td>(:</td>\n",
              "      <td>;(</td>\n",
              "      <td>None</td>\n",
              "      <td>No</td>\n",
              "      <td>0</td>\n",
              "      <td>NaN</td>\n",
              "      <td>No</td>\n",
              "      <td>0</td>\n",
              "      <td>NaN</td>\n",
              "      <td>No</td>\n",
              "      <td>0</td>\n",
              "      <td>NaN</td>\n",
              "    </tr>\n",
              "    <tr>\n",
              "      <th>4</th>\n",
              "      <td>aprilpooh15</td>\n",
              "      <td>Q: ******************MEOWWW*******************...</td>\n",
              "      <td>******************MEOWWW*************************</td>\n",
              "      <td>*RAWR*?</td>\n",
              "      <td>None</td>\n",
              "      <td>No</td>\n",
              "      <td>0</td>\n",
              "      <td>NaN</td>\n",
              "      <td>No</td>\n",
              "      <td>0</td>\n",
              "      <td>NaN</td>\n",
              "      <td>No</td>\n",
              "      <td>0</td>\n",
              "      <td>NaN</td>\n",
              "    </tr>\n",
              "    <tr>\n",
              "      <th>...</th>\n",
              "      <td>...</td>\n",
              "      <td>...</td>\n",
              "      <td>...</td>\n",
              "      <td>...</td>\n",
              "      <td>...</td>\n",
              "      <td>...</td>\n",
              "      <td>...</td>\n",
              "      <td>...</td>\n",
              "      <td>...</td>\n",
              "      <td>...</td>\n",
              "      <td>...</td>\n",
              "      <td>...</td>\n",
              "      <td>...</td>\n",
              "      <td>...</td>\n",
              "    </tr>\n",
              "    <tr>\n",
              "      <th>12889</th>\n",
              "      <td>outlaw9000</td>\n",
              "      <td>Q: Your parents are divorced. One of them gets...</td>\n",
              "      <td>Your parents are divorced. One of them gets ma...</td>\n",
              "      <td>Not incest  because we would not be related s...</td>\n",
              "      <td>None</td>\n",
              "      <td>No</td>\n",
              "      <td>0</td>\n",
              "      <td>NaN</td>\n",
              "      <td>No</td>\n",
              "      <td>0</td>\n",
              "      <td>NaN</td>\n",
              "      <td>No</td>\n",
              "      <td>0</td>\n",
              "      <td>NaN</td>\n",
              "    </tr>\n",
              "    <tr>\n",
              "      <th>12891</th>\n",
              "      <td>outlaw9000</td>\n",
              "      <td>Q: Youre at a party and your friend who drove ...</td>\n",
              "      <td>Youre at a party and your friend who drove you...</td>\n",
              "      <td>take the battery cable off   and make her sta...</td>\n",
              "      <td>None</td>\n",
              "      <td>No</td>\n",
              "      <td>0</td>\n",
              "      <td>NaN</td>\n",
              "      <td>No</td>\n",
              "      <td>0</td>\n",
              "      <td>NaN</td>\n",
              "      <td>No</td>\n",
              "      <td>0</td>\n",
              "      <td>NaN</td>\n",
              "    </tr>\n",
              "    <tr>\n",
              "      <th>12892</th>\n",
              "      <td>outlaw9000</td>\n",
              "      <td>Q: Youu2019re awesome :] Give yourself a compl...</td>\n",
              "      <td>Youu2019re awesome :] Give yourself a complime...</td>\n",
              "      <td>thank you ! ! I AM Awesome ! !</td>\n",
              "      <td>None</td>\n",
              "      <td>No</td>\n",
              "      <td>0</td>\n",
              "      <td>None</td>\n",
              "      <td>No</td>\n",
              "      <td>0</td>\n",
              "      <td>NaN</td>\n",
              "      <td>No</td>\n",
              "      <td>0</td>\n",
              "      <td>NaN</td>\n",
              "    </tr>\n",
              "    <tr>\n",
              "      <th>12893</th>\n",
              "      <td>outlaw9000</td>\n",
              "      <td>Q: Yu play with yurself ?&lt;br&gt;A: all the time. ...</td>\n",
              "      <td>Yu play with yurself ?</td>\n",
              "      <td>all the time. sometimes more than once a day</td>\n",
              "      <td>None</td>\n",
              "      <td>No</td>\n",
              "      <td>0</td>\n",
              "      <td>NaN</td>\n",
              "      <td>No</td>\n",
              "      <td>0</td>\n",
              "      <td>NaN</td>\n",
              "      <td>No</td>\n",
              "      <td>0</td>\n",
              "      <td>NaN</td>\n",
              "    </tr>\n",
              "    <tr>\n",
              "      <th>12894</th>\n",
              "      <td>outlaw9000</td>\n",
              "      <td>Q: yukk beer is disgusting. i can only drink i...</td>\n",
              "      <td>yukk beer is disgusting. i can only drink it w...</td>\n",
              "      <td>oh O.K ! ! nice make sure it's Stolie's Please</td>\n",
              "      <td>None</td>\n",
              "      <td>No</td>\n",
              "      <td>0</td>\n",
              "      <td>NaN</td>\n",
              "      <td>No</td>\n",
              "      <td>0</td>\n",
              "      <td>NaN</td>\n",
              "      <td>No</td>\n",
              "      <td>0</td>\n",
              "      <td>NaN</td>\n",
              "    </tr>\n",
              "  </tbody>\n",
              "</table>\n",
              "<p>11056 rows × 14 columns</p>\n",
              "</div>"
            ],
            "text/plain": [
              "                userid  ... bully3\n",
              "0      aguitarplayer94  ...    NaN\n",
              "1          aprilpooh15  ...    NaN\n",
              "2          aprilpooh15  ...    NaN\n",
              "3          aprilpooh15  ...    NaN\n",
              "4          aprilpooh15  ...    NaN\n",
              "...                ...  ...    ...\n",
              "12889       outlaw9000  ...    NaN\n",
              "12891       outlaw9000  ...    NaN\n",
              "12892       outlaw9000  ...    NaN\n",
              "12893       outlaw9000  ...    NaN\n",
              "12894       outlaw9000  ...    NaN\n",
              "\n",
              "[11056 rows x 14 columns]"
            ]
          },
          "metadata": {
            "tags": []
          },
          "execution_count": 17
        }
      ]
    },
    {
      "cell_type": "code",
      "metadata": {
        "id": "-qr1n90J7coj",
        "colab_type": "code",
        "colab": {}
      },
      "source": [
        "df = df[['ques','ans1']]"
      ],
      "execution_count": 18,
      "outputs": []
    },
    {
      "cell_type": "code",
      "metadata": {
        "id": "HIildOCW7sOH",
        "colab_type": "code",
        "colab": {
          "base_uri": "https://localhost:8080/",
          "height": 34
        },
        "outputId": "2ece1c63-25b7-4d1f-9ac8-bc8196ee4157"
      },
      "source": [
        "df.shape"
      ],
      "execution_count": 20,
      "outputs": [
        {
          "output_type": "execute_result",
          "data": {
            "text/plain": [
              "(11056, 2)"
            ]
          },
          "metadata": {
            "tags": []
          },
          "execution_count": 20
        }
      ]
    },
    {
      "cell_type": "code",
      "metadata": {
        "id": "XXcqTWqP8ipf",
        "colab_type": "code",
        "colab": {
          "base_uri": "https://localhost:8080/",
          "height": 241
        },
        "outputId": "abaa0562-95c5-4084-f9fc-dfa0d2316890"
      },
      "source": [
        "df['ques'] = df['ques'].str.replace('&#039;',\"'\")\n",
        "df['ques'] = df['ques'].str.replace('&quot;','')"
      ],
      "execution_count": 25,
      "outputs": [
        {
          "output_type": "stream",
          "text": [
            "/usr/local/lib/python3.6/dist-packages/ipykernel_launcher.py:1: SettingWithCopyWarning: \n",
            "A value is trying to be set on a copy of a slice from a DataFrame.\n",
            "Try using .loc[row_indexer,col_indexer] = value instead\n",
            "\n",
            "See the caveats in the documentation: https://pandas.pydata.org/pandas-docs/stable/user_guide/indexing.html#returning-a-view-versus-a-copy\n",
            "  \"\"\"Entry point for launching an IPython kernel.\n",
            "/usr/local/lib/python3.6/dist-packages/ipykernel_launcher.py:2: SettingWithCopyWarning: \n",
            "A value is trying to be set on a copy of a slice from a DataFrame.\n",
            "Try using .loc[row_indexer,col_indexer] = value instead\n",
            "\n",
            "See the caveats in the documentation: https://pandas.pydata.org/pandas-docs/stable/user_guide/indexing.html#returning-a-view-versus-a-copy\n",
            "  \n"
          ],
          "name": "stderr"
        }
      ]
    },
    {
      "cell_type": "code",
      "metadata": {
        "id": "yuDhRZJm9fN3",
        "colab_type": "code",
        "colab": {
          "base_uri": "https://localhost:8080/",
          "height": 139
        },
        "outputId": "e2242029-a73a-454f-ac74-98f884e6a0c1"
      },
      "source": [
        "df['ques'] = df['ques'].str.replace('<br>','')"
      ],
      "execution_count": 27,
      "outputs": [
        {
          "output_type": "stream",
          "text": [
            "/usr/local/lib/python3.6/dist-packages/ipykernel_launcher.py:1: SettingWithCopyWarning: \n",
            "A value is trying to be set on a copy of a slice from a DataFrame.\n",
            "Try using .loc[row_indexer,col_indexer] = value instead\n",
            "\n",
            "See the caveats in the documentation: https://pandas.pydata.org/pandas-docs/stable/user_guide/indexing.html#returning-a-view-versus-a-copy\n",
            "  \"\"\"Entry point for launching an IPython kernel.\n"
          ],
          "name": "stderr"
        }
      ]
    },
    {
      "cell_type": "code",
      "metadata": {
        "id": "1XtYsbRJ-DCE",
        "colab_type": "code",
        "colab": {
          "base_uri": "https://localhost:8080/",
          "height": 139
        },
        "outputId": "9d0733cc-8d51-4b85-93dc-d9684d771c14"
      },
      "source": [
        "df['ans1'] = df['ans1'].replace((\"Yes\",\"No\"),(1,0))"
      ],
      "execution_count": 30,
      "outputs": [
        {
          "output_type": "stream",
          "text": [
            "/usr/local/lib/python3.6/dist-packages/ipykernel_launcher.py:1: SettingWithCopyWarning: \n",
            "A value is trying to be set on a copy of a slice from a DataFrame.\n",
            "Try using .loc[row_indexer,col_indexer] = value instead\n",
            "\n",
            "See the caveats in the documentation: https://pandas.pydata.org/pandas-docs/stable/user_guide/indexing.html#returning-a-view-versus-a-copy\n",
            "  \"\"\"Entry point for launching an IPython kernel.\n"
          ],
          "name": "stderr"
        }
      ]
    },
    {
      "cell_type": "code",
      "metadata": {
        "id": "715-82sT-Vnn",
        "colab_type": "code",
        "colab": {}
      },
      "source": [
        "df = df.dropna()"
      ],
      "execution_count": 41,
      "outputs": []
    },
    {
      "cell_type": "code",
      "metadata": {
        "id": "DYH8LrHE-W1X",
        "colab_type": "code",
        "colab": {
          "base_uri": "https://localhost:8080/",
          "height": 34
        },
        "outputId": "ee74e377-97f2-4ef1-dff4-60530eea88ac"
      },
      "source": [
        "df.shape"
      ],
      "execution_count": 42,
      "outputs": [
        {
          "output_type": "execute_result",
          "data": {
            "text/plain": [
              "(11054, 2)"
            ]
          },
          "metadata": {
            "tags": []
          },
          "execution_count": 42
        }
      ]
    },
    {
      "cell_type": "code",
      "metadata": {
        "id": "ODt7cIaB-3Nr",
        "colab_type": "code",
        "colab": {
          "base_uri": "https://localhost:8080/",
          "height": 279
        },
        "outputId": "0daacbcb-c158-4efd-9085-c58e6f0915ee"
      },
      "source": [
        "df['ans1'].value_counts().sort_values(ascending=False).plot(kind='bar')"
      ],
      "execution_count": 44,
      "outputs": [
        {
          "output_type": "execute_result",
          "data": {
            "text/plain": [
              "<matplotlib.axes._subplots.AxesSubplot at 0x7f454fd79898>"
            ]
          },
          "metadata": {
            "tags": []
          },
          "execution_count": 44
        },
        {
          "output_type": "display_data",
          "data": {
            "image/png": "[encoded data removed]",
            "text/plain": [
              "<Figure size 432x288 with 1 Axes>"
            ]
          },
          "metadata": {
            "tags": [],
            "needs_background": "light"
          }
        }
      ]
    },
    {
      "cell_type": "code",
      "metadata": {
        "id": "7JtIUbLm_KJO",
        "colab_type": "code",
        "colab": {
          "base_uri": "https://localhost:8080/",
          "height": 68
        },
        "outputId": "8f7d628c-9066-41cd-b6e5-a65713be2020"
      },
      "source": [
        "df['ans1'].value_counts()"
      ],
      "execution_count": 45,
      "outputs": [
        {
          "output_type": "execute_result",
          "data": {
            "text/plain": [
              "0    10747\n",
              "1      307\n",
              "Name: ans1, dtype: int64"
            ]
          },
          "metadata": {
            "tags": []
          },
          "execution_count": 45
        }
      ]
    },
    {
      "cell_type": "code",
      "metadata": {
        "id": "lI4POyrC_WSH",
        "colab_type": "code",
        "colab": {}
      },
      "source": [
        "import re\n",
        "def clean_words(words):\n",
        "  words = re.sub('[^a-zA-Z]',' ',words.lower())\n",
        "  cleaned_words = words.split()\n",
        "  words = [word for word in cleaned_words if not word in set(stopwords.words('english'))] \n",
        "  sentence = ' '.join(words)\n",
        "  return sentence"
      ],
      "execution_count": 46,
      "outputs": []
    },
    {
      "cell_type": "code",
      "metadata": {
        "id": "ppksCtGkAYMn",
        "colab_type": "code",
        "colab": {
          "base_uri": "https://localhost:8080/",
          "height": 139
        },
        "outputId": "f81d4228-e545-45af-8974-1650dcaa2aff"
      },
      "source": [
        "df['ques'] = df['ques'].apply(clean_words)"
      ],
      "execution_count": 47,
      "outputs": [
        {
          "output_type": "stream",
          "text": [
            "/usr/local/lib/python3.6/dist-packages/ipykernel_launcher.py:1: SettingWithCopyWarning: \n",
            "A value is trying to be set on a copy of a slice from a DataFrame.\n",
            "Try using .loc[row_indexer,col_indexer] = value instead\n",
            "\n",
            "See the caveats in the documentation: https://pandas.pydata.org/pandas-docs/stable/user_guide/indexing.html#returning-a-view-versus-a-copy\n",
            "  \"\"\"Entry point for launching an IPython kernel.\n"
          ],
          "name": "stderr"
        }
      ]
    },
    {
      "cell_type": "code",
      "metadata": {
        "id": "TweRLU5sAgYW",
        "colab_type": "code",
        "colab": {}
      },
      "source": [
        "tokenizer = Tokenizer(num_words=20000)"
      ],
      "execution_count": 66,
      "outputs": []
    },
    {
      "cell_type": "code",
      "metadata": {
        "id": "zSzZu2seAoE9",
        "colab_type": "code",
        "colab": {
          "base_uri": "https://localhost:8080/",
          "height": 54
        },
        "outputId": "9c8af787-c3c7-438c-f316-09e0c08a65a1"
      },
      "source": [
        "X = df['ques'].values\n",
        "tokenizer.fit_on_texts(X)\n",
        "print(tokenizer.word_index)"
      ],
      "execution_count": 67,
      "outputs": [
        {
          "output_type": "stream",
          "text": [
            "{'u': 1, 'would': 2, 'like': 3, 'ever': 4, 'apos': 5, 'think': 6, 'lol': 7, 'know': 8, 'love': 9, 'r': 10, 'one': 11, 'get': 12, 'people': 13, 'go': 14, 'im': 15, 'want': 16, 'favorite': 17, 'someone': 18, 'ur': 19, 'haha': 20, 'time': 21, 'could': 22, 'last': 23, 'thing': 24, 'life': 25, 'person': 26, 'p': 27, 'say': 28, 'really': 29, 'good': 30, 'name': 31, 'amp': 32, 'questions': 33, 'many': 34, 'right': 35, 'dont': 36, 'back': 37, 'day': 38, 'make': 39, 'best': 40, 'going': 41, 'something': 42, 'first': 43, 'feel': 44, 'tell': 45, 'see': 46, 'got': 47, 'spam': 48, 'much': 49, 'song': 50, 'ask': 51, 'girl': 52, 'well': 53, 'whats': 54, 'way': 55, 'hey': 56, 'believe': 57, 'friend': 58, 'things': 59, 'still': 60, 'anyone': 61, 'anything': 62, 'sex': 63, 'hate': 64, 'question': 65, 'xd': 66, 'night': 67, 'fake': 68, 'live': 69, 'kind': 70, 'take': 71, 'oh': 72, 'look': 73, 'never': 74, 'friends': 75, 'rather': 76, 'girls': 77, 'pretty': 78, 'movie': 79, 'today': 80, 'come': 81, 'guys': 82, 'n': 83, 'find': 84, 'give': 85, 'school': 86, 'talk': 87, 'done': 88, 'better': 89, 'mean': 90, 'made': 91, 'old': 92, 'even': 93, 'always': 94, 'yu': 95, 'answer': 96, 'formspring': 97, 'everyone': 98, 'date': 99, 'need': 100, 'watch': 101, 'let': 102, 'world': 103, 'place': 104, 'said': 105, 'long': 106, 'new': 107, 'bad': 108, 'change': 109, 'lmao': 110, 'guy': 111, 'stop': 112, 'nice': 113, 'bitch': 114, 'ok': 115, 'yes': 116, 'eat': 117, 'choose': 118, 'miss': 119, 'food': 120, 'http': 121, 'put': 122, 'car': 123, 'use': 124, 'thought': 125, 'call': 126, 'sorry': 127, 'b': 128, 'wish': 129, 'work': 130, 'com': 131, 'youu': 132, 'shit': 133, 'told': 134, 'often': 135, 'yeah': 136, 'word': 137, 'gonna': 138, 'favourite': 139, 'thats': 140, 'please': 141, 'happy': 142, 'hair': 143, 'bed': 144, 'wanna': 145, 'hot': 146, 'okay': 147, 'next': 148, 'www': 149, 'hi': 150, 'opinion': 151, 'fuck': 152, 'sleep': 153, 'fucking': 154, 'baby': 155, 'around': 156, 'explain': 157, 'seen': 158, 'makes': 159, 'asked': 160, 'play': 161, 'year': 162, 'music': 163, 'drink': 164, 'saying': 165, 'leave': 166, 'parents': 167, 'describe': 168, 'l': 169, 'v': 170, 'show': 171, 'color': 172, 'cute': 173, 'real': 174, 'phone': 175, 'getting': 176, 'worst': 177, 'without': 178, 'lot': 179, 'actually': 180, 'man': 181, 'morning': 182, 'cool': 183, 'c': 184, 'dream': 185, 'though': 186, 'age': 187, 'wear': 188, 'went': 189, 'relationship': 190, 'th': 191, 'called': 192, 'happened': 193, 'tomorrow': 194, 'else': 195, 'prefer': 196, 'talking': 197, 'sure': 198, 'cause': 199, 'yo': 200, 'ass': 201, 'try': 202, 'home': 203, 'true': 204, 'little': 205, 'read': 206, 'house': 207, 'wud': 208, 'kiss': 209, 'stuff': 210, 'thanks': 211, 'ppl': 212, 'big': 213, 'everything': 214, 'away': 215, 'didnt': 216, 'ugly': 217, 'die': 218, 'different': 219, 'ill': 220, 'another': 221, 'guess': 222, 'inbox': 223, 'asking': 224, 'years': 225, 'end': 226, 'funny': 227, 'send': 228, 'child': 229, 'amazing': 230, 'ya': 231, 'hope': 232, 'every': 233, 'family': 234, 'tabi': 235, 'enough': 236, 'mind': 237, 'hard': 238, 'country': 239, 'money': 240, 'youtube': 241, 'beautiful': 242, 'wow': 243, 'answers': 244, 'us': 245, 'eyes': 246, 'facebook': 247, 'yuh': 248, 'twitter': 249, 'dead': 250, 'face': 251, 'keep': 252, 'start': 253, 'cant': 254, 'two': 255, 'k': 256, 'kids': 257, 'tonight': 258, 'far': 259, 'fun': 260, 'week': 261, 'days': 262, 'hear': 263, 'saw': 264, 'hahaha': 265, 'cuz': 266, 'body': 267, 'type': 268, 'hurt': 269, 'found': 270, 'weekend': 271, 'help': 272, 'x': 273, 'remember': 274, 'etc': 275, 'usually': 276, 'moment': 277, 'already': 278, 'laugh': 279, 'myspace': 280, 'yet': 281, 'came': 282, 'wait': 283, 'wanted': 284, 'picture': 285, 'heart': 286, 'w': 287, 'pick': 288, 'q': 289, 'h': 290, 'sexy': 291, 'kid': 292, 'super': 293, 'stupid': 294, 'maybe': 295, 'e': 296, 'married': 297, 'beach': 298, 'bf': 299, 'wat': 300, 'birthday': 301, 'spend': 302, 'wrong': 303, 'buy': 304, 'enjoy': 305, 'waht': 306, 'listen': 307, 'used': 308, 'women': 309, 'alot': 310, 'times': 311, 'tv': 312, 'job': 313, 'page': 314, 'alone': 315, 'knew': 316, 'room': 317, 'fs': 318, 'mad': 319, 'hello': 320, 'drive': 321, 'fav': 322, 'famous': 323, 'reason': 324, 'drunk': 325, 'fight': 326, 'children': 327, 'happen': 328, 'justin': 329, 'also': 330, 'omg': 331, 'message': 332, 'weird': 333, 'least': 334, 'heard': 335, 'bout': 336, 'nothing': 337, 'men': 338, 'important': 339, 'great': 340, 'chocolate': 341, 'trying': 342, 'dinner': 343, 'fall': 344, 'gf': 345, 'given': 346, 'ice': 347, 'fave': 348, 'meet': 349, 'thank': 350, 'hell': 351, 'seriously': 352, 'water': 353, 'together': 354, 'background': 355, 'dance': 356, 'care': 357, 'win': 358, 'past': 359, 'animal': 360, 'gaga': 361, 'gorgeous': 362, 'words': 363, 'book': 364, 'wake': 365, 'met': 366, 'gay': 367, 'damn': 368, 'video': 369, 'high': 370, 'god': 371, 'story': 372, 'mine': 373, 'text': 374, 'movies': 375, 'happens': 376, 'walk': 377, 'park': 378, 'hehe': 379, 'party': 380, 'three': 381, 'must': 382, 'follow': 383, 'part': 384, 'doesnt': 385, 'mom': 386, 'head': 387, 'looking': 388, 'bring': 389, 'ones': 390, 'taken': 391, 'close': 392, 'number': 393, 'watching': 394, 'spamming': 395, 'able': 396, 'speak': 397, 'lmbo': 398, 'since': 399, 'stand': 400, 'perfect': 401, 'probably': 402, 'gone': 403, 'random': 404, 'white': 405, 'break': 406, 'making': 407, 'bit': 408, 'loved': 409, 'smell': 410, 'lie': 411, 'afraid': 412, 'sometimes': 413, 'whole': 414, 'thinking': 415, 'free': 416, 'tried': 417, 'wont': 418, 'side': 419, 'dark': 420, 'smile': 421, 'cold': 422, 'following': 423, 'hours': 424, 'turn': 425, 'f': 426, 'dirty': 427, 'suck': 428, 'single': 429, 'biggest': 430, 'lady': 431, 'crush': 432, 'bother': 433, 'vv': 434, 'clothes': 435, 'says': 436, 'ha': 437, 'stay': 438, 'sick': 439, 'opposite': 440, 'hit': 441, 'death': 442, 'sweet': 443, 'celebrity': 444, 'woman': 445, 'yea': 446, 'boyfriend': 447, 'nd': 448, 'lmfao': 449, 'jealous': 450, 'girlfriend': 451, 'blue': 452, 'chinese': 453, 'anymore': 454, 'list': 455, 'kelly': 456, 'might': 457, 'ready': 458, 'either': 459, 'awesome': 460, 'visit': 461, 'wtf': 462, 'short': 463, 'band': 464, 'special': 465, 'fear': 466, 'currently': 467, 'yew': 468, 'dad': 469, 'game': 470, 'sad': 471, 'anyway': 472, 'post': 473, 'victor': 474, 'star': 475, 'store': 476, 'alive': 477, 'rest': 478, 'cream': 479, 'lil': 480, 'summer': 481, 'serious': 482, 'played': 483, 'seem': 484, 'add': 485, 'honestly': 486, 'cry': 487, 'id': 488, 'black': 489, 'outside': 490, 'felt': 491, 'feeling': 492, 'thoughts': 493, 'sounds': 494, 'totally': 495, 'consider': 496, 'babe': 497, 'hoe': 498, 'inside': 499, 'become': 500, 'month': 501, 'cook': 502, 'wit': 503, 'gave': 504, 'soo': 505, 'dick': 506, 'grade': 507, 'chicken': 508, 'lyrics': 509, 'scared': 510, 'kinda': 511, 'run': 512, 'hour': 513, 'act': 514, 'move': 515, 'smoke': 516, 'ate': 517, 'whos': 518, 'yuu': 519, 'imagine': 520, 'yahoo': 521, 'fat': 522, 'check': 523, 'bored': 524, 'ily': 525, 'looks': 526, 'top': 527, 'dude': 528, 'means': 529, 'may': 530, 'learn': 531, 'computer': 532, 'wants': 533, 'living': 534, 'born': 535, 'dog': 536, 'aww': 537, 'couple': 538, 'boy': 539, 'likely': 540, 'lost': 541, 'trouble': 542, 'others': 543, 'waiting': 544, 'account': 545, 'sound': 546, 'meant': 547, 'sooo': 548, 'comes': 549, 'texas': 550, 'laura': 551, 'chomp': 552, 'character': 553, 'state': 554, 'feature': 555, 'yur': 556, 'small': 557, 'later': 558, 'coming': 559, 'kill': 560, 'red': 561, 'online': 562, 'half': 563, 'fly': 564, 'eating': 565, 'possible': 566, 'feet': 567, 'along': 568, 'rock': 569, 'sexual': 570, 'boys': 571, 'sister': 572, 'idk': 573, 'choice': 574, 'agree': 575, 'pet': 576, 'older': 577, 'gmac': 578, 'cheating': 579, 'took': 580, 'bieber': 581, 'dollars': 582, 'instead': 583, 'listening': 584, 'gift': 585, 'colour': 586, 'matter': 587, 'almost': 588, 'bedroom': 589, 'gets': 590, 'fan': 591, 'deal': 592, 'virgin': 593, 'quite': 594, 'soon': 595, 'public': 596, 'power': 597, 'asleep': 598, 'pay': 599, 'write': 600, 'french': 601, 'kissed': 602, 'wrote': 603, 'partner': 604, 'heyy': 605, 'songs': 606, 'hang': 607, 'situation': 608, 'marry': 609, 'wasnt': 610, 'awww': 611, 'skins': 612, 'btw': 613, 'named': 614, 'road': 615, 'driving': 616, 'travel': 617, 'shut': 618, 'late': 619, 'language': 620, 'advice': 621, 'experience': 622, 'trust': 623, 'knows': 624, 'vvv': 625, 'chance': 626, 'likes': 627, 'grow': 628, 'save': 629, 'interesting': 630, 'ect': 631, 'line': 632, 'candy': 633, 'open': 634, 'race': 635, 'watched': 636, 'recently': 637, 'clothing': 638, 'dnt': 639, 'weather': 640, 'religion': 641, 'scale': 642, 'green': 643, 'regret': 644, 'g': 645, 'sports': 646, 'sing': 647, 'size': 648, 'broken': 649, 'younger': 650, 'rate': 651, 'kno': 652, 'attractive': 653, 'eaten': 654, 'anonymous': 655, 'tired': 656, 'using': 657, 'pictures': 658, 'missed': 659, 'piece': 660, 'fair': 661, 'tho': 662, 'lets': 663, 'telling': 664, 'aint': 665, 'till': 666, 'orange': 667, 'wise': 668, 'stuck': 669, 'mood': 670, 'answered': 671, 'animals': 672, 'changed': 673, 'youre': 674, 'street': 675, 'que': 676, 'pregnant': 677, 'started': 678, 'relationships': 679, 'sort': 680, 'gotta': 681, 'tree': 682, 'cat': 683, 'notice': 684, 'idea': 685, 'known': 686, 'jk': 687, 'tabitha': 688, 'fine': 689, 'order': 690, 'seeing': 691, 'tony': 692, 'cut': 693, 'zoo': 694, 'girly': 695, 'xxx': 696, 'million': 697, 'crazy': 698, 'concert': 699, 'longest': 700, 'shower': 701, 'dumb': 702, 'dating': 703, 'mother': 704, 'lunch': 705, 'rude': 706, 'straight': 707, 'whatever': 708, 'whore': 709, 'share': 710, 'dreams': 711, 'college': 712, 'taking': 713, 'ride': 714, 'certain': 715, 'australia': 716, 'second': 717, 'middle': 718, 'secret': 719, 'cheese': 720, 'curious': 721, 'cheated': 722, 'sign': 723, 'answering': 724, 'pants': 725, 'flavor': 726, 'film': 727, 'plane': 728, 'hold': 729, 'da': 730, 'hmmm': 731, 'umm': 732, 'wana': 733, 'ex': 734, 'city': 735, 'shed': 736, 'personality': 737, 'english': 738, 'forever': 739, 'trip': 740, 'fire': 741, 'tht': 742, 'excited': 743, 'near': 744, 'traveled': 745, 'weirdest': 746, 'quote': 747, 'bye': 748, 'door': 749, 'seems': 750, 'annoying': 751, 'nah': 752, 'bomb': 753, 'spammed': 754, 'yesterday': 755, 'easily': 756, 'taste': 757, 'current': 758, 'worry': 759, 'class': 760, 'point': 761, 'physically': 762, 'dress': 763, 'team': 764, 'island': 765, 'crap': 766, 'illegal': 767, 'drugs': 768, 'difference': 769, 'anywhere': 770, 'light': 771, 'hows': 772, 'angry': 773, 'alcohol': 774, 'stopped': 775, 'test': 776, 'restaurant': 777, 'tall': 778, 'cutie': 779, 'ways': 780, 'liked': 781, 'havent': 782, 'moo': 783, 'react': 784, 'meat': 785, 'crying': 786, 'absolutely': 787, 'wedding': 788, 'cats': 789, 'forget': 790, 'wats': 791, 'shopping': 792, 'memory': 793, 'ahaha': 794, 'shes': 795, 'hmm': 796, 'quit': 797, 'leaving': 798, 'plans': 799, 'youuu': 800, 'sent': 801, 'aw': 802, 'urself': 803, 'personally': 804, 'ive': 805, 'wonder': 806, 'ago': 807, 'physical': 808, 'doctor': 809, 'working': 810, 'finish': 811, 'control': 812, 'beer': 813, 'cannot': 814, 'subject': 815, 'coffee': 816, 'human': 817, 'annoy': 818, 'looked': 819, 'brand': 820, 'caught': 821, 'america': 822, 'sandwich': 823, 'ten': 824, 'babies': 825, 'dying': 826, 'lived': 827, 'history': 828, 'brain': 829, 'understand': 830, 'turns': 831, 'join': 832, 'extremely': 833, 'club': 834, 'left': 835, 'daddy': 836, 'deep': 837, 'pic': 838, 'loves': 839, 'window': 840, 'porn': 841, 'st': 842, 'nose': 843, 'starts': 844, 'hand': 845, 'received': 846, 'states': 847, 'funniest': 848, 'private': 849, 'warm': 850, 'site': 851, 'sense': 852, 'attention': 853, 'fell': 854, 'profile': 855, 'shirt': 856, 'beat': 857, 'apart': 858, 'ohh': 859, 'talked': 860, 'internet': 861, 'five': 862, 'handle': 863, 'gives': 864, 'plan': 865, 'si': 866, 'non': 867, 'lose': 868, 'honest': 869, 'define': 870, 'daily': 871, 'front': 872, 'easy': 873, 'upset': 874, 'voice': 875, 'rain': 876, 'playing': 877, 'male': 878, 'bio': 879, 'planet': 880, 'female': 881, 'net': 882, 'anybody': 883, 'learned': 884, 'earth': 885, 'shall': 886, 'hooked': 887, 'worse': 888, 'brother': 889, 'fact': 890, 'spanish': 891, 'impossible': 892, 'pain': 893, 'happiness': 894, 'paid': 895, 'general': 896, 'height': 897, 'set': 898, 'grey': 899, 'support': 900, 'round': 901, 'mess': 902, 'goin': 903, 'rd': 904, 'dat': 905, 'thee': 906, 'mr': 907, 'jus': 908, 'yay': 909, 'wash': 910, 'died': 911, 'sucks': 912, 'ship': 913, 'sitting': 914, 'itu': 915, 'hahah': 916, 'dogs': 917, 'course': 918, 'obama': 919, 'sport': 920, 'vacation': 921, 'xx': 922, 'meal': 923, 'flowers': 924, 'early': 925, 'pool': 926, 'ocean': 927, 'wearing': 928, 'skinny': 929, 'alright': 930, 'bet': 931, 'silly': 932, 'swear': 933, 'drug': 934, 'pink': 935, 'problem': 936, 'goes': 937, 'duck': 938, 'shay': 939, 'shoes': 940, 'habits': 941, 'oil': 942, 'touch': 943, 'everyday': 944, 'asian': 945, 'shoe': 946, 'dancing': 947, 'link': 948, 'completely': 949, 'future': 950, 'sun': 951, 'young': 952, 'style': 953, 'walking': 954, 'alexis': 955, 'boobs': 956, 'anyways': 957, 'cheyenne': 958, 'knowing': 959, 'flirt': 960, 'whenever': 961, 'considered': 962, 'works': 963, 'eva': 964, 'uk': 965, 'marriage': 966, 'te': 967, 'american': 968, 'hav': 969, 'teacher': 970, 'de': 971, 'website': 972, 'bath': 973, 'ideal': 974, 'president': 975, 'actor': 976, 'swim': 977, 'minutes': 978, 'retarded': 979, 'toilet': 980, 'camping': 981, 'form': 982, 'siblings': 983, 'singer': 984, 'starting': 985, 'quick': 986, 'broke': 987, 'ignore': 988, 'hun': 989, 'calling': 990, 'ahh': 991, 'ima': 992, 'til': 993, 'jeans': 994, 'drama': 995, 'gurl': 996, 'news': 997, 'feels': 998, 'dislike': 999, 'full': 1000, 'habit': 1001, 'places': 1002, 'comment': 1003, 'mi': 1004, 'nickname': 1005, 'bird': 1006, 'law': 1007, 'alcoholic': 1008, 'blind': 1009, 'cell': 1010, 'moon': 1011, 'bought': 1012, 'cake': 1013, 'snow': 1014, 'reading': 1015, 'tea': 1016, 'return': 1017, 'craziest': 1018, 'months': 1019, 'noticed': 1020, 'monster': 1021, 'jail': 1022, 'anonymously': 1023, 'shop': 1024, 'pussy': 1025, 'glad': 1026, 'stick': 1027, 'z': 1028, 'abortion': 1029, 'cookie': 1030, 'whatu': 1031, 'normally': 1032, 'stars': 1033, 'box': 1034, 'aha': 1035, 'la': 1036, 'boo': 1037, 'sky': 1038, 'holy': 1039, 'names': 1040, 'bar': 1041, 'pets': 1042, 'fail': 1043, 'interested': 1044, 'nite': 1045, 'vodka': 1046, 'katie': 1047, 'louise': 1048, 'angel': 1049, 'makeup': 1050, 'longer': 1051, 'season': 1052, 'nope': 1053, 'yeahh': 1054, 'heyyy': 1055, 'doin': 1056, 'whose': 1057, 'self': 1058, 'rid': 1059, 'air': 1060, 'throw': 1061, 'genre': 1062, 'ninja': 1063, 'ahah': 1064, 'uhm': 1065, 'lover': 1066, 'behind': 1067, 'clean': 1068, 'cellphone': 1069, 'delete': 1070, 'pathetic': 1071, 'hated': 1072, 'besides': 1073, 'wondered': 1074, 'ideas': 1075, 'hands': 1076, 'drop': 1077, 'reasons': 1078, 'lame': 1079, 'huh': 1080, 'obvious': 1081, 'ahead': 1082, 'annoyed': 1083, 'mouth': 1084, 'ability': 1085, 'dollar': 1086, 'double': 1087, 'sometime': 1088, 'shy': 1089, 'truth': 1090, 'willing': 1091, 'conversation': 1092, 'pls': 1093, 'roll': 1094, 'lives': 1095, 'pass': 1096, 'aliens': 1097, 'tan': 1098, 'judge': 1099, 'cars': 1100, 'somewhere': 1101, 'term': 1102, 'war': 1103, 'closest': 1104, 'especially': 1105, 'el': 1106, 'kisses': 1107, 'prank': 1108, 'cried': 1109, 'somebody': 1110, 'suddenly': 1111, 'heels': 1112, 'guilty': 1113, 'amount': 1114, 'mobile': 1115, 'king': 1116, 'queen': 1117, 'area': 1118, 'wished': 1119, 'commit': 1120, 'bucks': 1121, 'woke': 1122, 'related': 1123, 'luv': 1124, 'stomach': 1125, 'pizza': 1126, 'upon': 1127, 'across': 1128, 'annoys': 1129, 'less': 1130, 'recent': 1131, 'teach': 1132, 'space': 1133, 'fish': 1134, 'empty': 1135, 'yall': 1136, 'lovely': 1137, 'pm': 1138, 'yhu': 1139, 'butt': 1140, 'yhur': 1141, 'position': 1142, 'pics': 1143, 'hahahah': 1144, 'promise': 1145, 'blah': 1146, 'taller': 1147, 'legal': 1148, 'jordan': 1149, 'whoop': 1150, 'bff': 1151, 'iphone': 1152, 'sigh': 1153, 'eh': 1154, 'drinking': 1155, 'wife': 1156, 'natural': 1157, 'msn': 1158, 'finally': 1159, 'safe': 1160, 'whether': 1161, 'gifts': 1162, 'schools': 1163, 'significant': 1164, 'piercings': 1165, 'haters': 1166, 'languages': 1167, 'bottom': 1168, 'musician': 1169, 'breakfast': 1170, 'isnt': 1171, 'info': 1172, 'lyk': 1173, 'giving': 1174, 'lonely': 1175, 'fuckin': 1176, 'frances': 1177, 'gunna': 1178, 'bestfriend': 1179, 'statement': 1180, 'allowed': 1181, 'cup': 1182, 'hardest': 1183, 'underwear': 1184, 'holding': 1185, 'shoot': 1186, 'written': 1187, 'milk': 1188, 'basis': 1189, 'nervous': 1190, 'smart': 1191, 'pair': 1192, 'speaking': 1193, 'tattoo': 1194, 'health': 1195, 'wild': 1196, 'lots': 1197, 'china': 1198, 'noise': 1199, 'group': 1200, 'paper': 1201, 'addicted': 1202, 'society': 1203, 'bee': 1204, 'saturday': 1205, 'member': 1206, 'accident': 1207, 'fast': 1208, 'entire': 1209, 'four': 1210, 'kept': 1211, 'weeks': 1212, 'nails': 1213, 'table': 1214, 'parts': 1215, 'suicide': 1216, 'soooo': 1217, 'badly': 1218, 'lucky': 1219, 'chose': 1220, 'major': 1221, 'blood': 1222, 'daughter': 1223, 'hurts': 1224, 'stranger': 1225, 'request': 1226, 'colors': 1227, 'period': 1228, 'laughing': 1229, 'comfortable': 1230, 'pop': 1231, 'letter': 1232, 'birth': 1233, 'clock': 1234, 'childhood': 1235, 'photo': 1236, 'j': 1237, 'slow': 1238, 'arm': 1239, 'lick': 1240, 'ticket': 1241, 'iloveyou': 1242, 'mines': 1243, 'lolss': 1244, 'email': 1245, 'oldest': 1246, 'machine': 1247, 'bigger': 1248, 'heavy': 1249, 'sam': 1250, 'couldnt': 1251, 'blonde': 1252, 'bear': 1253, 'soap': 1254, 'sour': 1255, 'legs': 1256, 'skin': 1257, 'exception': 1258, 'sight': 1259, 'hopefully': 1260, 'chill': 1261, 'whens': 1262, 'block': 1263, 'mrs': 1264, 'emily': 1265, 'feelings': 1266, 'needed': 1267, 'gabe': 1268, 'contacts': 1269, 'usa': 1270, 'guna': 1271, 'cud': 1272, 'friday': 1273, 'en': 1274, 'cu': 1275, 'iu': 1276, 'july': 1277, 'vanilla': 1278, 'france': 1279, 'george': 1280, 'eliminate': 1281, 'difficult': 1282, 'boring': 1283, 'happiest': 1284, 'decided': 1285, 'sexiest': 1286, 'backround': 1287, 'vampire': 1288, 'rich': 1289, 'large': 1290, 'liar': 1291, 'lovee': 1292, 'aree': 1293, 'formsprings': 1294, 'fakes': 1295, 'username': 1296, 'wayne': 1297, 'adorable': 1298, 'crack': 1299, 'strangers': 1300, 'ew': 1301, 'cunt': 1302, 'wall': 1303, 'peoples': 1304, 'creepy': 1305, 'trick': 1306, 'lala': 1307, 'spelling': 1308, 'kick': 1309, 'nicest': 1310, 'bill': 1311, 'hating': 1312, 'scare': 1313, 'hole': 1314, 'hes': 1315, 'nigga': 1316, 'welcome': 1317, 'breath': 1318, 'tattoos': 1319, 'beliefs': 1320, 'medicine': 1321, 'hearing': 1322, 'michael': 1323, 'bright': 1324, 'horse': 1325, 'count': 1326, 'comedy': 1327, 'rings': 1328, 'wink': 1329, 'bite': 1330, 'needs': 1331, 'faster': 1332, 'specific': 1333, 'randomly': 1334, 'parent': 1335, 'forward': 1336, 'sleeping': 1337, 'jokes': 1338, 'mexican': 1339, 'scary': 1340, 'christmas': 1341, 'lights': 1342, 'letting': 1343, 'survive': 1344, 'followers': 1345, 'son': 1346, 'falling': 1347, 'fallen': 1348, 'court': 1349, 'gotten': 1350, 'ran': 1351, 'texted': 1352, 'std': 1353, 'deleted': 1354, 'babes': 1355, 'shows': 1356, 'lookin': 1357, 'divorced': 1358, 'learning': 1359, 'pie': 1360, 'banana': 1361, 'yellow': 1362, 'effect': 1363, 'rabbit': 1364, 'crime': 1365, 'bus': 1366, 'kissing': 1367, 'naked': 1368, 'theres': 1369, 'qs': 1370, 'garden': 1371, 'system': 1372, 'atm': 1373, 'father': 1374, 'missing': 1375, 'beauty': 1376, 'unique': 1377, 'describes': 1378, 'ham': 1379, 'somehow': 1380, 'heaven': 1381, 'resemble': 1382, 'ck': 1383, 'hospital': 1384, 'massage': 1385, 'flight': 1386, 'rule': 1387, 'em': 1388, 'bi': 1389, 'kan': 1390, 'wen': 1391, 'tha': 1392, 'bby': 1393, 'meh': 1394, 'pu': 1395, 'cum': 1396, 'brown': 1397, 'wass': 1398, 'added': 1399, 'dhat': 1400, 'betta': 1401, 'wood': 1402, 'krista': 1403, 'muh': 1404, 'bang': 1405, 'sat': 1406, 'realize': 1407, 'dang': 1408, 'obviously': 1409, 'um': 1410, 'purple': 1411, 'finger': 1412, 'es': 1413, 'jesus': 1414, 'yep': 1415, 'cock': 1416, 'lake': 1417, 'aim': 1418, 'austin': 1419, 'planned': 1420, 'worries': 1421, 'shorter': 1422, 'ankle': 1423, 'awwww': 1424, 'batman': 1425, 'nude': 1426, 'land': 1427, 'view': 1428, 'dubai': 1429, 'case': 1430, 'canned': 1431, 'blow': 1432, 'culture': 1433, 'shot': 1434, 'oz': 1435, 'homie': 1436, 'ty': 1437, 'religious': 1438, 'exam': 1439, 'interest': 1440, 'rwar': 1441, 'brighton': 1442, 'fanfiction': 1443, 'kathryn': 1444, 'jaffa': 1445, 'omar': 1446, 'maurice': 1447, 'majority': 1448, 'pregnancy': 1449, 'ahhh': 1450, 'yup': 1451, 'april': 1452, 'bathroom': 1453, 'endless': 1454, 'supply': 1455, 'master': 1456, 'ring': 1457, 'zealand': 1458, 'sneakers': 1459, 'tight': 1460, 'greatest': 1461, 'lifetime': 1462, 'holiday': 1463, 'overrated': 1464, 'likee': 1465, 'company': 1466, 'cali': 1467, 'mate': 1468, 'talkin': 1469, 'belly': 1470, 'mental': 1471, 'jobs': 1472, 'ing': 1473, 'proof': 1474, 'curse': 1475, 'hates': 1476, 'gross': 1477, 'slut': 1478, 'poor': 1479, 'bands': 1480, 'jpg': 1481, 'august': 1482, 'stalker': 1483, 'spell': 1484, 'killed': 1485, 'gosh': 1486, 'fighting': 1487, 'comments': 1488, 'cutee': 1489, 'challenge': 1490, 'ghetto': 1491, 'none': 1492, 'quality': 1493, 'sit': 1494, 'soccer': 1495, 'imma': 1496, 'taylor': 1497, 'playa': 1498, 'wouldnt': 1499, 'joke': 1500, 'musta': 1501, 'features': 1502, 'studying': 1503, 'turned': 1504, 'push': 1505, 'vehicle': 1506, 'lying': 1507, 'goose': 1508, 'worth': 1509, 'karma': 1510, 'gender': 1511, 'cuss': 1512, 'regularly': 1513, 'respect': 1514, 'bone': 1515, 'messages': 1516, 'ketchup': 1517, 'false': 1518, 'tom': 1519, 'gun': 1520, 'tu': 1521, 'singing': 1522, 'emotionally': 1523, 'fit': 1524, 'texting': 1525, 'based': 1526, 'lo': 1527, 'bathing': 1528, 'suit': 1529, 'pulled': 1530, 'chair': 1531, 'poem': 1532, 'spent': 1533, 'reaction': 1534, 'slept': 1535, 'object': 1536, 'walked': 1537, 'kidding': 1538, 'anger': 1539, 'row': 1540, 'floors': 1541, 'teeth': 1542, 'xentury': 1543, 'complain': 1544, 'php': 1545, 'emo': 1546, 'nearly': 1547, 'pull': 1548, 'attend': 1549, 'magic': 1550, 'billion': 1551, 'opportunity': 1552, 'toy': 1553, 'factor': 1554, 'unfollow': 1555, 'trait': 1556, 'paint': 1557, 'dressed': 1558, 'fb': 1559, 'apparently': 1560, 'mountains': 1561, 'husband': 1562, 'average': 1563, 'touched': 1564, 'simply': 1565, 'ticklish': 1566, 'eye': 1567, 'haunted': 1568, 'hiding': 1569, 'pot': 1570, 'mass': 1571, 'expensive': 1572, 'soup': 1573, 'butter': 1574, 'goal': 1575, 'keeping': 1576, 'john': 1577, 'town': 1578, 'stupidest': 1579, 'receive': 1580, 'hat': 1581, 'spy': 1582, 'bread': 1583, 'harder': 1584, 'military': 1585, 'allow': 1586, 'homeless': 1587, 'role': 1588, 'feed': 1589, 'yer': 1590, 'yaa': 1591, 'mee': 1592, 'decide': 1593, 'north': 1594, 'flat': 1595, 'bra': 1596, 'myy': 1597, 'takes': 1598, 'wut': 1599, 'alix': 1600, 'idaho': 1601, 'jaybee': 1602, 'pissed': 1603, 'balls': 1604, 'low': 1605, 'supposed': 1606, 'hahahaha': 1607, 'uhh': 1608, 'dunno': 1609, 'pokemon': 1610, 'became': 1611, 'icecream': 1612, 'cough': 1613, 'un': 1614, 'bodies': 1615, 'pasta': 1616, 'stack': 1617, 'police': 1618, 'faith': 1619, 'interests': 1620, 'common': 1621, 'normal': 1622, 'crash': 1623, 'nuts': 1624, 'dictionary': 1625, 'fantasy': 1626, 'sea': 1627, 'wheres': 1628, 'posted': 1629, 'thankss': 1630, 'co': 1631, 'anon': 1632, 'buddy': 1633, 'couples': 1634, 'grader': 1635, 'cheat': 1636, 'hail': 1637, 'puts': 1638, 'pik': 1639, 'romantic': 1640, 'mum': 1641, 'flip': 1642, 'continue': 1643, 'aussie': 1644, 'jsut': 1645, 'strange': 1646, 'considering': 1647, 'stays': 1648, 'maccas': 1649, 'los': 1650, 'fingers': 1651, 'muj': 1652, 'messenger': 1653, 'finished': 1654, 'italian': 1655, 'train': 1656, 'hea': 1657, 'hmmmm': 1658, 'flintstone': 1659, 'dangerous': 1660, 'worried': 1661, 'thinks': 1662, 'oi': 1663, 'alien': 1664, 'flavour': 1665, 'spain': 1666, 'assuming': 1667, 'study': 1668, 'winter': 1669, 'types': 1670, 'hide': 1671, 'lower': 1672, 'condoms': 1673, 'ashley': 1674, 'stairs': 1675, 'odd': 1676, 'fanfic': 1677, 'education': 1678, 'rosie': 1679, 'leather': 1680, 'huge': 1681, 'seats': 1682, 'paramore': 1683, 'donu': 1684, 'aswell': 1685, 'debate': 1686, 'morals': 1687, 'pledge': 1688, 'rah': 1689, 'cover': 1690, 'planets': 1691, 'scars': 1692, 'bones': 1693, 'bush': 1694, 'budget': 1695, 'vegas': 1696, 'bahah': 1697, 'skype': 1698, 'phobia': 1699, 'grew': 1700, 'prettiest': 1701, 'yacht': 1702, 'plus': 1703, 'trash': 1704, 'information': 1705, 'twice': 1706, 'steal': 1707, 'stfu': 1708, 'betty': 1709, 'twilight': 1710, 'pages': 1711, 'sites': 1712, 'football': 1713, 'nasty': 1714, 'cousin': 1715, 'ta': 1716, 'aids': 1717, 'burns': 1718, 'events': 1719, 'staying': 1720, 'dumbass': 1721, 'dye': 1722, 'whoo': 1723, 'olympics': 1724, 'bitches': 1725, 'arent': 1726, 'nico': 1727, 'bahahaha': 1728, 'exactly': 1729, 'hint': 1730, 'total': 1731, 'personal': 1732, 'level': 1733, 'shirts': 1734, 'shorts': 1735, 'fo': 1736, 'raised': 1737, 'joking': 1738, 'ohhh': 1739, 'murder': 1740, 'step': 1741, 'excuse': 1742, 'thru': 1743, 'herd': 1744, 'herpes': 1745, 'prison': 1746, 'pairs': 1747, 'openly': 1748, 'loser': 1749, 'offended': 1750, 'directions': 1751, 'involved': 1752, 'jackson': 1753, 'socks': 1754, 'shayla': 1755, 'bald': 1756, 'ups': 1757, 'tongue': 1758, 'blog': 1759, 'camp': 1760, 'episode': 1761, 'powers': 1762, 'birds': 1763, 'daydream': 1764, 'jello': 1765, 'hugs': 1766, 'church': 1767, 'ipod': 1768, 'phobias': 1769, 'keeps': 1770, 'roller': 1771, 'earlier': 1772, 'neither': 1773, 'regular': 1774, 'romance': 1775, 'dare': 1776, 'insane': 1777, 'healthy': 1778, 'floor': 1779, 'flops': 1780, 'camera': 1781, 'board': 1782, 'chips': 1783, 'backwards': 1784, 'dipping': 1785, 'radio': 1786, 'cast': 1787, 'las': 1788, 'chick': 1789, 'harry': 1790, 'listened': 1791, 'arrested': 1792, 'event': 1793, 'south': 1794, 'per': 1795, 'stickers': 1796, 'infront': 1797, 'stolen': 1798, 'nature': 1799, 'apartment': 1800, 'reply': 1801, 'sup': 1802, 'needa': 1803, 'hobbies': 1804, 'lies': 1805, 'index': 1806, 'rape': 1807, 'click': 1808, 'mothers': 1809, 'ghost': 1810, 'offered': 1811, 'witnessed': 1812, 'charity': 1813, 'possibly': 1814, 'wich': 1815, 'cow': 1816, 'hanging': 1817, 'smelled': 1818, 'bag': 1819, 'drinks': 1820, 'neck': 1821, 'york': 1822, 'hook': 1823, 'cartoon': 1824, 'screaming': 1825, 'figured': 1826, 'soda': 1827, 'student': 1828, 'sunset': 1829, 'surprise': 1830, 'jump': 1831, 'treat': 1832, 'toothbrush': 1833, 'wee': 1834, 'wet': 1835, 'liek': 1836, 'polar': 1837, 'argue': 1838, 'bro': 1839, 'peace': 1840, 'caused': 1841, 'lately': 1842, 'nick': 1843, 'mall': 1844, 'amusement': 1845, 'outfit': 1846, 'peanut': 1847, 'appear': 1848, 'fortune': 1849, 'easiest': 1850, 'theater': 1851, 'awkward': 1852, 'swimming': 1853, 'fruit': 1854, 'held': 1855, 'superman': 1856, 'anal': 1857, 'ball': 1858, 'constantly': 1859, 'dose': 1860, 'dum': 1861, 'differently': 1862, 'spouse': 1863, 'eggs': 1864, 'foot': 1865, 'sell': 1866, 'hero': 1867, 'booty': 1868, 'honolulu': 1869, 'boss': 1870, 'probly': 1871, 'havee': 1872, 'megan': 1873, 'yuhh': 1874, 'homo': 1875, 'rq': 1876, 'aye': 1877, 'dam': 1878, 'mhe': 1879, 'doo': 1880, 'knoww': 1881, 'rm': 1882, 'iam': 1883, 'wht': 1884, 'montana': 1885, 'doubt': 1886, 'ignorant': 1887, 'thanx': 1888, 'friendship': 1889, 'present': 1890, 'business': 1891, 'mark': 1892, 'cutest': 1893, 'wondering': 1894, 'unexpected': 1895, 'surgery': 1896, 'stripper': 1897, 'driver': 1898, 'fried': 1899, 'boat': 1900, 'limit': 1901, 'ddu': 1902, 'smexy': 1903, 'hawaii': 1904, 'noses': 1905, 'beans': 1906, 'carry': 1907, 'slap': 1908, 'stuffed': 1909, 'sum': 1910, 'button': 1911, 'neva': 1912, 'uh': 1913, 'monday': 1914, 'graders': 1915, 'loveee': 1916, 'thursday': 1917, 'highschool': 1918, 'grades': 1919, 'rofl': 1920, 'smh': 1921, 'thou': 1922, 'ftw': 1923, 'fill': 1924, 'fyi': 1925, 'teh': 1926, 'heck': 1927, 'punch': 1928, 'army': 1929, 'soul': 1930, 'issues': 1931, 'yoru': 1932, 'becuz': 1933, 'dads': 1934, 'preg': 1935, 'article': 1936, 'games': 1937, 'raise': 1938, 'jelly': 1939, 'milo': 1940, 'san': 1941, 'countries': 1942, 'playnext': 1943, 'nephew': 1944, 'tnite': 1945, 'reckon': 1946, 'office': 1947, 'burn': 1948, 'knock': 1949, 'pocket': 1950, 'naturally': 1951, 'attacked': 1952, 'example': 1953, 'cheap': 1954, 'uhhh': 1955, 'sucked': 1956, 'sending': 1957, 'kicked': 1958, 'juice': 1959, 'talks': 1960, 'cure': 1961, 'logged': 1962, 'artist': 1963, 'woo': 1964, 'including': 1965, 'chuck': 1966, 'hah': 1967, 'zach': 1968, 'slightly': 1969, 'valentines': 1970, 'niggers': 1971, 'vote': 1972, 'toast': 1973, 'evening': 1974, 'naomily': 1975, 'religions': 1976, 'disagree': 1977, 'naomi': 1978, 'talent': 1979, 'gusta': 1980, 'outlaw': 1981, 'compared': 1982, 'talker': 1983, 'definitely': 1984, 'dancer': 1985, 'dr': 1986, 'closet': 1987, 'thang': 1988, 'magazine': 1989, 'grab': 1990, 'srry': 1991, 'snore': 1992, 'brothers': 1993, 'flower': 1994, 'united': 1995, 'jumping': 1996, 'jet': 1997, 'freaking': 1998, 'bitchh': 1999, 'league': 2000, 'lmfaoo': 2001, 'ashlee': 2002, 'awhile': 2003, 'dear': 2004, 'persons': 2005, 'metal': 2006, 'pole': 2007, 'perform': 2008, 'circus': 2009, 'create': 2010, 'gimme': 2011, 'shape': 2012, 'beginning': 2013, 'forgot': 2014, 'showing': 2015, 'anonymus': 2016, 'horrible': 2017, 'prettier': 2018, 'onee': 2019, 'yourr': 2020, 'andrew': 2021, 'nobody': 2022, 'particular': 2023, 'lindsey': 2024, 'raped': 2025, 'flying': 2026, 'fucken': 2027, 'bc': 2028, 'freak': 2029, 'eachother': 2030, 'guts': 2031, 'cuhh': 2032, 'ending': 2033, 'midnight': 2034, 'player': 2035, 'generally': 2036, 'complimented': 2037, 'bees': 2038, 'mostly': 2039, 'saved': 2040, 'exciting': 2041, 'stores': 2042, 'sore': 2043, 'due': 2044, 'obsessed': 2045, 'picky': 2046, 'grammar': 2047, 'ozzy': 2048, 'briefs': 2049, 'mouse': 2050, 'ton': 2051, 'crop': 2052, 'square': 2053, 'sentence': 2054, 'tie': 2055, 'brownies': 2056, 'celebrate': 2057, 'embarrassing': 2058, 'minds': 2059, 'uses': 2060, 'lip': 2061, 'sneeze': 2062, 'creative': 2063, 'regardless': 2064, 'becoming': 2065, 'model': 2066, 'stronger': 2067, 'karate': 2068, 'beef': 2069, 'showers': 2070, 'kool': 2071, 'aid': 2072, 'politics': 2073, 'wind': 2074, 'airplane': 2075, 'parties': 2076, 'christian': 2077, 'spaghetti': 2078, 'bust': 2079, 'races': 2080, 'yell': 2081, 'dry': 2082, 'shame': 2083, 'package': 2084, 'deserted': 2085, 'comedian': 2086, 'station': 2087, 'followed': 2088, 'buried': 2089, 'potter': 2090, 'brought': 2091, 'drawn': 2092, 'items': 2093, 'extra': 2094, 'ashamed': 2095, 'bitten': 2096, 'skating': 2097, 'six': 2098, 'fart': 2099, 'locked': 2100, 'busted': 2101, 'item': 2102, 'ridden': 2103, 'enjoyed': 2104, 'lindsay': 2105, 'ddd': 2106, 'speech': 2107, 'express': 2108, 'emotions': 2109, 'direct': 2110, 'quiet': 2111, 'nights': 2112, 'prostitute': 2113, 'yrs': 2114, 'seemed': 2115, 'thousand': 2116, 'note': 2117, 'corn': 2118, 'cares': 2119, 'lingerie': 2120, 'popular': 2121, 'rabbits': 2122, 'weapon': 2123, 'remove': 2124, 'universe': 2125, 'monkey': 2126, 'pig': 2127, 'decisions': 2128, 'drives': 2129, 'tests': 2130, 'kfc': 2131, 'butterflies': 2132, 'killer': 2133, 'entertaining': 2134, 'sis': 2135, 'exact': 2136, 'household': 2137, 'barely': 2138, 'disappear': 2139, 'cash': 2140, 'cooler': 2141, 'racist': 2142, 'favor': 2143, 'offers': 2144, 'toothpaste': 2145, 'invite': 2146, 'field': 2147, 'youve': 2148, 'shampoo': 2149, 'conditioner': 2150, 'reminds': 2151, 'painted': 2152, 'pray': 2153, 'snap': 2154, 'art': 2155, 'happening': 2156, 'pleasure': 2157, 'disney': 2158, 'motto': 2159, 'finding': 2160, 'busy': 2161, 'sibling': 2162, 'theaters': 2163, 'flavored': 2164, 'jewelry': 2165, 'mirror': 2166, 'lay': 2167, 'visited': 2168, 'hidden': 2169, 'cooks': 2170, 'superhero': 2171, 'doctors': 2172, 'press': 2173, 'remote': 2174, 'spoiled': 2175, 'covered': 2176, 'dirt': 2177, 'vision': 2178, 'nail': 2179, 'accidentally': 2180, 'vegetables': 2181, 'chicago': 2182, 'ingredient': 2183, 'disposal': 2184, 'rules': 2185, 'couch': 2186, 'andrea': 2187, 'fukk': 2188, 'pierced': 2189, 'thiss': 2190, 'hoes': 2191, 'dd': 2192, 'muchh': 2193, 'celtics': 2194, 'fix': 2195, 'yeahhh': 2196, 'askk': 2197, 'youuuu': 2198, 'txt': 2199, 'affect': 2200, 'fox': 2201, 'faggot': 2202, 'ooo': 2203, 'signed': 2204, 'innocent': 2205, 'qq': 2206, 'den': 2207, 'noe': 2208, 'wam': 2209, 'ben': 2210, 'nq': 2211, 'ne': 2212, 'hiii': 2213, 'pr': 2214, 'videos': 2215, 'okayy': 2216, 'dis': 2217, 'hannah': 2218, 'sean': 2219, 'noooo': 2220, 'tries': 2221, 'naw': 2222, 'downr': 2223, 'photobucket': 2224, 'scene': 2225, 'acting': 2226, 'cookies': 2227, 'danced': 2228, 'strongly': 2229, 'fault': 2230, 'wishes': 2231, 'checking': 2232, 'pryce': 2233, 'jar': 2234, 'minded': 2235, 'pickup': 2236, 'faces': 2237, 'suppose': 2238, 'sooooo': 2239, 'definition': 2240, 'acts': 2241, 'sweetest': 2242, 'unless': 2243, 'runs': 2244, 'stranded': 2245, 'desert': 2246, 'beverage': 2247, 'figure': 2248, 'cmon': 2249, 'ot': 2250, 'emergency': 2251, 'previews': 2252, 'sunny': 2253, 'national': 2254, 'fuzzy': 2255, 'expected': 2256, 'gettin': 2257, 'success': 2258, 'weight': 2259, 'license': 2260, 'coconut': 2261, 'scientists': 2262, 'raining': 2263, 'vice': 2264, 'versa': 2265, 'plain': 2266, 'chat': 2267, 'trees': 2268, 'expect': 2269, 'phrase': 2270, 'theory': 2271, 'hopes': 2272, 'theyu': 2273, 'diving': 2274, 'underage': 2275, 'thatt': 2276, 'tapping': 2277, 'wbu': 2278, 'everybody': 2279, 'mehh': 2280, 'brunettes': 2281, 'cutiee': 2282, 'nut': 2283, 'anyones': 2284, 'farted': 2285, 'necklace': 2286, 'thick': 2287, 'tru': 2288, 'beyonce': 2289, 'wahts': 2290, 'punishment': 2291, 'compliment': 2292, 'yupp': 2293, 'wnt': 2294, 'whatchu': 2295, 'depressed': 2296, 'moises': 2297, 'southwood': 2298, 'mike': 2299, 'respond': 2300, 'spoken': 2301, 'mission': 2302, 'bday': 2303, 'admit': 2304, 'nahh': 2305, 'atleast': 2306, 'brb': 2307, 'friggin': 2308, 'skylines': 2309, 'muah': 2310, 'agreed': 2311, 'weapons': 2312, 'bars': 2313, 'etcetera': 2314, 'youngest': 2315, 'accomplish': 2316, 'koala': 2317, 'butterfly': 2318, 'ny': 2319, 'sweat': 2320, 'tumblr': 2321, 'congrats': 2322, 'hella': 2323, 'helpful': 2324, 'crocodile': 2325, 'mates': 2326, 'sydney': 2327, 'toys': 2328, 'walks': 2329, 'forgive': 2330, 'accent': 2331, 'folk': 2332, 'influence': 2333, 'ladies': 2334, 'contact': 2335, 'bat': 2336, 'tomoro': 2337, 'adjective': 2338, 'growing': 2339, 'shud': 2340, 'salt': 2341, 'detail': 2342, 'experiences': 2343, 'ditch': 2344, 'tax': 2345, 'running': 2346, 'moved': 2347, 'sugar': 2348, 'zooshay': 2349, 'retardedness': 2350, 'conversations': 2351, 'estimate': 2352, 'consume': 2353, 'playlist': 2354, 'accept': 2355, 'ocd': 2356, 'washed': 2357, 'ozzie': 2358, 'newer': 2359, 'responses': 2360, 'dork': 2361, 'ebuddy': 2362, 'golf': 2363, 'card': 2364, 'cop': 2365, 'breathing': 2366, 'calm': 2367, 'waaay': 2368, 'rectangular': 2369, 'kiwi': 2370, 'typically': 2371, 'hitler': 2372, 'flu': 2373, 'shore': 2374, 'mm': 2375, 'uncle': 2376, 'skills': 2377, 'terrible': 2378, 'blowing': 2379, 'nicely': 2380, 'ignoring': 2381, 'indian': 2382, 'spamm': 2383, 'meee': 2384, 'ummm': 2385, 'raw': 2386, 'tag': 2387, 'album': 2388, 'gold': 2389, 'slasher': 2390, 'neighbors': 2391, 'closer': 2392, 'session': 2393, 'darling': 2394, 'companies': 2395, 'thin': 2396, 'electric': 2397, 'easier': 2398, 'math': 2399, 'edc': 2400, 'nate': 2401, 'worked': 2402, 'action': 2403, 'poke': 2404, 'clouds': 2405, 'samlovessimoa': 2406, 'dared': 2407, 'ives': 2408, 'books': 2409, 'bristol': 2410, 'americans': 2411, 'someoneu': 2412, 'opinions': 2413, 'expand': 2414, 'reduce': 2415, 'brup': 2416, 'skiing': 2417, 'ambulance': 2418, 'soft': 2419, 'lily': 2420, 'multiple': 2421, 'essay': 2422, 'ashleigh': 2423, 'alaska': 2424, 'era': 2425, 'upstairs': 2426, 'colombia': 2427, 'meaning': 2428, 'supposedly': 2429, 'simple': 2430, 'cakes': 2431, 'status': 2432, 'topic': 2433, 'peeve': 2434, 'tend': 2435, 'needles': 2436, 'ba': 2437, 'september': 2438, 'bryan': 2439, 'repeat': 2440, 'eres': 2441, 'usher': 2442, 'se': 2443, 'tinychat': 2444, 'brazil': 2445, 'proud': 2446, 'pro': 2447, 'automatically': 2448, 'whaa': 2449, 'abusive': 2450, 'killing': 2451, 'larger': 2452, 'option': 2453, 'spanking': 2454, 'flag': 2455, 'chores': 2456, 'tips': 2457, 'truace': 2458, 'listener': 2459, 'bahahahaha': 2460, 'luck': 2461, 'intelligent': 2462, 'memories': 2463, 'ga': 2464, 'idol': 2465, 'haa': 2466, 'duhh': 2467, 'barack': 2468, 'athlete': 2469, 'unlimited': 2470, 'bak': 2471, 'yess': 2472, 'oo': 2473, 'heres': 2474, 'clue': 2475, 'nopeee': 2476, 'sandals': 2477, 'freakin': 2478, 'corner': 2479, 'dats': 2480, 'jonas': 2481, 'invention': 2482, 'glasses': 2483, 'furthest': 2484, 'delicious': 2485, 'achievement': 2486, 'google': 2487, 'retirement': 2488, 'destination': 2489, 'committed': 2490, 'luxury': 2491, 'attitude': 2492, 'plays': 2493, 'accomplishment': 2494, 'joie': 2495, 'hm': 2496, 'faking': 2497, 'amuse': 2498, 'upp': 2499, 'user': 2500, 'baha': 2501, 'screen': 2502, 'location': 2503, 'heads': 2504, 'recognize': 2505, 'bob': 2506, 'cyrus': 2507, 'hometown': 2508, 'woods': 2509, 'spring': 2510, 'gang': 2511, 'dyed': 2512, 'writing': 2513, 'ca': 2514, 'soooooo': 2515, 'fucked': 2516, 'hunt': 2517, 'remind': 2518, 'error': 2519, 'copy': 2520, 'immature': 2521, 'nom': 2522, 'beast': 2523, 'deff': 2524, 'miami': 2525, 'bitchhh': 2526, 'himm': 2527, 'wuld': 2528, 'jelous': 2529, 'coke': 2530, 'firey': 2531, 'harassing': 2532, 'guarantee': 2533, 'cnt': 2534, 'jewish': 2535, 'fade': 2536, 'hott': 2537, 'drowning': 2538, 'min': 2539, 'appreciate': 2540, 'convo': 2541, 'youd': 2542, 'hobo': 2543, 'ducks': 2544, 'grandparents': 2545, 'someday': 2546, 'follower': 2547, 'risk': 2548, 'taker': 2549, 'touchy': 2550, 'feely': 2551, 'snakes': 2552, 'wanting': 2553, 'argument': 2554, 'spiders': 2555, 'romantically': 2556, 'loud': 2557, 'doesnu': 2558, 'passionate': 2559, 'buys': 2560, 'agrees': 2561, 'apples': 2562, 'atheist': 2563, 'boxers': 2564, 'bugs': 2565, 'cross': 2566, 'draw': 2567, 'manual': 2568, 'shift': 2569, 'motorcycle': 2570, 'underwater': 2571, 'skip': 2572, 'rocks': 2573, 'cheesecake': 2574, 'timmy': 2575, 'fairy': 2576, 'psychic': 2577, 'worlds': 2578, 'xen': 2579, 'instrument': 2580, 'calls': 2581, 'fate': 2582, 'destiny': 2583, 'chew': 2584, 'foods': 2585, 'buying': 2586, 'steps': 2587, 'satisfied': 2588, 'released': 2589, 'argumentative': 2590, 'sores': 2591, 'chances': 2592, 'beatles': 2593, 'routine': 2594, 'located': 2595, 'problems': 2596, 'classes': 2597, 'bank': 2598, 'addict': 2599, 'poker': 2600, 'bears': 2601, 'carrots': 2602, 'hugging': 2603, 'uncomfortable': 2604, 'coaster': 2605, 'skittles': 2606, 'weed': 2607, 'category': 2608, 'objects': 2609, 'traveling': 2610, 'depending': 2611, 'truly': 2612, 'recycle': 2613, 'shrug': 2614, 'complete': 2615, 'closed': 2616, 'relate': 2617, 'generation': 2618, 'sarcastic': 2619, 'toss': 2620, 'yelled': 2621, 'singers': 2622, 'smoking': 2623, 'starbucks': 2624, 'erase': 2625, 'pen': 2626, 'emahsnouoy': 2627, 'apology': 2628, 'activity': 2629, 'peed': 2630, 'sunshine': 2631, 'lips': 2632, 'tears': 2633, 'mens': 2634, 'restroom': 2635, 'evr': 2636, 'repeatedly': 2637, 'flags': 2638, 'africa': 2639, 'cyber': 2640, 'passing': 2641, 'gas': 2642, 'collected': 2643, 'fruits': 2644, 'dated': 2645, 'contest': 2646, 'experienced': 2647, 'urge': 2648, 'elevator': 2649, 'fired': 2650, 'mary': 2651, 'lessons': 2652, 'drove': 2653, 'lied': 2654, 'trailer': 2655, 'lohan': 2656, 'cockroaches': 2657, 'sheep': 2658, 'shrink': 2659, 'grass': 2660, 'paying': 2661, 'holidays': 2662, 'pronounce': 2663, 'series': 2664, 'numbers': 2665, 'mail': 2666, 'download': 2667, 'separate': 2668, 'castig': 2669, 'relax': 2670, 'ahve': 2671, 'kitty': 2672, 'rite': 2673, 'remaining': 2674, 'provoking': 2675, 'fed': 2676, 'tiny': 2677, 'spin': 2678, 'bottle': 2679, 'modern': 2680, 'developed': 2681, 'moving': 2682, 'plant': 2683, 'emotion': 2684, 'instantly': 2685, 'haunt': 2686, 'dip': 2687, 'millions': 2688, 'cancer': 2689, 'report': 2690, 'abducted': 2691, 'flaw': 2692, 'necessary': 2693, 'smelling': 2694, 'nominations': 2695, 'record': 2696, 'christina': 2697, 'catch': 2698, 'twist': 2699, 'toppings': 2700, 'spill': 2701, 'products': 2702, 'chore': 2703, 'paris': 2704, 'cooking': 2705, 'meeee': 2706, 'wax': 2707, 'standing': 2708, 'explore': 2709, 'native': 2710, 'peter': 2711, 'complaining': 2712, 'spontaneity': 2713, 'stability': 2714, 'peeps': 2715, 'removed': 2716, 'whatcha': 2717, 'abuse': 2718, 'hottest': 2719, 'deciding': 2720, 'planning': 2721, 'secrets': 2722, 'ft': 2723, 'miles': 2724, 'thongs': 2725, 'explode': 2726, 'dryer': 2727, 'vid': 2728, 'exist': 2729, 'bare': 2730, 'lottery': 2731, 'exotic': 2732, 'desktop': 2733, 'salad': 2734, 'pointless': 2735, 'reality': 2736, 'alarm': 2737, 'prep': 2738, 'disease': 2739, 'jumped': 2740, 'stole': 2741, 'wallet': 2742, 'neighbor': 2743, 'sudden': 2744, 'rhymes': 2745, 'misspell': 2746, 'ohio': 2747, 'kindest': 2748, 'achieve': 2749, 'ethnicity': 2750, 'nationality': 2751, 'depp': 2752, 'continuing': 2753, 'umbrella': 2754, 'rainbow': 2755, 'bury': 2756, 'zombies': 2757, 'ranger': 2758, 'hugged': 2759, 'pieces': 2760, 'stale': 2761, 'begin': 2762, 'yawn': 2763, 'battery': 2764, 'beard': 2765, 'stung': 2766, 'auto': 2767, 'insurance': 2768, 'woot': 2769, 'strip': 2770, 'freaky': 2771, 'fries': 2772, 'leg': 2773, 'someones': 2774, 'actual': 2775, 'polish': 2776, 'humankind': 2777, 'immediate': 2778, 'build': 2779, 'painting': 2780, 'previous': 2781, 'nba': 2782, 'tickets': 2783, 'helped': 2784, 'poop': 2785, 'chillin': 2786, 'hahha': 2787, 'coo': 2788, 'ay': 2789, 'qirl': 2790, 'bitchez': 2791, 'prolly': 2792, 'dayumm': 2793, 'yerr': 2794, 'helloo': 2795, 'meeh': 2796, 'jealousy': 2797, 'witt': 2798, 'throat': 2799, 'panties': 2800, 'mii': 2801, 'virgen': 2802, 'uhmm': 2803, 'wayyy': 2804, 'wiff': 2805, 'bestie': 2806, 'qe': 2807, 'mah': 2808, 'mo': 2809, 'ry': 2810, 'rap': 2811, 'dhatt': 2812, 'grandpa': 2813, 'mikey': 2814, 'toe': 2815, 'qh': 2816, 'dha': 2817, 'azz': 2818, 'ididnt': 2819, 'spot': 2820, 'juss': 2821, 'forr': 2822, 'nk': 2823, 'dese': 2824, 'piercing': 2825, 'ohkay': 2826, 'du': 2827, 'braces': 2828, 'virginity': 2829, 'lykk': 2830, 'spongebob': 2831, 'brock': 2832, 'babydoll': 2833, 'degrassi': 2834, 'however': 2835, 'mart': 2836, 'vvvvv': 2837, 'approve': 2838, 'bunch': 2839, 'idc': 2840, 'perfectly': 2841, 'nee': 2842, 'sensitive': 2843, 'snobby': 2844, 'poems': 2845, 'writer': 2846, 'condom': 2847, 'asks': 2848, 'symptoms': 2849, 'ish': 2850, 'fixed': 2851, 'lines': 2852, 'booo': 2853, 'dump': 2854, 'goods': 2855, 'handed': 2856, 'chest': 2857, 'shaun': 2858, 'coolest': 2859, 'adam': 2860, 'appears': 2861, 'booze': 2862, 'clocks': 2863, 'tattooed': 2864, 'include': 2865, 'nicknames': 2866, 'expecting': 2867, 'worn': 2868, 'whoever': 2869, 'hunting': 2870, 'crayon': 2871, 'allergic': 2872, 'attack': 2873, 'refuses': 2874, 'breast': 2875, 'expense': 2876, 'degrees': 2877, 'grape': 2878, 'banks': 2879, 'highest': 2880, 'eu': 2881, 'uu': 2882, 'stretch': 2883, 'carpet': 2884, 'force': 2885, 'walls': 2886, 'tombstone': 2887, 'fancy': 2888, 'bible': 2889, 'incoming': 2890, 'calculator': 2891, 'ground': 2892, 'grapes': 2893, 'dudes': 2894, 'asses': 2895, 'price': 2896, 'muffin': 2897, 'danica': 2898, 'shiz': 2899, 'losing': 2900, 'nothhinnqq': 2901, 'flow': 2902, 'guitar': 2903, 'albums': 2904, 'operas': 2905, 'nicee': 2906, 'sweetie': 2907, 'pa': 2908, 'lolz': 2909, 'channel': 2910, 'nooo': 2911, 'oooh': 2912, 'spending': 2913, 'blushing': 2914, 'thx': 2915, 'lolr': 2916, 'images': 2917, 'search': 2918, 'scent': 2919, 'gud': 2920, 'seein': 2921, 'youur': 2922, 'compete': 2923, 'mutha': 2924, 'jacob': 2925, 'lemme': 2926, 'ended': 2927, 'ju': 2928, 'isaac': 2929, 'natasha': 2930, 'iron': 2931, 'breaking': 2932, 'girlfriends': 2933, 'evil': 2934, 'wonderful': 2935, 'hola': 2936, 'rachel': 2937, 'claim': 2938, 'flirts': 2939, 'mistake': 2940, 'lauraa': 2941, 'workouts': 2942, 'vagina': 2943, 'stood': 2944, 'kickboxing': 2945, 'shaking': 2946, 'passed': 2947, 'shouldnt': 2948, 'tap': 2949, 'destruction': 2950, 'design': 2951, 'sidekick': 2952, 'response': 2953, 'olds': 2954, 'po': 2955, 'mma': 2956, 'blank': 2957, 'wireless': 2958, 'candle': 2959, 'chickety': 2960, 'continued': 2961, 'moody': 2962, 'nieces': 2963, 'nephews': 2964, 'affection': 2965, 'slang': 2966, 'owns': 2967, 'rice': 2968, 'cost': 2969, 'oriented': 2970, 'unda': 2971, 'donuts': 2972, 'mistaflintstone': 2973, 'aquarium': 2974, 'waffles': 2975, 'spit': 2976, 'swallow': 2977, 'angeles': 2978, 'thingy': 2979, 'fascinating': 2980, 'compare': 2981, 'sake': 2982, 'witness': 2983, 'pound': 2984, 'ym': 2985, 'lotus': 2986, 'notes': 2987, 'beats': 2988, 'rza': 2989, 'okies': 2990, 'crowd': 2991, 'rangers': 2992, 'aka': 2993, 'stone': 2994, 'stroke': 2995, 'tough': 2996, 'disaster': 2997, 'pale': 2998, 'choices': 2999, 'swam': 3000, 'heatwave': 3001, 'tin': 3002, 'roads': 3003, 'mornings': 3004, 'oiii': 3005, 'websites': 3006, 'connected': 3007, 'dates': 3008, 'mista': 3009, 'spammer': 3010, 'hwo': 3011, 'yard': 3012, 'hugh': 3013, 'bike': 3014, 'liqueur': 3015, 'string': 3016, 'backyard': 3017, 'turtle': 3018, 'opening': 3019, 'rum': 3020, 'buzzed': 3021, 'lataz': 3022, 'lollies': 3023, 'snake': 3024, 'doll': 3025, 'purpose': 3026, 'beside': 3027, 'community': 3028, 'service': 3029, 'journal': 3030, 'rapper': 3031, 'coon': 3032, 'revenge': 3033, 'spamed': 3034, 'laying': 3035, 'wa': 3036, 'swine': 3037, 'heading': 3038, 'picking': 3039, 'jersey': 3040, 'submit': 3041, 'geek': 3042, 'dramas': 3043, 'models': 3044, 'neon': 3045, 'edge': 3046, 'randomness': 3047, 'anons': 3048, 'nowhere': 3049, 'hardcore': 3050, 'addiction': 3051, 'mwah': 3052, 'pirates': 3053, 'ninjas': 3054, 'potatoes': 3055, 'saddest': 3056, 'chronic': 3057, 'acne': 3058, 'energy': 3059, 'ages': 3060, 'letters': 3061, 'informed': 3062, 'log': 3063, 'chu': 3064, 'terms': 3065, 'rolling': 3066, 'trade': 3067, 'traits': 3068, 'admire': 3069, 'activities': 3070, 'prom': 3071, 'impression': 3072, 'stage': 3073, 'deepest': 3074, 'hobby': 3075, 'colours': 3076, 'talkative': 3077, 'dessert': 3078, 'floods': 3079, 'pete': 3080, 'farm': 3081, 'snowboarding': 3082, 'smooth': 3083, 'embarrassed': 3084, 'skies': 3085, 'frequently': 3086, 'googling': 3087, 'monkeys': 3088, 'egg': 3089, 'acacia': 3090, 'picnic': 3091, 'starring': 3092, 'turban': 3093, 'celeb': 3094, 'breed': 3095, 'mouthy': 3096, 'hairy': 3097, 'homework': 3098, 'amazingly': 3099, 'billy': 3100, 'meeting': 3101, 'hug': 3102, 'hmph': 3103, 'searching': 3104, 'wide': 3105, 'dun': 3106, 'connection': 3107, 'seek': 3108, 'michaela': 3109, 'rose': 3110, 'cody': 3111, 'decision': 3112, 'giraffe': 3113, 'intense': 3114, 'scariest': 3115, 'rad': 3116, 'elementary': 3117, 'otherwise': 3118, 'graham': 3119, 'election': 3120, 'slope': 3121, 'avoid': 3122, 'snog': 3123, 'films': 3124, 'blondes': 3125, 'alike': 3126, 'desk': 3127, 'quickly': 3128, 'mcdonalds': 3129, 'individual': 3130, 'puppy': 3131, 'brizzle': 3132, 'tweet': 3133, 'crisps': 3134, 'swift': 3135, 'anatomy': 3136, 'rly': 3137, 'ski': 3138, 'situations': 3139, 'carla': 3140, 'beds': 3141, 'ep': 3142, 'forest': 3143, 'stressed': 3144, 'succeed': 3145, 'mmmm': 3146, 'cob': 3147, 'nuisance': 3148, 'obstetrician': 3149, 'wives': 3150, 'preparing': 3151, 'gym': 3152, 'kat': 3153, 'ancient': 3154, 'stripes': 3155, 'jam': 3156, 'speed': 3157, 'heroin': 3158, 'impact': 3159, 'penalty': 3160, 'injection': 3161, 'approximately': 3162, 'yoo': 3163, 'wha': 3164, 'hee': 3165, 'luvv': 3166, 'imani': 3167, 'con': 3168, 'dm': 3169, 'changing': 3170, 'onetrubelieber': 3171, 'eminem': 3172, 'haus': 3173, 'dots': 3174, 'hbu': 3175, 'alguien': 3176, 'meow': 3177, 'thatu': 3178, 'pepper': 3179, 'welfare': 3180, 'strong': 3181, 'mayo': 3182, 'sandwhich': 3183, 'poison': 3184, 'government': 3185, 'employees': 3186, 'bathrooms': 3187, 'pleasee': 3188, 'engaged': 3189, 'specifically': 3190, 'causes': 3191, 'local': 3192, 'wouldnu': 3193, 'appropriate': 3194, 'overall': 3195, 'bud': 3196, 'career': 3197, 'cheater': 3198, 'proven': 3199, 'basically': 3200, 'hiv': 3201, 'extreme': 3202, 'tanning': 3203, 'obesity': 3204, 'parental': 3205, 'economy': 3206, 'interrupted': 3207, 'tampons': 3208, 'otep': 3209, 'circumcised': 3210, 'length': 3211, 'aspects': 3212, 'meganmedellin': 3213, 'mandatory': 3214, 'blinds': 3215, 'knowlege': 3216, 'adventure': 3217, 'forced': 3218, 'ci': 3219, 'stereotype': 3220, 'effective': 3221, 'popping': 3222, 'fireworks': 3223, 'rack': 3224, 'signs': 3225, 'main': 3226, 'nearest': 3227, 'research': 3228, 'dalmatians': 3229, 'duh': 3230, 'uuuu': 3231, 'trusting': 3232, 'frensh': 3233, 'voting': 3234, 'stalkers': 3235, 'becuase': 3236, 'youhr': 3237, 'haaa': 3238, 'itellyouthat': 3239, 'incredibly': 3240, 'wannah': 3241, 'chica': 3242, 'youuuuuuu': 3243, 'invited': 3244, 'fictional': 3245, 'skill': 3246, 'guests': 3247, 'spree': 3248, 'ilove': 3249, 'teaching': 3250, 'miley': 3251, 'yurself': 3252, 'prettty': 3253, 'sooooooo': 3254, 'zzzz': 3255, 'anna': 3256, 'apa': 3257, 'exceptionally': 3258, 'workplace': 3259, 'perk': 3260, 'earliest': 3261, 'crushes': 3262, 'bungee': 3263, 'zombie': 3264, 'mummy': 3265, 'yeh': 3266, 'nada': 3267, 'pshhh': 3268, 'yurr': 3269, 'reall': 3270, 'insult': 3271, 'talented': 3272, 'whyy': 3273, 'suchh': 3274, 'aa': 3275, 'lolol': 3276, 'findersingle': 3277, 'wishfulthinker': 3278, 'hamburgers': 3279, 'lock': 3280, 'missy': 3281, 'twisted': 3282, 'faught': 3283, 'grosss': 3284, 'messed': 3285, 'lifeless': 3286, 'georgia': 3287, 'heey': 3288, 'poo': 3289, 'pigs': 3290, 'vomit': 3291, 'stink': 3292, 'hamster': 3293, 'messes': 3294, 'bg': 3295, 'adtr': 3296, 'dumbfuck': 3297, 'proper': 3298, 'unlike': 3299, 'creating': 3300, 'kcoolbye': 3301, 'comebacks': 3302, 'vvvvvvv': 3303, 'bitchess': 3304, 'favv': 3305, 'waterpark': 3306, 'pays': 3307, 'groups': 3308, 'bullshit': 3309, 'backs': 3310, 'nastyy': 3311, 'hush': 3312, 'ahaa': 3313, 'failed': 3314, 'rapist': 3315, 'foing': 3316, 'badass': 3317, 'bleed': 3318, 'fagget': 3319, 'ahahaha': 3320, 'previously': 3321, 'except': 3322, 'grossest': 3323, 'stripped': 3324, 'plaid': 3325, 'vans': 3326, 'owned': 3327, 'helps': 3328, 'catholic': 3329, 'track': 3330, 'eight': 3331, 'kidd': 3332, 'throwing': 3333, 'hunny': 3334, 'tryna': 3335, 'namee': 3336, 'shira': 3337, 'pussys': 3338, 'victim': 3339, 'pisses': 3340, 'fucks': 3341, 'dawg': 3342, 'cans': 3343, 'feelin': 3344, 'filipino': 3345, 'ilike': 3346, 'lols': 3347, 'sees': 3348, 'remembering': 3349, 'tape': 3350, 'phoebe': 3351, 'charmed': 3352, 'realistic': 3353, 'bruises': 3354, 'friendly': 3355, 'generous': 3356, 'leader': 3357, 'risks': 3358, 'tease': 3359, 'carrying': 3360, 'grudges': 3361, 'jointed': 3362, 'frightened': 3363, 'vegetarian': 3364, 'folded': 3365, 'drawer': 3366, 'thrown': 3367, 'collection': 3368, 'stops': 3369, 'coolr': 3370, 'cheats': 3371, 'boxer': 3372, 'bunny': 3373, 'hotel': 3374, 'lice': 3375, 'circles': 3376, 'cleveland': 3377, 'bfquu': 3378, 'os': 3379, 'parece': 3380, 'blogspot': 3381, 'default': 3382, 'tooth': 3383, 'boiling': 3384, 'ceiling': 3385, 'killers': 3386, 'twinkle': 3387, 'diary': 3388, 'honesty': 3389, 'policy': 3390, 'demons': 3391, 'selfish': 3392, 'pencils': 3393, 'knuckles': 3394, 'label': 3395, 'bottles': 3396, 'humans': 3397, 'sheltered': 3398, 'unhappiness': 3399, 'display': 3400, 'manners': 3401, 'questiosn': 3402, 'robot': 3403, 'fetish': 3404, 'mentally': 3405, 'concerns': 3406, 'thigh': 3407, 'concrete': 3408, 'adopted': 3409, 'plug': 3410, 'alice': 3411, 'wonderland': 3412, 'necklaces': 3413, 'tomatoes': 3414, 'mustard': 3415, 'nachos': 3416, 'riding': 3417, 'cigarettes': 3418, 'rn': 3419, 'sharp': 3420, 'cruise': 3421, 'vitamin': 3422, 'quantity': 3423, 'dice': 3424, 'sweater': 3425, 'leopard': 3426, 'print': 3427, 'sayings': 3428, 'calories': 3429, 'scream': 3430, 'doors': 3431, 'covers': 3432, 'ethnic': 3433, 'vitamins': 3434, 'warped': 3435, 'accepted': 3436, 'morbid': 3437, 'psychics': 3438, 'questioning': 3439, 'raising': 3440, 'cam': 3441, 'switch': 3442, 'jock': 3443, 'headphones': 3444, 'ello': 3445, 'debates': 3446, 'dropped': 3447, 'relates': 3448, 'checked': 3449, 'ouija': 3450, 'dish': 3451, 'para': 3452, 'links': 3453, 'yuck': 3454, 'treasure': 3455, 'photos': 3456, 'lord': 3457, 'lazy': 3458, 'cleaned': 3459, 'swearing': 3460, 'modeling': 3461, 'beaten': 3462, 'spider': 3463, 'realizing': 3464, 'ebay': 3465, 'blamed': 3466, 'dreamt': 3467, 'pint': 3468, 'leaf': 3469, 'cops': 3470, 'required': 3471, 'baseball': 3472, 'bloody': 3473, 'werent': 3474, 'taxi': 3475, 'shaped': 3476, 'wasted': 3477, 'dial': 3478, 'tripping': 3479, 'solve': 3480, 'javeed': 3481, 'updating': 3482, 'fer': 3483, 'helping': 3484, 'suggestions': 3485, 'hottie': 3486, 'enemy': 3487, 'rains': 3488, 'disagrees': 3489, 'groom': 3490, 'heal': 3491, 'chairs': 3492, 'kinds': 3493, 'keys': 3494, 'fluently': 3495, 'pillows': 3496, 'flick': 3497, 'hiccups': 3498, 'braless': 3499, 'turning': 3500, 'lito': 3501, 'kills': 3502, 'pack': 3503, 'ehhh': 3504, 'aboutt': 3505, 'tosha': 3506, 'cowboy': 3507, 'escaped': 3508, 'revolution': 3509, 'fam': 3510, 'spoon': 3511, 'fork': 3512, 'toothpicks': 3513, 'surprised': 3514, 'kamusta': 3515, 'abandoned': 3516, 'wilderness': 3517, 'heat': 3518, 'cracks': 3519, 'olive': 3520, 'olives': 3521, 'address': 3522, 'torment': 3523, 'postage': 3524, 'circumstances': 3525, 'nuggets': 3526, 'suitcase': 3527, 'telephone': 3528, 'recover': 3529, 'relieve': 3530, 'boredom': 3531, 'elf': 3532, 'actress': 3533, 'graduated': 3534, 'positive': 3535, 'meaningful': 3536, 'humanity': 3537, 'quizzes': 3538, 'quizzical': 3539, 'sacrafice': 3540, 'mcdonald': 3541, 'mtv': 3542, 'jacksons': 3543, 'deserves': 3544, 'aguilera': 3545, 'wif': 3546, 'purse': 3547, 'mmm': 3548, 'terrifying': 3549, 'brains': 3550, 'philippines': 3551, 'hangover': 3552, 'omgee': 3553, 'texts': 3554, 'surrounded': 3555, 'mummies': 3556, 'giggling': 3557, 'tommorrow': 3558, 'ariel': 3559, 'regretted': 3560, 'sunrise': 3561, 'abused': 3562, 'adopt': 3563, 'darkest': 3564, 'hoping': 3565, 'plz': 3566, 'concerts': 3567, 'entirely': 3568, 'quitting': 3569, 'stoned': 3570, 'scout': 3571, 'brush': 3572, 'justice': 3573, 'stable': 3574, 'digits': 3575, 'bothers': 3576, 'criticize': 3577, 'sweaty': 3578, 'rok': 3579, 'spiderman': 3580, 'victoriau': 3581, 'shaving': 3582, 'outlook': 3583, 'bliss': 3584, 'oddest': 3585, 'silliest': 3586, 'strongest': 3587, 'overheard': 3588, 'largest': 3589, 'potato': 3590, 'chip': 3591, 'dressing': 3592, 'zodiac': 3593, 'rights': 3594, 'snack': 3595, 'creatively': 3596, 'spiritually': 3597, 'cured': 3598, 'parrot': 3599, 'shoulder': 3600, 'commonly': 3601, 'loving': 3602, 'funnest': 3603, 'furry': 3604, 'pringles': 3605, 'nightmare': 3606, 'farthest': 3607, 'minute': 3608, 'flipped': 3609, 'elses': 3610, 'cremated': 3611, 'groceries': 3612, 'toes': 3613, 'wyoming': 3614, 'pudding': 3615, 'appealing': 3616, 'inspires': 3617, 'wings': 3618, 'wars': 3619, 'nursing': 3620, 'leading': 3621, 'packs': 3622, 'forth': 3623, 'direction': 3624, 'yawning': 3625, 'tarzan': 3626, 'actions': 3627, 'cursed': 3628, 'available': 3629, 'rubinathy': 3630, 'stoopid': 3631, 'betch': 3632, 'basic': 3633, 'training': 3634, 'perjury': 3635, 'distance': 3636, 'prostitutes': 3637, 'shave': 3638, 'lighter': 3639, 'sprayed': 3640, 'handful': 3641, 'bathe': 3642, 'partying': 3643, 'third': 3644, 'mermaid': 3645, 'uncontrollable': 3646, 'canal': 3647, 'method': 3648, 'select': 3649, 'discover': 3650, 'depart': 3651, 'mornin': 3652, 'reallly': 3653, 'typical': 3654, 'posting': 3655, 'whn': 3656, 'bahaha': 3657, 'lexi': 3658, 'thozz': 3659, 'sinqle': 3660, 'nipplesz': 3661, 'awhh': 3662, 'thaa': 3663, 'yeww': 3664, 'fuken': 3665, 'gawt': 3666, 'watever': 3667, 'boyfran': 3668, 'amazin': 3669, 'fuckk': 3670, 'yhuu': 3671, 'ayee': 3672, 'hahahahha': 3673, 'hahhaa': 3674, 'hahhaha': 3675, 'onn': 3676, 'torres': 3677, 'prety': 3678, 'alexiss': 3679, 'gnna': 3680, 'laughs': 3681, 'itss': 3682, 'kardashian': 3683, 'hotter': 3684, 'bleh': 3685, 'oooo': 3686, 'thong': 3687, 'perv': 3688, 'moree': 3689, 'ahha': 3690, 'samee': 3691, 'sarah': 3692, 'giant': 3693, 'idkk': 3694, 'urz': 3695, 'qo': 3696, 'gonn': 3697, 'whuut': 3698, 'happenedd': 3699, 'yhuuu': 3700, 'luh': 3701, 'dh': 3702, 'ld': 3703, 'nn': 3704, 'cc': 3705, 'xy': 3706, 'rk': 3707, 'ahhhh': 3708, 'cuzzin': 3709, 'inlovee': 3710, 'sh': 3711, 'brah': 3712, 'ps': 3713, 'peirced': 3714, 'su': 3715, 'grl': 3716, 'becky': 3717, 'hawt': 3718, 'grasp': 3719, 'iguess': 3720, 'gudd': 3721, 'orgasm': 3722, 'ova': 3723, 'kum': 3724, 'ky': 3725, 'causee': 3726, 'shee': 3727, 'easter': 3728, 'luk': 3729, 'tyga': 3730, 'zzy': 3731, 'qro': 3732, 'drew': 3733, 'html': 3734, 'fresh': 3735, 'watss': 3736, 'monroe': 3737, 'makin': 3738, 'teehee': 3739, 'hopped': 3740, 'lakes': 3741, 'yhuew': 3742, 'youh': 3743, 'nt': 3744, 'suspended': 3745, 'confused': 3746, 'james': 3747, 'tellin': 3748, 'zz': 3749, 'yua': 3750, 'iz': 3751, 'fu': 3752, 'hahahahahah': 3753, 'oats': 3754, 'icareformybody': 3755, 'masterbate': 3756, 'sumthin': 3757, 'thts': 3758, 'access': 3759, 'tatum': 3760, 'worryr': 3761, 'onlyr': 3762, 'anniversary': 3763, 'jai': 3764, 'locascio': 3765, 'butttt': 3766, 'andd': 3767, 'dateing': 3768, 'dearest': 3769, 'fights': 3770, 'hilarious': 3771, 'mhm': 3772, 'ballfuck': 3773, 'alexander': 3774, 'lee': 3775, 'texans': 3776, 'shoved': 3777, 'scarlett': 3778, 'lesbians': 3779, 'chris': 3780, 'staring': 3781, 'jerk': 3782, 'looove': 3783, 'allll': 3784, 'inches': 3785, 'douche': 3786, 'jack': 3787, 'laptop': 3788, 'stalking': 3789, 'gentle': 3790, 'ridiculously': 3791, 'everywhere': 3792, 'smiley': 3793, 'dakota': 3794, 'published': 3795, 'woah': 3796, 'hittin': 3797, 'aidan': 3798, 'thumbs': 3799, 'cos': 3800, 'diff': 3801, 'ouch': 3802, 'obsolete': 3803, 'hatin': 3804, 'dumpster': 3805, 'divorce': 3806, 'fack': 3807, 'bfs': 3808, 'coool': 3809, 'damnit': 3810, 'scientific': 3811, 'intend': 3812, 'diviney': 3813, 'faggots': 3814, 'doodle': 3815, 'kayla': 3816, 'lik': 3817, 'ment': 3818, 'millon': 3819, 'xmas': 3820, 'favoroute': 3821, 'breathe': 3822, 'guessed': 3823, 'spread': 3824, 'twins': 3825, 'boxes': 3826, 'credits': 3827, 'marker': 3828, 'tickle': 3829, 'lightning': 3830, 'elephants': 3831, 'realised': 3832, 'hahahahahahaha': 3833, 'hahahahaha': 3834, 'nibbled': 3835, 'nibble': 3836, 'sauce': 3837, 'assassinated': 3838, 'murdered': 3839, 'center': 3840, 'lollipop': 3841, 'release': 3842, 'korn': 3843, 'chatzy': 3844, 'failure': 3845, 'patient': 3846, 'marries': 3847, 'taxes': 3848, 'stands': 3849, 'idiot': 3850, 'london': 3851, 'bridge': 3852, 'halloween': 3853, 'breaks': 3854, 'expanding': 3855, 'earthquakes': 3856, 'vegetarians': 3857, 'multi': 3858, 'overnight': 3859, 'raisin': 3860, 'traffic': 3861, 'hundred': 3862, 'sidewalk': 3863, 'dfu': 3864, 'nou': 3865, 'achieved': 3866, 'viva': 3867, 'folks': 3868, 'watermelon': 3869, 'hits': 3870, 'vegetable': 3871, 'knees': 3872, 'atheists': 3873, 'smiling': 3874, 'seasons': 3875, 'coined': 3876, 'latin': 3877, 'refrigerator': 3878, 'magical': 3879, 'putting': 3880, 'cleaner': 3881, 'broadcast': 3882, 'entry': 3883, 'towel': 3884, 'cpr': 3885, 'hehehehe': 3886, 'threesome': 3887, 'consist': 3888, 'insect': 3889, 'mammal': 3890, 'deaf': 3891, 'skydiving': 3892, 'cameron': 3893, 'looman': 3894, 'sneak': 3895, 'hung': 3896, 'smoked': 3897, 'optomist': 3898, 'wellll': 3899, 'hooker': 3900, 'ah': 3901, 'welll': 3902, 'dahh': 3903, 'myspacee': 3904, 'sir': 3905, 'awh': 3906, 'qot': 3907, 'moan': 3908, 'qet': 3909, 'yoous': 3910, 'yoou': 3911, 'seeds': 3912, 'laundry': 3913, 'tube': 3914, 'sureee': 3915, 'ar': 3916, 'havin': 3917, 'mowed': 3918, 'lawn': 3919, 'sumone': 3920, 'shady': 3921, 'moves': 3922, 'heyyyy': 3923, 'handsome': 3924, 'noted': 3925, 'cedesandtuesday': 3926, 'password': 3927, 'originally': 3928, 'briqhten': 3929, 'deadly': 3930, 'kay': 3931, 'kissss': 3932, 'koo': 3933, 'lmaoo': 3934, 'justt': 3935, 'itt': 3936, 'bein': 3937, 'ke': 3938, 'myspaceee': 3939, 'yuhhr': 3940, 'porque': 3941, 'rat': 3942, 'stealing': 3943, 'mexikan': 3944, 'vvvvvvvv': 3945, 'wassup': 3946, 'whatssupp': 3947, 'thenn': 3948, 'hmu': 3949, 'flickrphotosapi': 3950, 'uhmmm': 3951, 'vvvvvv': 3952, 'adding': 3953, 'qualities': 3954, 'yr': 3955, 'shiiit': 3956, 'yurs': 3957, 'zoosk': 3958, 'brittany': 3959, 'ellisboro': 3960, 'hater': 3961, 'motherfucker': 3962, 'jordann': 3963, 'amber': 3964, 'zack': 3965, 'alexa': 3966, 'seventh': 3967, 'columbian': 3968, 'tonyy': 3969, 'youuuuu': 3970, 'rebecca': 3971, 'lyn': 3972, 'matters': 3973, 'girll': 3974, 'funna': 3975, 'freinds': 3976, 'gues': 3977, 'elvis': 3978, 'parks': 3979, 'brianna': 3980, 'arnt': 3981, 'heyyyyyyy': 3982, 'bangs': 3983, 'stories': 3984, 'gorgeousss': 3985, 'youll': 3986, 'highly': 3987, 'hood': 3988, 'camper': 3989, 'jaja': 3990, 'lesbian': 3991, 'tapia': 3992, 'iss': 3993, 'mature': 3994, 'qrade': 3995, 'nuthin': 3996, 'lalalalalalala': 3997, 'sflma': 3998, 'omfg': 3999, 'kasey': 4000, 'omgg': 4001, 'qonna': 4002, 'literally': 4003, 'url': 4004, 'tico': 4005, 'elizabeth': 4006, 'freaks': 4007, 'foreal': 4008, 'lipstick': 4009, 'foundation': 4010, 'hangout': 4011, 'wher': 4012, 'di': 4013, 'bot': 4014, 'woooot': 4015, 'espinosa': 4016, 'prettyy': 4017, 'amzing': 4018, 'jason': 4019, 'derulo': 4020, 'konkier': 4021, 'bord': 4022, 'australian': 4023, 'harbour': 4024, 'swimmer': 4025, 'clubs': 4026, 'sleeper': 4027, 'pimp': 4028, 'goodie': 4029, 'aware': 4030, 'beyond': 4031, 'aussies': 4032, 'awe': 4033, 'nans': 4034, 'truck': 4035, 'amor': 4036, 'tienes': 4037, 'barbie': 4038, 'taught': 4039, 'beleive': 4040, 'meebo': 4041, 'bam': 4042, 'churr': 4043, 'payed': 4044, 'congratulations': 4045, 'managed': 4046, 'goodnight': 4047, 'similar': 4048, 'appearance': 4049, 'devonport': 4050, 'dingo': 4051, 'flintst': 4052, 'emails': 4053, 'threat': 4054, 'eclipse': 4055, 'drilling': 4056, 'embarassed': 4057, 'edward': 4058, 'decade': 4059, 'shops': 4060, 'koalas': 4061, 'needy': 4062, 'lovesss': 4063, 'adults': 4064, 'biting': 4065, 'kinky': 4066, 'seinfeld': 4067, 'cave': 4068, 'freedom': 4069, 'engagement': 4070, 'wayyyy': 4071, 'tooo': 4072, 'evolved': 4073, 'apes': 4074, 'refresh': 4075, 'cellphones': 4076, 'allergies': 4077, 'regrets': 4078, 'fuk': 4079, 'outcast': 4080, 'opera': 4081, 'gum': 4082, 'partners': 4083, 'tales': 4084, 'sexii': 4085, 'chatting': 4086, 'terribly': 4087, 'hungry': 4088, 'avatar': 4089, 'hatee': 4090, 'mph': 4091, 'hill': 4092, 'fcuking': 4093, 'xdxd': 4094, 'within': 4095, 'clear': 4096, 'thunder': 4097, 'verb': 4098, 'noun': 4099, 'das': 4100, 'haitian': 4101, 'skirt': 4102, 'viagra': 4103, 'kidnap': 4104, 'threatened': 4105, 'numb': 4106, 'tub': 4107, 'terminally': 4108, 'neighbours': 4109, 'foul': 4110, 'disapproved': 4111, 'woody': 4112, 'err': 4113, 'burnign': 4114, 'eyah': 4115, 'ohhhhh': 4116, 'match': 4117, 'dolla': 4118, 'cd': 4119, 'org': 4120, 'hacked': 4121, 'tits': 4122, 'racing': 4123, 'metallic': 4124, 'windows': 4125, 'wuddups': 4126, 'heya': 4127, 'chin': 4128, 'load': 4129, 'destroyed': 4130, 'fran': 4131, 'seconds': 4132, 'outback': 4133, 'interracial': 4134, 'cope': 4135, 'weak': 4136, 'batch': 4137, 'points': 4138, 'bench': 4139, 'ce': 4140, 'pl': 4141, 'mix': 4142, 'burrito': 4143, 'lemon': 4144, 'wantd': 4145, 'itouch': 4146, 'spank': 4147, 'kiwis': 4148, 'massachusetts': 4149, 'outta': 4150, 'oc': 4151, 'ciao': 4152, 'finest': 4153, 'funni': 4154, 'lead': 4155, 'francisco': 4156, 'taz': 4157, 'zoowill': 4158, 'coworker': 4159, 'feeds': 4160, 'cal': 4161, 'skyline': 4162, 'sleepy': 4163, 'surf': 4164, 'marsian': 4165, 'fukin': 4166, 'prove': 4167, 'lolly': 4168, 'opened': 4169, 'roses': 4170, 'wadda': 4171, 'pardon': 4172, 'swag': 4173, 'cards': 4174, 'hearts': 4175, 'drivers': 4176, 'begged': 4177, 'forgiveness': 4178, 'continually': 4179, 'drank': 4180, 'fought': 4181, 'decides': 4182, 'existed': 4183, 'cancelled': 4184, 'intentional': 4185, 'ti': 4186, 'urs': 4187, 'peopel': 4188, 'justified': 4189, 'germany': 4190, 'canada': 4191, 'trebla': 4192, 'jamming': 4193, 'theme': 4194, 'arrest': 4195, 'motion': 4196, 'responded': 4197, 'lalu': 4198, 'wildest': 4199, 'righttt': 4200, 'obtain': 4201, 'tot': 4202, 'sike': 4203, 'hydroponics': 4204, 'nerd': 4205, 'tre': 4206, 'ree': 4207, 'update': 4208, 'dotn': 4209, 'mw': 4210, 'spanked': 4211, 'pillow': 4212, 'areas': 4213, 'remarried': 4214, 'freshly': 4215, 'baked': 4216, 'wu': 4217, 'hangin': 4218, 'minx': 4219, 'rolled': 4220, 'gutterboard': 4221, 'maori': 4222, 'latifa': 4223, 'robbed': 4224, 'nuclear': 4225, 'oiiii': 4226, 'gots': 4227, 'proudest': 4228, 'ohhhh': 4229, 'ohm': 4230, 'ho': 4231, 'oiiiii': 4232, 'split': 4233, 'bunz': 4234, 'sumin': 4235, 'realise': 4236, 'unlocked': 4237, 'airport': 4238, 'tuesday': 4239, 'pretending': 4240, 'paranormal': 4241, 'boomarang': 4242, 'nuffin': 4243, 'sexxi': 4244, 'pons': 4245, 'pub': 4246, 'lust': 4247, 'airplanes': 4248, 'mashed': 4249, 'rawr': 4250, 'spectacular': 4251, 'slowly': 4252, 'como': 4253, 'sol': 4254, 'spilled': 4255, 'passenger': 4256, 'messing': 4257, 'cab': 4258, 'beads': 4259, 'warriors': 4260, 'happily': 4261, 'cousins': 4262, 'sonny': 4263, 'vin': 4264, 'diesel': 4265, 'scandalous': 4266, 'bully': 4267, 'inbetween': 4268, 'ud': 4269, 'owe': 4270, 'todos': 4271, 'mention': 4272, 'trabajo': 4273, 'awr': 4274, 'cha': 4275, 'locals': 4276, 'taps': 4277, 'gon': 4278, 'review': 4279, 'content': 4280, 'guidelines': 4281, 'grocery': 4282, 'wea': 4283, 'inthe': 4284, 'questioned': 4285, 'quirkiest': 4286, 'pins': 4287, 'troll': 4288, 'bottoms': 4289, 'dumbest': 4290, 'muchly': 4291, 'silver': 4292, 'overly': 4293, 'inch': 4294, 'highlight': 4295, 'scar': 4296, 'eeefff': 4297, 'effing': 4298, 'tip': 4299, 'canadians': 4300, 'pawn': 4301, 'product': 4302, 'gain': 4303, 'allen': 4304, 'yelling': 4305, 'result': 4306, 'hid': 4307, 'buffet': 4308, 'pops': 4309, 'crushing': 4310, 'several': 4311, 'installed': 4312, 'posts': 4313, 'rambling': 4314, 'nz': 4315, 'apologize': 4316, 'imagination': 4317, 'icbm': 4318, 'yous': 4319, 'acaciaa': 4320, 'bananas': 4321, 'beaver': 4322, 'sandwiches': 4323, 'lavee': 4324, 'mated': 4325, 'josh': 4326, 'wilks': 4327, 'donkey': 4328, 'testicals': 4329, 'weigh': 4330, 'faveroute': 4331, 'hens': 4332, 'stunner': 4333, 'fanta': 4334, 'borrow': 4335, 'pancake': 4336, 'hut': 4337, 'hike': 4338, 'thot': 4339, 'waist': 4340, 'whoooo': 4341, 'oddly': 4342, 'spelt': 4343, 'ap': 4344, 'larios': 4345, 'tamales': 4346, 'ewww': 4347, 'veector': 4348, 'zeppelin': 4349, 'hay': 4350, 'gov': 4351, 'howareyou': 4352, 'vs': 4353, 'familiar': 4354, 'darn': 4355, 'misses': 4356, 'dakotah': 4357, 'everytime': 4358, 'passion': 4359, 'myth': 4360, 'sweets': 4361, 'buzzing': 4362, 'joel': 4363, 'senses': 4364, 'nawh': 4365, 'titties': 4366, 'selena': 4367, 'gomez': 4368, 'indiana': 4369, 'thad': 4370, 'science': 4371, 'micheala': 4372, 'castle': 4373, 'scored': 4374, 'cuddle': 4375, 'viene': 4376, 'pills': 4377, 'patrick': 4378, 'physics': 4379, 'surprising': 4380, 'awwwwww': 4381, 'bend': 4382, 'jabari': 4383, 'cus': 4384, 'responsible': 4385, 'comprehend': 4386, 'stare': 4387, 'ash': 4388, 'robert': 4389, 'davis': 4390, 'boner': 4391, 'xp': 4392, 'creature': 4393, 'wendy': 4394, 'underrated': 4395, 'sunday': 4396, 'curly': 4397, 'ermm': 4398, 'rigel': 4399, 'hagrid': 4400, 'penis': 4401, 'simoa': 4402, 'accient': 4403, 'ik': 4404, 'fist': 4405, 'innocents': 4406, 'alleys': 4407, 'jeeze': 4408, 'smarter': 4409, 'dirtier': 4410, 'aunt': 4411, 'moped': 4412, 'properly': 4413, 'goth': 4414, 'naughty': 4415, 'eyebrows': 4416, 'flexible': 4417, 'kel': 4418, 'doe': 4419, 'fashioned': 4420, 'sphere': 4421, 'assume': 4422, 'tux': 4423, 'smut': 4424, 'chatted': 4425, 'bold': 4426, 'trimmed': 4427, 'buffy': 4428, 'creativity': 4429, 'hotmail': 4430, 'specify': 4431, 'reusing': 4432, 'cn': 4433, 'lj': 4434, 'pervy': 4435, 'minty': 4436, 'pit': 4437, 'digital': 4438, 'ears': 4439, 'biscuits': 4440, 'reincarnation': 4441, 'afterlife': 4442, 'eventually': 4443, 'spoonerism': 4444, 'prevc': 4445, 'uggs': 4446, 'leicester': 4447, 'pajamas': 4448, 'eurgh': 4449, 'frog': 4450, 'excluding': 4451, 'jane': 4452, 'reuse': 4453, 'rawlings': 4454, 'cuisine': 4455, 'fairly': 4456, 'ooh': 4457, 'imaginary': 4458, 'melt': 4459, 'fanfics': 4460, 'hostage': 4461, 'smutty': 4462, 'wishing': 4463, 'lesson': 4464, 'stupids': 4465, 'coco': 4466, 'coz': 4467, 'talents': 4468, 'observe': 4469, 'unattractive': 4470, 'ends': 4471, 'treatment': 4472, 'sugars': 4473, 'technically': 4474, 'starving': 4475, 'internal': 4476, 'honeymoon': 4477, 'nvr': 4478, 'slight': 4479, 'preference': 4480, 'tells': 4481, 'falls': 4482, 'lime': 4483, 'whilst': 4484, 'screamed': 4485, 'holland': 4486, 'holes': 4487, 'believed': 4488, 'serve': 4489, 'bull': 4490, 'advise': 4491, 'inny': 4492, 'outy': 4493, 'glass': 4494, 'blake': 4495, 'christ': 4496, 'tripped': 4497, 'loads': 4498, 'lace': 4499, 'officially': 4500, 'jacket': 4501, 'yh': 4502, 'necessarily': 4503, 'graduate': 4504, 'mint': 4505, 'mmmmm': 4506, 'relaxing': 4507, 'woof': 4508, 'mixtape': 4509, 'fooling': 4510, 'bun': 4511, 'regards': 4512, 'pre': 4513, 'kindergarten': 4514, 'sacs': 4515, 'kits': 4516, 'testing': 4517, 'machines': 4518, 'blush': 4519, 'oops': 4520, 'trousers': 4521, 'callie': 4522, 'izzie': 4523, 'downstairs': 4524, 'hop': 4525, 'hence': 4526, 'involve': 4527, 'temple': 4528, 'although': 4529, 'tbh': 4530, 'dvd': 4531, 'details': 4532, 'rifle': 4533, 'spiritual': 4534, 'poverty': 4535, 'goals': 4536, 'views': 4537, 'cinema': 4538, 'poetry': 4539, 'bedside': 4540, 'existence': 4541, 'pancakes': 4542, 'florence': 4543, 'apple': 4544, 'riddle': 4545, 'anywhoo': 4546, 'partly': 4547, 'lethal': 4548, 'secretly': 4549, 'offer': 4550, 'mineral': 4551, 'outlet': 4552, 'darker': 4553, 'wisdom': 4554, 'cleaning': 4555, 'doctoru': 4556, 'shizz': 4557, 'souffle': 4558, 'yoooh': 4559, 'lmaaao': 4560, 'yuur': 4561, 'lmaooo': 4562, 'katiana': 4563, 'aujula': 4564, 'graduation': 4565, 'pretie': 4566, 'peyton': 4567, 'springs': 4568, 'chicos': 4569, 'bfno': 4570, 'smiled': 4571, 'peru': 4572, 'hips': 4573, 'kisser': 4574, 'wots': 4575, 'awwwww': 4576, 'babyyy': 4577, 'conmigo': 4578, 'cual': 4579, 'zingled': 4580, 'whip': 4581, 'flirty': 4582, 'fierce': 4583, 'blows': 4584, 'version': 4585, 'warning': 4586, 'tweeted': 4587, 'hace': 4588, 'chelle': 4589, 'garcia': 4590, 'kltz': 4591, 'mauroooooo': 4592, 'yoooou': 4593, 'december': 4594, 'belle': 4595, 'wasnu': 4596, 'looool': 4597, 'strippers': 4598, 'mas': 4599, 'hacer': 4600, 'harias': 4601, 'momento': 4602, 'quieres': 4603, 'sexo': 4604, 'bender': 4605, 'garbage': 4606, 'soy': 4607, 'humor': 4608, 'neice': 4609, 'renezmee': 4610, 'brushing': 4611, 'sensation': 4612, 'greedy': 4613, 'stamps': 4614, 'recommend': 4615, 'juices': 4616, 'accurately': 4617, 'russian': 4618, 'walmart': 4619, 'via': 4620, 'tut': 4621, 'explains': 4622, 'kissses': 4623, 'aircrafts': 4624, 'leaves': 4625, 'requests': 4626, 'photography': 4627, 'cheerleading': 4628, 'drinker': 4629, 'confrontation': 4630, 'wonu': 4631, 'pretend': 4632, 'negative': 4633, 'introduce': 4634, 'dares': 4635, 'demand': 4636, 'fridge': 4637, 'bills': 4638, 'reasoning': 4639, 'hypocrite': 4640, 'homosexuals': 4641, 'prices': 4642, 'teens': 4643, 'banned': 4644, 'goofy': 4645, 'ants': 4646, 'cna': 4647, 'television': 4648, 'magazines': 4649, 'offend': 4650, 'sworn': 4651, 'maturity': 4652, 'employee': 4653, 'elderly': 4654, 'triggers': 4655, 'laid': 4656, 'fellas': 4657, 'logically': 4658, 'enjoyable': 4659, 'teachers': 4660, 'medium': 4661, 'initals': 4662, 'thousands': 4663, 'prostitue': 4664, 'scotland': 4665, 'uncles': 4666, 'recived': 4667, 'bullied': 4668, 'somewhat': 4669, 'subway': 4670, 'gumball': 4671, 'flashed': 4672, 'strictly': 4673, 'disorder': 4674, 'norbit': 4675, 'pagan': 4676, 'xxxx': 4677, 'dynamite': 4678, 'unfair': 4679, 'obsession': 4680, 'species': 4681, 'global': 4682, 'bellow': 4683, 'formed': 4684, 'clotheing': 4685, 'rested': 4686, 'angelina': 4687, 'absolutly': 4688, 'oral': 4689, 'paste': 4690, 'parenting': 4691, 'craving': 4692, 'pin': 4693, 'xoxo': 4694, 'elsewhere': 4695, 'auntys': 4696, 'reach': 4697, 'differs': 4698, 'allegiance': 4699, 'zoos': 4700, 'discovered': 4701, 'fatal': 4702, 'ruined': 4703, 'students': 4704, 'permanent': 4705, 'saving': 4706, 'predator': 4707, 'prohibition': 4708, 'combine': 4709, 'pitcher': 4710, 'acceptable': 4711, 'chipolte': 4712, 'pellet': 4713, 'medical': 4714, 'procedure': 4715, 'seven': 4716, 'gothic': 4717, 'pressure': 4718, 'brightest': 4719, 'sunlight': 4720, 'deserve': 4721, 'adoption': 4722, 'harmful': 4723, 'prostitution': 4724, 'garenteed': 4725, 'instance': 4726, 'bug': 4727, 'immigrate': 4728, 'knowledge': 4729, 'citizen': 4730, 'punishing': 4731, 'alternative': 4732, 'epic': 4733, 'expression': 4734, 'sentenced': 4735, 'llegal': 4736, 'rates': 4737, 'johnny': 4738, 'experiencing': 4739, 'genitals': 4740, 'stricter': 4741, 'truths': 4742, 'legalize': 4743, 'marijuana': 4744, 'increasing': 4745, 'activeties': 4746, 'alligence': 4747, 'wordpress': 4748, 'craze': 4749, 'drones': 4750, 'dolphins': 4751, 'females': 4752, 'freeze': 4753, 'beanie': 4754, 'absentminded': 4755, 'arms': 4756, 'enstill': 4757, 'caffeine': 4758, 'applicable': 4759, 'absolute': 4760, 'churches': 4761, 'barbecue': 4762, 'trunk': 4763, 'unjustified': 4764, 'veins': 4765, 'african': 4766, 'coloring': 4767, 'mating': 4768, 'dictator': 4769, 'monarch': 4770, 'meowww': 4771, 'apriiiiiiiiiiiill': 4772, 'emma': 4773, 'mingle': 4774, 'gees': 4775, 'fuckinggg': 4776, 'bahahahahhaha': 4777, 'learnin': 4778, 'origins': 4779, 'oprah': 4780, 'atlanta': 4781, 'fag': 4782, 'growl': 4783, 'guesss': 4784, 'guessedd': 4785, 'righhtttt': 4786, 'maryyyy': 4787, 'ilovee': 4788, 'mayb': 4789, 'qud': 4790, 'abouht': 4791, 'thinq': 4792, 'iwas': 4793, 'taquisha': 4794, 'okey': 4795, 'dokey': 4796, 'pronunciation': 4797, 'haaard': 4798, 'hellz': 4799, 'qoinqq': 4800, 'quy': 4801, 'abrilll': 4802, 'iloveyhuuu': 4803, 'muchooo': 4804, 'heyyyyyy': 4805, 'heyyyyyyyy': 4806, 'arabic': 4807, 'egypt': 4808, 'lotta': 4809, 'lool': 4810, 'author': 4811, 'juz': 4812, 'srip': 4813, 'luved': 4814, 'evah': 4815, 'oohh': 4816, 'sumthing': 4817, 'guurrrl': 4818, 'muchoo': 4819, 'mammaasss': 4820, 'bianca': 4821, 'kthxbye': 4822, 'juzz': 4823, 'mothur': 4824, 'zzzzzz': 4825, 'maria': 4826, 'perez': 4827, 'tagle': 4828, 'woul': 4829, 'coba': 4830, 'tebak': 4831, 'ini': 4832, 'bahasa': 4833, 'kamu': 4834, 'ngerti': 4835, 'ngga': 4836, 'aku': 4837, 'ngomong': 4838, 'origin': 4839, 'showww': 4840, 'translate': 4841, 'besties': 4842, 'bandwagon': 4843, 'beiber': 4844, 'woaahhhhhh': 4845, 'awesomeeee': 4846, 'ilybbyy': 4847, 'werewolf': 4848, 'weeeell': 4849, 'gtg': 4850, 'yooooo': 4851, 'rinnalovesjb': 4852, 'heyhey': 4853, 'rent': 4854, 'tonightt': 4855, 'shiiiit': 4856, 'talkers': 4857, 'formspringgg': 4858, 'joiee': 4859, 'wub': 4860, 'jon': 4861, 'beautifulllll': 4862, 'joiieeeee': 4863, 'lalalovee': 4864, 'talkn': 4865, 'skank': 4866, 'laterrrr': 4867, 'piratee': 4868, 'travis': 4869, 'thasss': 4870, 'faggottt': 4871, 'sexxyy': 4872, 'mommma': 4873, 'sayoonarra': 4874, 'comeon': 4875, 'js': 4876, 'beng': 4877, 'comeback': 4878, 'stuuupid': 4879, 'ashleeee': 4880, 'duuude': 4881, 'hardd': 4882, 'jelouse': 4883, 'hangman': 4884, 'anythinclude': 4885, 'basicc': 4886, 'cuter': 4887, 'adtf': 4888, 'bodtf': 4889, 'nevershoutnever': 4890, 'homepage': 4891, 'mytwilightsearch': 4892, 'supplys': 4893, 'celerbity': 4894, 'statuses': 4895, 'stupidddd': 4896, 'accountt': 4897, 'socialing': 4898, 'lockes': 4899, 'bettys': 4900, 'lmt': 4901, 'faaaaake': 4902, 'faveee': 4903, 'timee': 4904, 'favve': 4905, 'cheered': 4906, 'faugh': 4907, 'faced': 4908, 'beware': 4909, 'blast': 4910, 'hatein': 4911, 'smelly': 4912, 'rotten': 4913, 'ram': 4914, 'questionss': 4915, 'salon': 4916, 'files': 4917, 'bea': 4918, 'thumb': 4919, 'jensens': 4920, 'thingie': 4921, 'asswhole': 4922, 'sniffed': 4923, 'jeremy': 4924, 'mckinnon': 4925, 'fives': 4926, 'writes': 4927, 'dissing': 4928, 'dumbasssssss': 4929, 'downn': 4930, 'naaa': 4931, 'yuuu': 4932, 'kbitchhhh': 4933, 'harmony': 4934, 'flashpink': 4935, 'uglier': 4936, 'alittle': 4937, 'ugler': 4938, 'typo': 4939, 'muliple': 4940, 'theyre': 4941, 'poser': 4942, 'yuuuuuuu': 4943, 'coughcough': 4944, 'lowlife': 4945, 'abr': 4946, 'okae': 4947, 'gurrrl': 4948, 'relation': 4949, 'shiit': 4950, 'formsrping': 4951, 'crude': 4952, 'quickest': 4953, 'wierdest': 4954, 'aug': 4955, 'lameeee': 4956, 'preacher': 4957, 'xdfcvghjkl': 4958, 'yeauh': 4959, 'jezuss': 4960, 'ugliest': 4961, 'hailey': 4962, 'yeahhhh': 4963, 'grace': 4964, 'kai': 4965, 'fuuuuck': 4966, 'stopp': 4967, 'iloveyoubaby': 4968, 'iloveyoutoobabygirl': 4969, 'ahahaahahahaha': 4970, 'jst': 4971, 'asken': 4972, 'guus': 4973, 'asshole': 4974, 'nott': 4975, 'typeall': 4976, 'bella': 4977, 'kendall': 4978, 'pff': 4979, 'imeant': 4980, 'pussssssyss': 4981, 'bullllllllll': 4982, 'dickkkkkkkkkkkkkk': 4983, 'tayler': 4984, 'philips': 4985, 'dudde': 4986, 'fuuck': 4987, 'togetherr': 4988, 'connnnceidddddeddd': 4989, 'loserrr': 4990, 'iloveyouutoobabyy': 4991, 'honerary': 4992, 'thankz': 4993, 'freakss': 4994, 'kissable': 4995, 'studd': 4996, 'givafuck': 4997, 'friendless': 4998, 'stated': 4999, 'wears': 5000, 'fool': 5001, 'sry': 5002, 'spellin': 5003, 'mama': 5004, 'ishh': 5005, 'sorryy': 5006, 'freeaking': 5007, 'juuust': 5008, 'gymnastics': 5009, 'tripp': 5010, 'wtfuhh': 5011, 'trickk': 5012, 'catchh': 5013, 'homiee': 5014, 'bxtch': 5015, 'lmfaoooooo': 5016, 'nicoo': 5017, 'ahaah': 5018, 'fxck': 5019, 'martinez': 5020, 'nicoooo': 5021, 'welllllll': 5022, 'unfortunately': 5023, 'baddddd': 5024, 'reallu': 5025, 'deffinately': 5026, 'talken': 5027, 'fxckin': 5028, 'fuckinn': 5029, 'whuss': 5030, 'sext': 5031, 'playaa': 5032, 'flies': 5033, 'cents': 5034, 'gayy': 5035, 'boyyu': 5036, 'idid': 5037, 'textt': 5038, 'inappropriate': 5039, 'begging': 5040, 'ither': 5041, 'yesturday': 5042, 'nextt': 5043, 'nastiest': 5044, 'fagggggg': 5045, 'mighty': 5046, 'fuckstick': 5047, 'yuppp': 5048, 'helloooo': 5049, 'mooosta': 5050, 'cools': 5051, 'pikk': 5052, 'bothering': 5053, 'knwo': 5054, 'poof': 5055, 'ihdontmind': 5056, 'goahead': 5057, 'viewing': 5058, 'footage': 5059, 'alvin': 5060, 'simon': 5061, 'theodore': 5062, 'seat': 5063, 'belt': 5064, 'prue': 5065, 'robots': 5066, 'rated': 5067, 'minors': 5068, 'subscribe': 5069, 'vids': 5070, 'filipina': 5071, 'foreigner': 5072, 'painter': 5073, 'registered': 5074, 'voter': 5075, 'heights': 5076, 'awaiting': 5077, 'barefooted': 5078, 'persuaded': 5079, 'proton': 5080, 'neutron': 5081, 'shiny': 5082, 'predictable': 5083, 'stubborn': 5084, 'vain': 5085, 'fastu': 5086, 'paced': 5087, 'sparks': 5088, 'pawpaw': 5089, 'harley': 5090, 'osbourne': 5091, 'library': 5092, 'beetles': 5093, 'exists': 5094, 'mickey': 5095, 'encore': 5096, 'cartwheel': 5097, 'initials': 5098, 'halo': 5099, 'cheetos': 5100, 'fritos': 5101, 'horror': 5102, 'cooool': 5103, 'riddleee': 5104, 'gooogleeee': 5105, 'caterpillar': 5106, 'bfpodru': 5107, 'edais': 5108, 'visitar': 5109, 'contandolospetalos': 5110, 'heroes': 5111, 'acted': 5112, 'flooding': 5113, 'mtvs': 5114, 'gullible': 5115, 'earrings': 5116, 'dresser': 5117, 'babys': 5118, 'bahamas': 5119, 'prostiture': 5120, 'humming': 5121, 'hum': 5122, 'struck': 5123, 'alphabet': 5124, 'tune': 5125, 'makers': 5126, 'friendster': 5127, 'wimpy': 5128, 'instinct': 5129, 'ki': 5130, 'angels': 5131, 'pens': 5132, 'conform': 5133, 'path': 5134, 'consequences': 5135, 'dishes': 5136, 'servings': 5137, 'mixture': 5138, 'cheeseburgers': 5139, 'medication': 5140, 'impose': 5141, 'excercise': 5142, 'appreciated': 5143, 'confusing': 5144, 'telly': 5145, 'ou': 5146, 'cuts': 5147, 'distracted': 5148, 'cameras': 5149, 'appointments': 5150, 'calender': 5151, 'patterened': 5152, 'distinct': 5153, 'jim': 5154, 'carrey': 5155, 'consistently': 5156, 'wedgie': 5157, 'jewelery': 5158, 'subscriptions': 5159, 'britney': 5160, 'spears': 5161, 'mechanical': 5162, 'peso': 5163, 'tire': 5164, 'spark': 5165, 'knit': 5166, 'korean': 5167, 'boricua': 5168, 'moricua': 5169, 'morena': 5170, 'jerky': 5171, 'broccoli': 5172, 'predictive': 5173, 'chronicles': 5174, 'narnia': 5175, 'chimes': 5176, 'ordered': 5177, 'topshop': 5178, 'webapp': 5179, 'wcs': 5180, 'servlet': 5181, 'productdisplay': 5182, 'beginindex': 5183, 'viewallflag': 5184, 'catalogid': 5185, 'storeid': 5186, 'categoryid': 5187, 'productid': 5188, 'langid': 5189, 'arrangement': 5190, 'chicks': 5191, 'loan': 5192, 'bathrobe': 5193, 'striped': 5194, 'consoles': 5195, 'involves': 5196, 'boop': 5197, 'slippers': 5198, 'packages': 5199, 'iced': 5200, 'stapler': 5201, 'blissfully': 5202, 'unaware': 5203, 'independently': 5204, 'bolognaise': 5205, 'trashy': 5206, 'novels': 5207, 'rollercoasters': 5208, 'silence': 5209, 'concept': 5210, 'stressful': 5211, 'gays': 5212, 'stylish': 5213, 'understood': 5214, 'detached': 5215, 'deployed': 5216, 'defend': 5217, 'prisoner': 5218, 'pow': 5219, 'photogenic': 5220, 'volunteer': 5221, 'lates': 5222, 'crawl': 5223, 'gilmore': 5224, 'flipu': 5225, 'hoodies': 5226, 'chains': 5227, 'desperate': 5228, 'housewives': 5229, 'sang': 5230, 'travesti': 5231, 'immitate': 5232, 'flash': 5233, 'driveu': 5234, 'chalk': 5235, 'boards': 5236, 'doihknowyuh': 5237, 'andyuhrlike': 5238, 'spammingmyfs': 5239, 'greasy': 5240, 'decent': 5241, 'earphones': 5242, 'spelled': 5243, 'enlighten': 5244, 'derby': 5245, 'embaresed': 5246, 'tought': 5247, 'anouther': 5248, 'bizzle': 5249, 'theonlyabizzle': 5250, 'shat': 5251, 'fantisey': 5252, 'outdoor': 5253, 'boyu': 5254, 'daytime': 5255, 'host': 5256, 'freezing': 5257, 'sizzling': 5258, 'girlu': 5259, 'sesame': 5260, 'snl': 5261, 'tod': 5262, 'leu': 5263, 'cambiado': 5264, 'aspecto': 5265, 'nombre': 5266, 'historias': 5267, 'mismas': 5268, 'perdidaentretuszapatos': 5269, 'nnot': 5270, 'aleak': 5271, 'pieec': 5272, 'rag': 5273, 'pucker': 5274, 'quotes': 5275, 'womens': 5276, 'reminded': 5277, 'wreck': 5278, 'counrty': 5279, 'commercial': 5280, 'outdated': 5281, 'guestlist': 5282, 'hollywood': 5283, 'jamaica': 5284, 'cafes': 5285, 'charge': 5286, 'turnt': 5287, 'bid': 5288, 'bowled': 5289, 'strike': 5290, 'maked': 5291, 'dreamed': 5292, 'unnatural': 5293, 'entered': 5294, 'clover': 5295, 'stitches': 5296, 'cub': 5297, 'pox': 5298, 'detention': 5299, 'removal': 5300, 'pranked': 5301, 'pretended': 5302, 'scissors': 5303, 'returned': 5304, 'refund': 5305, 'cloud': 5306, 'panda': 5307, 'goonies': 5308, 'woken': 5309, 'snooped': 5310, 'cabinet': 5311, 'swallowed': 5312, 'disguise': 5313, 'telemarketer': 5314, 'machete': 5315, 'titanic': 5316, 'watches': 5317, 'joe': 5318, 'holdin': 5319, 'msunderstoodxxx': 5320, 'strawberry': 5321, 'roxx': 5322, 'flood': 5323, 'smurfet': 5324, 'smurf': 5325, 'offline': 5326, 'downloading': 5327, 'rubber': 5328, 'stereotyping': 5329, 'rumors': 5330, 'hunch': 5331, 'administration': 5332, 'imply': 5333, 'violent': 5334, 'boyfriends': 5335, 'cartwheels': 5336, 'dining': 5337, 'solitaire': 5338, 'function': 5339, 'keychain': 5340, 'memorized': 5341, 'suitcases': 5342, 'hippups': 5343, 'commercials': 5344, 'spa': 5345, 'touching': 5346, 'inner': 5347, 'eve': 5348, 'rejection': 5349, 'pressuring': 5350, 'howu': 5351, 'formspringme': 5352, 'zendesk': 5353, 'limitations': 5354, 'yas': 5355, 'agreat': 5356, 'scrapbooking': 5357, 'plss': 5358, 'coquettishdiva': 5359, 'aqree': 5360, 'carrie': 5361, 'underwood': 5362, 'clips': 5363, 'casanova': 5364, 'hugerobots': 5365, 'ads': 5366, 'palace': 5367, 'khia': 5368, 'stepdad': 5369, 'arkansas': 5370, 'fiance': 5371, 'quest': 5372, 'donnie': 5373, 'darko': 5374, 'gorgous': 5375, 'browsing': 5376, 'spammers': 5377, 'shortcut': 5378, 'formal': 5379, 'ayt': 5380, 'tagalog': 5381, 'documentary': 5382, 'lagos': 5383, 'shacks': 5384, 'slums': 5385, 'happyer': 5386, 'countrys': 5387, 'idealist': 5388, 'realist': 5389, 'parsley': 5390, 'farmer': 5391, 'sued': 5392, 'garnish': 5393, 'wages': 5394, 'rises': 5395, 'jimmy': 5396, 'amendment': 5397, 'flawlessly': 5398, 'enforce': 5399, 'bumped': 5400, 'fairytale': 5401, 'cincinnati': 5402, 'stamp': 5403, 'torture': 5404, 'transport': 5405, 'improvise': 5406, 'demon': 5407, 'duel': 5408, 'bec': 5409, 'cells': 5410, 'joined': 5411, 'robbery': 5412, 'zipper': 5413, 'intestines': 5414, 'dozen': 5415, 'hissing': 5416, 'roaches': 5417, 'reborn': 5418, 'reflected': 5419, 'slutty': 5420, 'executed': 5421, 'communicate': 5422, 'nurse': 5423, 'primary': 5424, 'glows': 5425, 'selfless': 5426, 'inhaler': 5427, 'weakness': 5428, 'og': 5429, 'ponytail': 5430, 'messy': 5431, 'neat': 5432, 'jabbawockeez': 5433, 'jupiter': 5434, 'kaydoll': 5435, 'bettaa': 5436, 'rhubinathy': 5437, 'othe': 5438, 'sluts': 5439, 'recieved': 5440, 'awards': 5441, 'profiles': 5442, 'tkjyzhzhokm': 5443, 'discussed': 5444, 'musicals': 5445, 'cheesy': 5446, 'invalid': 5447, 'nike': 5448, 'adidas': 5449, 'nsync': 5450, 'backstreet': 5451, 'frying': 5452, 'chloroformgrl': 5453, 'mabuti': 5454, 'yeay': 5455, 'brazilian': 5456, 'waxed': 5457, 'ow': 5458, 'pan': 5459, 'captain': 5460, 'prada': 5461, 'jansport': 5462, 'pssh': 5463, 'dolls': 5464, 'paradiso': 5465, 'network': 5466, 'verse': 5467, 'mexxx': 5468, 'bimbo': 5469, 'worthless': 5470, 'dumping': 5471, 'corpse': 5472, 'sonic': 5473, 'pimples': 5474, 'zit': 5475, 'facts': 5476, 'complaint': 5477, 'descended': 5478, 'fortunately': 5479, 'temptations': 5480, 'horribly': 5481, 'disregard': 5482, 'building': 5483, 'eden': 5484, 'iraq': 5485, 'hades': 5486, 'darkness': 5487, 'pong': 5488, 'bflistography': 5489, 'waffle': 5490, 'popsicle': 5491, 'wwn': 5492, 'pounded': 5493, 'unusual': 5494, 'manner': 5495, 'wjehii': 5496, 'jjhe': 5497, 'youtu': 5498, 'deleting': 5499, 'whare': 5500, 'countr': 5501, 'insecure': 5502, 'amazes': 5503, 'humanely': 5504, 'exploited': 5505, 'successfully': 5506, 'flaws': 5507, 'grateful': 5508, 'earwax': 5509, 'award': 5510, 'sprays': 5511, 'victorias': 5512, 'trusted': 5513, 'kurt': 5514, 'cobain': 5515, 'impress': 5516, 'hoodie': 5517, 'eminems': 5518, 'rihanna': 5519, 'snape': 5520, 'doules': 5521, 'caps': 5522, 'mysteries': 5523, 'headaches': 5524, 'dread': 5525, 'everday': 5526, 'thirsty': 5527, 'sag': 5528, 'trashed': 5529, 'irresponsible': 5530, 'parwents': 5531, 'chewing': 5532, 'tabbacco': 5533, 'glee': 5534, 'headbands': 5535, 'ponytails': 5536, 'graphic': 5537, 'poetic': 5538, 'deviantart': 5539, 'shining': 5540, 'tobey': 5541, 'papparazzi': 5542, 'revealing': 5543, 'hysteria': 5544, 'included': 5545, 'value': 5546, 'teaachgee': 5547, 'ethinicity': 5548, 'fascinates': 5549, 'burnt': 5550, 'surrogate': 5551, 'kindness': 5552, 'mateu': 5553, 'stressing': 5554, 'bravest': 5555, 'teary': 5556, 'eyed': 5557, 'wallpaper': 5558, 'unbelieveable': 5559, 'philosophy': 5560, 'centimeters': 5561, 'standard': 5562, 'measure': 5563, 'soundtrack': 5564, 'appeared': 5565, 'nashionality': 5566, 'louisiana': 5567, 'unmarried': 5568, 'sitcom': 5569, 'theatres': 5570, 'painful': 5571, 'leprecon': 5572, 'bushes': 5573, 'scarred': 5574, 'wading': 5575, 'river': 5576, 'puked': 5577, 'blink': 5578, 'spontaneous': 5579, 'cheeeeeeeese': 5580, 'colder': 5581, 'hughes': 5582, 'director': 5583, 'sentimental': 5584, 'columbine': 5585, 'tragedy': 5586, 'iq': 5587, 'doughnut': 5588, 'somethingjusthappened': 5589, 'pity': 5590, 'slipped': 5591, 'disgusted': 5592, 'behaviour': 5593, 'burried': 5594, 'choppy': 5595, 'arguing': 5596, 'packing': 5597, 'sledding': 5598, 'thn': 5599, 'freeway': 5600, 'paranoid': 5601, 'toetag': 5602, 'biological': 5603, 'legos': 5604, 'lincoln': 5605, 'logs': 5606, 'yogurt': 5607, 'gossiper': 5608, 'beneath': 5609, 'loudest': 5610, 'piss': 5611, 'whwhwhwhoa': 5612, 'blew': 5613, 'aluminum': 5614, 'falcon': 5615, 'hateful': 5616, 'prostitues': 5617, 'buns': 5618, 'attitudes': 5619, 'swaying': 5620, 'bowling': 5621, 'crutons': 5622, 'sealed': 5623, 'contintue': 5624, 'irrate': 5625, 'unprotected': 5626, 'gangs': 5627, 'stalk': 5628, 'winnie': 5629, 'pooh': 5630, 'rarely': 5631, 'disclaimer': 5632, 'allstate': 5633, 'commericals': 5634, 'flavoured': 5635, 'mytouch': 5636, 'pirate': 5637, 'fashionable': 5638, 'conceited': 5639, 'hire': 5640, 'hitman': 5641, 'summon': 5642, 'undead': 5643, 'tables': 5644, 'sharks': 5645, 'donald': 5646, 'trump': 5647, 'elephant': 5648, 'filthy': 5649, 'tons': 5650, 'peacefully': 5651, 'painless': 5652, 'lint': 5653, 'scorpion': 5654, 'mosquitoes': 5655, 'couldlaugh': 5656, 'bodacious': 5657, 'knockers': 5658, 'drooling': 5659, 'bedwetter': 5660, 'reather': 5661, 'understoond': 5662, 'eveything': 5663, 'texter': 5664, 'radioactive': 5665, 'endow': 5666, 'chameleon': 5667, 'thruthful': 5668, 'counselor': 5669, 'principal': 5670, 'headmaster': 5671, 'actvities': 5672, 'applies': 5673, 'desks': 5674, 'senorita': 5675, 'expenses': 5676, 'kidnapped': 5677, 'pointing': 5678, 'clarkson': 5679, 'quotation': 5680, 'yuuur': 5681, 'pretttty': 5682, 'weiner': 5683, 'ahahahaha': 5684, 'needd': 5685, 'phonee': 5686, 'owww': 5687, 'stratched': 5688, 'aleeeexis': 5689, 'wooah': 5690, 'babyyyyy': 5691, 'alotta': 5692, 'dunnt': 5693, 'gotz': 5694, 'phizzle': 5695, 'neeeeeeed': 5696, 'reeemembr': 5697, 'shoppn': 5698, 'marley': 5699, 'thingys': 5700, 'rastaaa': 5701, 'whorer': 5702, 'anthony': 5703, 'doucher': 5704, 'login': 5705, 'ahahahahaa': 5706, 'butts': 5707, 'iyts': 5708, 'cuute': 5709, 'wantin': 5710, 'shiyt': 5711, 'haterz': 5712, 'hahhhahahahah': 5713, 'funnay': 5714, 'riyte': 5715, 'therr': 5716, 'messn': 5717, 'withchew': 5718, 'alexisnicolehodnett': 5719, 'besttestt': 5720, 'frann': 5721, 'iloveyouu': 5722, 'lexiflagss': 5723, 'alexisssss': 5724, 'gona': 5725, 'shtt': 5726, 'touchhh': 5727, 'yyyyou': 5728, 'remz': 5729, 'dx': 5730, 'muhh': 5731, 'qive': 5732, 'dontt': 5733, 'bitchezz': 5734, 'beloww': 5735, 'ckan': 5736, 'herr': 5737, 'sayz': 5738, 'shez': 5739, 'chested': 5740, 'ckant': 5741, 'dumm': 5742, 'crazzzyyyy': 5743, 'loveeyouu': 5744, 'queess': 5745, 'cunts': 5746, 'moms': 5747, 'chock': 5748, 'anonamis': 5749, 'stephanie': 5750, 'dayyym': 5751, 'perced': 5752, 'ugli': 5753, 'yooh': 5754, 'lite': 5755, 'lyke': 5756, 'gurlz': 5757, 'fuchkkk': 5758, 'pussies': 5759, 'fkkin': 5760, 'bicthes': 5761, 'hatinqq': 5762, 'boobies': 5763, 'yopu': 5764, 'fkk': 5765, 'lakers': 5766, 'celetics': 5767, 'hatersss': 5768, 'lahh': 5769, 'lexiii': 5770, 'awesomestt': 5771, 'sisterr': 5772, 'gooo': 5773, 'lakerrss': 5774, 'haahar': 5775, 'taelin': 5776, 'mannnyyy': 5777, 'hahahahahhahahhaahhahahahah': 5778, 'infoooo': 5779, 'pfffffffffffffftttt': 5780, 'virqinnn': 5781, 'seeeeeeeee': 5782, 'tollld': 5783, 'stuuuff': 5784, 'lexxxi': 5785, 'wannnaa': 5786, 'llikkkee': 5787, 'asskk': 5788, 'somee': 5789, 'quesstionss': 5790, 'formspringggg': 5791, 'herrree': 5792, 'hoow': 5793, 'yuuh': 5794, 'adriane': 5795, 'mineee': 5796, 'thinkkk': 5797, 'casue': 5798, 'homoo': 5799, 'niggyyy': 5800, 'loveeee': 5801, 'alexissssssssssss': 5802, 'vvvv': 5803, 'loveeeeeeeee': 5804, 'alexisssssssss': 5805, 'teew': 5806, 'fukinn': 5807, 'wouldd': 5808, 'saayyy': 5809, 'kimmm': 5810, 'iilooveeyouu': 5811, 'iloveeyou': 5812, 'lexis': 5813, 'fxk': 5814, 'deannaa': 5815, 'imyyy': 5816, 'kann': 5817, 'kikk': 5818, 'lakerss': 5819, 'bbbyyyyy': 5820, 'leeme': 5821, 'choo': 5822, 'numbaa': 5823, 'deny': 5824, 'meanzz': 5825, 'nawt': 5826, 'guyz': 5827, 'shitt': 5828, 'alwyz': 5829, 'marissa': 5830, 'kim': 5831, 'duhhh': 5832, 'soar': 5833, 'nigggahh': 5834, 'loveeyou': 5835, 'isss': 5836, 'isayah': 5837, 'der': 5838, 'gunnna': 5839, 'makinn': 5840, 'sexxx': 5841, 'pikturess': 5842, 'nuthinqq': 5843, 'fawkinqq': 5844, 'stanford': 5845, 'butthole': 5846, 'smileyyyyy': 5847, 'dood': 5848, 'maynn': 5849, 'trippin': 5850, 'dridri': 5851, 'wiener': 5852, 'jocker': 5853, 'spiit': 5854, 'gamme': 5855, 'niqqa': 5856, 'tootsy': 5857, 'eww': 5858, 'soooooooooooooooooooo': 5859, 'alottttt': 5860, 'butiful': 5861, 'waz': 5862, 'nevermind': 5863, 'illumanati': 5864, 'adrianne': 5865, 'cris': 5866, 'sizee': 5867, 'whhenz': 5868, 'birthdeyy': 5869, 'gether': 5870, 'ewwwe': 5871, 'nova': 5872, 'bestfiend': 5873, 'valentine': 5874, 'wutt': 5875, 'pregnaant': 5876, 'dddd': 5877, 'promisee': 5878, 'saturdayy': 5879, 'yhuuuu': 5880, 'brandon': 5881, 'ssssssooooo': 5882, 'frendzz': 5883, 'krissy': 5884, 'tootsie': 5885, 'yeahp': 5886, 'herm': 5887, 'bommm': 5888, 'nosee': 5889, 'piercedd': 5890, 'uhp': 5891, 'pt': 5892, 'qon': 5893, 'duuuu': 5894, 'rnyy': 5895, 'mszz': 5896, 'wuz': 5897, 'hisz': 5898, 'wi': 5899, 'daz': 5900, 'piicaaaa': 5901, 'az': 5902, 'baqgrnddddd': 5903, 'anythanqq': 5904, 'dhis': 5905, 'pelt': 5906, 'pump': 5907, 'bruh': 5908, 'mmasz': 5909, 'sturizin': 5910, 'cture': 5911, 'va': 5912, 'gin': 5913, 'munch': 5914, 'ppy': 5915, 'puzzie': 5916, 'kyy': 5917, 'beep': 5918, 'moto': 5919, 'teeannuhh': 5920, 'stds': 5921, 'iilove': 5922, 'yuuuaaa': 5923, 'akekeke': 5924, 'beta': 5925, 'groupiee': 5926, 'textinqq': 5927, 'formsprinqq': 5928, 'boyy': 5929, 'britteny': 5930, 'chillinqq': 5931, 'ckuss': 5932, 'ckute': 5933, 'feelingss': 5934, 'suk': 5935, 'cruch': 5936, 'gedd': 5937, 'wopinqq': 5938, 'nishana': 5939, 'typee': 5940, 'entertaiin': 5941, 'mhee': 5942, 'finee': 5943, 'flawww': 5944, 'buddieee': 5945, 'lyedd': 5946, 'heheheh': 5947, 'bred': 5948, 'toasted': 5949, 'audizine': 5950, 'gallery': 5951, 'data': 5952, 'camel': 5953, 'bornbadd': 5954, 'tampon': 5955, 'yyuh': 5956, 'rszz': 5957, 'sz': 5958, 'luhh': 5959, 'rote': 5960, 'bae': 5961, 'tym': 5962, 'doezz': 5963, 'peach': 5964, 'nipples': 5965, 'anymo': 5966, 'ion': 5967, 'justtt': 5968, 'bigg': 5969, 'dikk': 5970, 'watevaa': 5971, 'cheatinqq': 5972, 'mediaa': 5973, 'crazyy': 5974, 'dheyy': 5975, 'miness': 5976, 'bihh': 5977, 'saidd': 5978, 'umhuhh': 5979, 'buddiee': 5980, 'funnyy': 5981, 'childrenn': 5982, 'slidinqq': 5983, 'insiderr': 5984, 'mikeyy': 5985, 'aiint': 5986, 'tew': 5987, 'raven': 5988, 'boii': 5989, 'lykee': 5990, 'ohhemmgee': 5991, 'xc': 5992, 'rc': 5993, 'qu': 5994, 'kly': 5995, 'rny': 5996, 'unpr': 5997, 'qn': 5998, 'hrobb': 5999, 'gg': 6000, 'wh': 6001, 'ch': 6002, 'wuzz': 6003, 'posed': 6004, 'pikturesz': 6005, 'skeezy': 6006, 'axel': 6007, 'nigggah': 6008, 'isz': 6009, 'circumsized': 6010, 'dhatss': 6011, 'himto': 6012, 'tallllll': 6013, 'didntt': 6014, 'whud': 6015, 'kuute': 6016, 'eachothuh': 6017, 'ohkayy': 6018, 'gotchu': 6019, 'manee': 6020, 'seee': 6021, 'crazi': 6022, 'kinqst': 6023, 'cuhz': 6024, 'forrreal': 6025, 'rms': 6026, 'twu': 6027, 'fcked': 6028, 'miy': 6029, 'uqhhh': 6030, 'iquess': 6031, 'goht': 6032, 'hoess': 6033, 'valentinee': 6034, 'shxt': 6035, 'thng': 6036, 'abou': 6037, 'donna': 6038, 'wutchu': 6039, 'rnd': 6040, 'usi': 6041, 'fy': 6042, 'obbl': 6043, 'charts': 6044, 'sm': 6045, 'tt': 6046, 'dozenth': 6047, 'yeash': 6048, 'kingston': 6049, 'lyee': 6050, 'behh': 6051, 'tearn': 6052, 'asz': 6053, 'tld': 6054, 'yestadayy': 6055, 'gt': 6056, 'liil': 6057, 'fwum': 6058, 'iit': 6059, 'adedd': 6060, 'myk': 6061, 'oaaa': 6062, 'tellen': 6063, 'khlou': 6064, 'dhats': 6065, 'yuhz': 6066, 'ndd': 6067, 'caint': 6068, 'tlkk': 6069, 'qurls': 6070, 'yurselff': 6071, 'loyal': 6072, 'reliable': 6073, 'dina': 6074, 'hats': 6075, 'charmin': 6076, 'anygirl': 6077, 'herer': 6078, 'oread': 6079, 'obsesed': 6080, 'mer': 6081, 'freer': 6082, 'familyr': 6083, 'forsaken': 6084, 'stouffer': 6085, 'talkk': 6086, 'lonelyr': 6087, 'flippen': 6088, 'bestestt': 6089, 'experiance': 6090, 'teell': 6091, 'photonucket': 6092, 'annd': 6093, 'hoeee': 6094, 'orr': 6095, 'ford': 6096, 'ther': 6097, 'tarren': 6098, 'samantha': 6099, 'jessica': 6100, 'aaaaaarg': 6101, 'uhhm': 6102, 'aah': 6103, 'lawyer': 6104, 'anonmous': 6105, 'introvert': 6106, 'extrovert': 6107, 'alxeander': 6108, 'jbatmann': 6109, 'accutally': 6110, 'pshhhh': 6111, 'noooot': 6112, 'ruin': 6113, 'justins': 6114, 'mouths': 6115, 'tupac': 6116, 'parade': 6117, 'scum': 6118, 'suckers': 6119, 'shove': 6120, 'tabilicious': 6121, 'ey': 6122, 'fakeeeeee': 6123, 'gasp': 6124, 'relive': 6125, 'betoven': 6126, 'knowww': 6127, 'kiiddding': 6128, 'cyberbullying': 6129, 'hahahhaa': 6130, 'irritate': 6131, 'ohmygod': 6132, 'likeee': 6133, 'audrey': 6134, 'sayin': 6135, 'buttt': 6136, 'hahahahaaha': 6137, 'pevert': 6138, 'bhhah': 6139, 'foohl': 6140, 'myyearbook': 6141, 'lerner': 6142, 'agiiiinnnn': 6143, 'unbirthday': 6144, 'replying': 6145, 'personaly': 6146, 'inspire': 6147, 'mustcha': 6148, 'lds': 6149, 'kitties': 6150, 'bffls': 6151, 'persone': 6152, 'volleyball': 6153, 'werre': 6154, 'lezbian': 6155, 'yearbook': 6156, 'tab': 6157, 'idiots': 6158, 'ssaam': 6159, 'deserved': 6160, 'torn': 6161, 'clearly': 6162, 'tabbbbbi': 6163, 'fluent': 6164, 'threee': 6165, 'dismembered': 6166, 'jac': 6167, 'chomo': 6168, 'anomalously': 6169, 'caramal': 6170, 'maryy': 6171, 'naww': 6172, 'neee': 6173, 'mindvvv': 6174, 'srrrry': 6175, 'nuu': 6176, 'squatter': 6177, 'honored': 6178, 'jo': 6179, 'screw': 6180, 'selfs': 6181, 'sittinghere': 6182, 'okeyyy': 6183, 'tabilou': 6184, 'mentioning': 6185, 'specifially': 6186, 'creeeeepy': 6187, 'hadda': 6188, 'histery': 6189, 'pleased': 6190, 'loose': 6191, 'espcially': 6192, 'speechless': 6193, 'closing': 6194, 'kicking': 6195, 'aboustly': 6196, 'bitchy': 6197, 'moddest': 6198, 'regreted': 6199, 'happaneing': 6200, 'kinly': 6201, 'babeeee': 6202, 'giggidy': 6203, 'bestttt': 6204, 'whooo': 6205, 'hides': 6206, 'tabiahhhh': 6207, 'tabigale': 6208, 'tabithaaaaaa': 6209, 'youuuuuuuuuuuuuu': 6210, 'awsomeeeeeee': 6211, 'ditching': 6212, 'daydrien': 6213, 'marriiieedddddd': 6214, 'jbatman': 6215, 'flirting': 6216, 'sig': 6217, 'dummy': 6218, 'ttabaabiii': 6219, 'loooovvvveee': 6220, 'yayaay': 6221, 'hmhmhnhmyyeess': 6222, 'ofa': 6223, 'goeez': 6224, 'lockerbudddie': 6225, 'coooooool': 6226, 'fiit': 6227, 'vvvvvvvummmmmmmmm': 6228, 'realllyy': 6229, 'smite': 6230, 'righteous': 6231, 'fury': 6232, 'impressive': 6233, 'annoyes': 6234, 'prettyest': 6235, 'brunette': 6236, 'tyme': 6237, 'whre': 6238, 'key': 6239, 'feell': 6240, 'sept': 6241, 'whaaa': 6242, 'chuuu': 6243, 'doooinnn': 6244, 'guuurrrrrrlllll': 6245, 'handing': 6246, 'trend': 6247, 'aaanyyywhoooooooo': 6248, 'uuuhm': 6249, 'markers': 6250, 'colored': 6251, 'crayons': 6252, 'shamed': 6253, 'rappers': 6254, 'powerful': 6255, 'surrounds': 6256, 'careing': 6257, 'genuinly': 6258, 'wiked': 6259, 'vag': 6260, 'pretttyyy': 6261, 'yyyessss': 6262, 'wooo': 6263, 'beseeest': 6264, 'specially': 6265, 'cohoclate': 6266, 'syrup': 6267, 'aaaaaanndgummy': 6268, 'woooo': 6269, 'raging': 6270, 'homosexaul': 6271, 'carraige': 6272, 'beu': 6273, 'ter': 6274, 'thu': 6275, 'formspru': 6276, 'ng': 6277, 'tr': 6278, 'huuuh': 6279, 'ohky': 6280, 'dildo': 6281, 'collect': 6282, 'jars': 6283, 'disposing': 6284, 'victims': 6285, 'muffen': 6286, 'freind': 6287, 'obsest': 6288, 'wiv': 6289, 'tricked': 6290, 'hahahahaahahahahah': 6291, 'heyllo': 6292, 'favouritest': 6293, 'nemo': 6294, 'fallopian': 6295, 'tubes': 6296, 'estera': 6297, 'kaylanot': 6298, 'pheobe': 6299, 'firstr': 6300, 'invented': 6301, 'jarrod': 6302, 'jking': 6303, 'reow': 6304, 'goreng': 6305, 'spamspamspamspamspamspamspamspamspamspamspamspamspamspamspamspamspamspamspamspamspamspamspamspamspamspamspamspamspamspamspamspamspamspamspamspamspamspamspamspamspamspamspamspamspamspamspamspamspamspamspamspamspamspamspamspamspamspamspamspamspam': 6306, 'trek': 6307, 'probally': 6308, 'dero': 6309, 'hamburger': 6310, 'ladie': 6311, 'tec': 6312, 'woop': 6313, 'turnbull': 6314, 'rach': 6315, 'abcdefghijklmnopqrstuvwxyz': 6316, 'penguin': 6317, 'matt': 6318, 'carona': 6319, 'astronauts': 6320, 'zones': 6321, 'dandruff': 6322, 'glow': 6323, 'glowing': 6324, 'buses': 6325, 'exits': 6326, 'siamese': 6327, 'anagram': 6328, 'ghosts': 6329, 'obsessions': 6330, 'scrambled': 6331, 'anthem': 6332, 'marks': 6333, 'logic': 6334, 'postman': 6335, 'deliver': 6336, 'anagrams': 6337, 'rod': 6338, 'lack': 6339, 'measured': 6340, 'jockstrap': 6341, 'goldfish': 6342, 'conclusion': 6343, 'hahahahah': 6344, 'kow': 6345, 'tipping': 6346, 'snipe': 6347, 'title': 6348, 'admirer': 6349, 'nibblin': 6350, 'complaints': 6351, 'asap': 6352, 'hhaahhaahahaha': 6353, 'peel': 6354, 'swirls': 6355, 'edges': 6356, 'invisible': 6357, 'ink': 6358, 'freddy': 6359, 'kruger': 6360, 'wipe': 6361, 'licks': 6362, 'cussed': 6363, 'gladly': 6364, 'kettle': 6365, 'chatroom': 6366, 'spoons': 6367, 'forks': 6368, 'chef': 6369, 'hairnet': 6370, 'pollen': 6371, 'hives': 6372, 'cannible': 6373, 'electricuted': 6374, 'nap': 6375, 'resisting': 6376, 'royal': 6377, 'implants': 6378, 'merge': 6379, 'amputated': 6380, 'kentucky': 6381, 'alabama': 6382, 'comercials': 6383, 'laughter': 6384, 'rabbitsu': 6385, 'fbi': 6386, 'professor': 6387, 'giligan': 6388, 'uranus': 6389, 'uranusquakes': 6390, 'millionaire': 6391, 'guilt': 6392, 'bureau': 6393, 'soak': 6394, 'worm': 6395, 'fry': 6396, 'yankee': 6397, 'feather': 6398, 'macaroni': 6399, 'dyslexic': 6400, 'redundant': 6401, 'reverse': 6402, 'predictions': 6403, 'mattresses': 6404, 'sale': 6405, 'frmo': 6406, 'branches': 6407, 'excellent': 6408, 'outgoing': 6409, 'gilligan': 6410, 'ginger': 6411, 'outfits': 6412, 'tour': 6413, 'timmeh': 6414, 'latinos': 6415, 'amounts': 6416, 'environment': 6417, 'seedless': 6418, 'stinks': 6419, 'licenses': 6420, 'irrisitable': 6421, 'immovable': 6422, 'lightsaber': 6423, 'thesaurus': 6424, 'satan': 6425, 'weekends': 6426, 'embarrasing': 6427, 'lure': 6428, 'bent': 6429, 'mole': 6430, 'anticipate': 6431, 'naughtiest': 6432, 'spells': 6433, 'reversed': 6434, 'obituaries': 6435, 'section': 6436, 'newspaper': 6437, 'interstate': 6438, 'highways': 6439, 'materialized': 6440, 'superheros': 6441, 'apartments': 6442, 'lull': 6443, 'cradle': 6444, 'caregiver': 6445, 'caretaker': 6446, 'bowl': 6447, 'piano': 6448, 'pianist': 6449, 'cereal': 6450, 'contains': 6451, 'showed': 6452, 'invests': 6453, 'broker': 6454, 'basket': 6455, 'injury': 6456, 'menu': 6457, 'ufo': 6458, 'ide': 6459, 'inanimate': 6460, 'safely': 6461, 'blazing': 6462, 'inferno': 6463, 'austrailan': 6464, 'jez': 6465, 'bahahahhahaa': 6466, 'dinosaur': 6467, 'micky': 6468, 'sticks': 6469, 'lovw': 6470, 'bets': 6471, 'laces': 6472, 'pleaseee': 6473, 'sttupppiddddddd': 6474, 'busyy': 6475, 'cameren': 6476, 'loomen': 6477, 'irght': 6478, 'marrage': 6479, 'betsy': 6480, 'instown': 6481, 'oldham': 6482, 'fa': 6483, 'sho': 6484, 'broski': 6485, 'sara': 6486, 'maine': 6487, 'tthan': 6488, 'kaaaaaaaaaaa': 6489, 'meeeeeeee': 6490, 'haaaaaaaaaaaa': 6491, 'meeeeeeeeeeee': 6492, 'haaaaaaaaaaaaaaaaaaaaaaaaaaaaaaaaaaaaaaaaaaaaaaaaaaaaaa': 6493, 'grlll': 6494, 'lewk': 6495, 'interwebs': 6496, 'atrocious': 6497, 'yuhhhp': 6498, 'ichanqqe': 6499, 'loll': 6500, 'nothhinqq': 6501, 'chillinnq': 6502, 'boreddd': 6503, 'assss': 6504, 'fucckk': 6505, 'succkksss': 6506, 'danqq': 6507, 'succkkzs': 6508, 'wahh': 6509, 'suhhp': 6510, 'ehht': 6511, 'suckkss': 6512, 'buhht': 6513, 'lazyy': 6514, 'callinq': 6515, 'paqe': 6516, 'quesions': 6517, 'pweese': 6518, 'thinqq': 6519, 'aawww': 6520, 'kuyte': 6521, 'ehhe': 6522, 'ahahhh': 6523, 'eveeen': 6524, 'anytime': 6525, 'dominican': 6526, 'ursz': 6527, 'shades': 6528, 'niqht': 6529, 'sack': 6530, 'blonds': 6531, 'buubuu': 6532, 'sweeeetest': 6533, 'buuuu': 6534, 'sofa': 6535, 'cutieee': 6536, 'cuttie': 6537, 'aaaaalllllll': 6538, 'denng': 6539, 'dennng': 6540, 'buu': 6541, 'hotttt': 6542, 'knooow': 6543, 'muccch': 6544, 'trickin': 6545, 'sunflower': 6546, 'kleanin': 6547, 'fold': 6548, 'akount': 6549, 'handkuffs': 6550, 'cent': 6551, 'gangstah': 6552, 'klothes': 6553, 'surpose': 6554, 'dope': 6555, 'eastside': 6556, 'eatin': 6557, 'cheerios': 6558, 'bangin': 6559, 'hound': 6560, 'tasted': 6561, 'jaks': 6562, 'faceebook': 6563, 'favo': 6564, 'garfeild': 6565, 'heathkliff': 6566, 'sayinq': 6567, 'cyberfucks': 6568, 'haaaa': 6569, 'iiam': 6570, 'courtney': 6571, 'alriqhtt': 6572, 'whts': 6573, 'tlk': 6574, 'shyt': 6575, 'hahaaa': 6576, 'formsprinq': 6577, 'wannna': 6578, 'texttr': 6579, 'bouttah': 6580, 'packinq': 6581, 'hehee': 6582, 'formsprinqr': 6583, 'knoer': 6584, 'tiannahh': 6585, 'hellor': 6586, 'ceeeell': 6587, 'hunz': 6588, 'correa': 6589, 'papi': 6590, 'chulo': 6591, 'heyyyyyyyyyy': 6592, 'shadyyyy': 6593, 'holar': 6594, 'klean': 6595, 'sexylatinachic': 6596, 'db': 6597, 'adc': 6598, 'eb': 6599, 'coolies': 6600, 'drawings': 6601, 'ayobeba': 6602, 'diaujabby': 6603, 'remeber': 6604, 'sandomlyy': 6605, 'yuhr': 6606, 'friendsss': 6607, 'swaggg': 6608, 'northern': 6609, 'east': 6610, 'sacramento': 6611, 'tijuana': 6612, 'jkk': 6613, 'smilee': 6614, 'willinq': 6615, 'icant': 6616, 'ownu': 6617, 'fukkd': 6618, 'braid': 6619, 'sins': 6620, 'imm': 6621, 'lilo': 6622, 'stitch': 6623, 'mf': 6624, 'ana': 6625, 'nena': 6626, 'mami': 6627, 'homee': 6628, 'kickinn': 6629, 'lazyyy': 6630, 'nothinqq': 6631, 'rlly': 6632, 'watchinq': 6633, 'coolz': 6634, 'tik': 6635, 'tok': 6636, 'songz': 6637, 'nahhh': 6638, 'somethinqq': 6639, 'pac': 6640, 'cherish': 6641, 'millian': 6642, 'jay': 6643, 'nivea': 6644, 'ricky': 6645, 'swv': 6646, 'jackinnnng': 6647, 'offf': 6648, 'chilllinnqq': 6649, 'boutt': 6650, 'youuhhh': 6651, 'nu': 6652, 'angelicaa': 6653, 'thew': 6654, 'forgott': 6655, 'omq': 6656, 'blinded': 6657, 'kooo': 6658, 'fromm': 6659, 'pak': 6660, 'insanitymurders': 6661, 'redboiii': 6662, 'shortyonfire': 6663, 'careful': 6664, 'accounts': 6665, 'sasha': 6666, 'crackin': 6667, 'repp': 6668, 'partnah': 6669, 'puerto': 6670, 'rikan': 6671, 'creeping': 6672, 'bri': 6673, 'bttr': 6674, 'omment': 6675, 'kristy': 6676, 'thankyouh': 6677, 'jess': 6678, 'thatss': 6679, 'skyyy': 6680, 'sittinq': 6681, 'bitchhhh': 6682, 'buh': 6683, 'qotsz': 6684, 'doeee': 6685, 'fyneazzchula': 6686, 'cybersex': 6687, 'gstatic': 6688, 'tbn': 6689, 'aukxkkssjsmperm': 6690, 'abuy': 6691, 'fjewelry': 6692, 'findex': 6693, 'fid': 6694, 'dbellyrings': 6695, 'flphap': 6696, 'supperr': 6697, 'kuteeee': 6698, 'welkum': 6699, 'wahhtss': 6700, 'favorrite': 6701, 'sportt': 6702, 'anime': 6703, 'chix': 6704, 'kandel': 6705, 'kums': 6706, 'beefy': 6707, 'kleaned': 6708, 'katch': 6709, 'upsz': 6710, 'namesz': 6711, 'alicia': 6712, 'wassuhhppp': 6713, 'kcutie': 6714, 'wassupp': 6715, 'wassuppp': 6716, 'watsz': 6717, 'alreadyy': 6718, 'friendss': 6719, 'mightyy': 6720, 'shade': 6721, 'whatsss': 6722, 'qewddd': 6723, 'whatssuppp': 6724, 'shoppin': 6725, 'bakground': 6726, 'ufrim': 6727, 'puff': 6728, 'woow': 6729, 'soor': 6730, 'ilovd': 6731, 'thanksss': 6732, 'anymous': 6733, 'wududp': 6734, 'wuss': 6735, 'kali': 6736, 'wussssup': 6737, 'wuuhhdsz': 6738, 'crackinn': 6739, 'wuuuhhss': 6740, 'crackkinn': 6741, 'youuuh': 6742, 'whatss': 6743, 'neverr': 6744, 'yeee': 6745, 'kounts': 6746, 'yezir': 6747, 'ly': 6748, 'chatr': 6749, 'thingss': 6750, 'sexyy': 6751, 'yourrr': 6752, 'knoe': 6753, 'ir': 6754, 'meann': 6755, 'laker': 6756, 'duhhhh': 6757, 'austins': 6758, 'girllfriend': 6759, 'uglly': 6760, 'asss': 6761, 'willll': 6762, 'evven': 6763, 'callled': 6764, 'katellyn': 6765, 'aggress': 6766, 'kristens': 6767, 'tighht': 6768, 'bbygirlll': 6769, 'mayodan': 6770, 'abbie': 6771, 'lst': 6772, 'aintchur': 6773, 'evn': 6774, 'abzilla': 6775, 'competition': 6776, 'mirrorrr': 6777, 'julies': 6778, 'lurk': 6779, 'wth': 6780, 'babeyy': 6781, 'giirlll': 6782, 'youhhh': 6783, 'yewww': 6784, 'carter': 6785, 'downs': 6786, 'overalll': 6787, 'awsomeee': 6788, 'bitchx': 6789, 'favortie': 6790, 'hispanic': 6791, 'fuckiung': 6792, 'worrying': 6793, 'yummyyyy': 6794, 'sexxyyyyy': 6795, 'gravest': 6796, 'foool': 6797, 'tonys': 6798, 'sosoo': 6799, 'yessss': 6800, 'diego': 6801, 'nicole': 6802, 'wilson': 6803, 'rabion': 6804, 'williams': 6805, 'daniela': 6806, 'sanchez': 6807, 'graderr': 6808, 'virgionr': 6809, 'goinfg': 6810, 'virginian': 6811, 'babygirl': 6812, 'mahh': 6813, 'palmettor': 6814, 'erick': 6815, 'crackhead': 6816, 'anythin': 6817, 'thtr': 6818, 'tyler': 6819, 'tatto': 6820, 'drayton': 6821, 'amazingg': 6822, 'seriouslyr': 6823, 'yuuuuuuuuuu': 6824, 'whyyyyyyyyy': 6825, 'haley': 6826, 'existing': 6827, 'babay': 6828, 'gurrll': 6829, 'skoo': 6830, 'jits': 6831, 'sugest': 6832, 'grrrr': 6833, 'pelvis': 6834, 'guuurl': 6835, 'dammit': 6836, 'loveyouubabyyy': 6837, 'beetedubs': 6838, 'whoeveer': 6839, 'ouur': 6840, 'smashed': 6841, 'yett': 6842, 'smochedd': 6843, 'herrow': 6844, 'formosa': 6845, 'madison': 6846, 'kidkbozing': 6847, 'stoped': 6848, 'luara': 6849, 'linsten': 6850, 'pplz': 6851, 'trueee': 6852, 'mamita': 6853, 'sexyyyy': 6854, 'pwease': 6855, 'mijita': 6856, 'bless': 6857, 'wavy': 6858, 'william': 6859, 'cupo': 6860, 'howd': 6861, 'lesbain': 6862, 'ad': 6863, 'hahahhaaaa': 6864, 'laaaaavv': 6865, 'misss': 6866, 'aroud': 6867, 'beeaaauitful': 6868, 'eddie': 6869, 'sayinnnnn': 6870, 'godly': 6871, 'estimated': 6872, 'iknow': 6873, 'mijitaa': 6874, 'retarted': 6875, 'anddd': 6876, 'perioddd': 6877, 'coral': 6878, 'reef': 6879, 'imisss': 6880, 'jizzed': 6881, 'samara': 6882, 'jurrr': 6883, 'knowin': 6884, 'jer': 6885, 'jerryka': 6886, 'anerine': 6887, 'kenyi': 6888, 'ruining': 6889, 'rep': 6890, 'chillout': 6891, 'waisting': 6892, 'stunnna': 6893, 'caring': 6894, 'lauraaa': 6895, 'lauraaaa': 6896, 'chinaa': 6897, 'lauraaaaaaaaa': 6898, 'laurra': 6899, 'advisement': 6900, 'shitty': 6901, 'smash': 6902, 'olderr': 6903, 'loooooooooooove': 6904, 'stamach': 6905, 'sooon': 6906, 'peoplee': 6907, 'nicolenicolenicoleniceolnicolenicolenicolenicolenicolenicoleniceolnicolenicolenicolenicolenicolenicoleniceolnicolenicolenicolenicolenicolenicoleniceolnicolenicolenicolenicolenicolenicoleniceolnicolenicolenicole': 6908, 'jeffery': 6909, 'eighth': 6910, 'broward': 6911, 'mamiiii': 6912, 'cardio': 6913, 'kathy': 6914, 'katryna': 6915, 'girlsss': 6916, 'palmetto': 6917, 'remembered': 6918, 'younqer': 6919, 'ilook': 6920, 'ibelonq': 6921, 'freshiee': 6922, 'rmec': 6923, 'sayy': 6924, 'kayy': 6925, 'borinq': 6926, 'shakeee': 6927, 'ittttttttt': 6928, 'ms': 6929, 'shills': 6930, 'clas': 6931, 'gonnna': 6932, 'happeist': 6933, 'prson': 6934, 'aaaaaaaaxd': 6935, 'smd': 6936, 'swiss': 6937, 'girlly': 6938, 'uve': 6939, 'poepl': 6940, 'fuss': 6941, 'curios': 6942, 'jeffrey': 6943, 'swindoll': 6944, 'eyeshadow': 6945, 'liner': 6946, 'syiuff': 6947, 'ae': 6948, 'sleepaway': 6949, 'songgggggggggggg': 6950, 'bryce': 6951, 'huhhhh': 6952, 'qirlll': 6953, 'doinqq': 6954, 'wtfff': 6955, 'fense': 6956, 'diiddd': 6957, 'truthfully': 6958, 'bestes': 6959, 'jhocehoe': 6960, 'cuteeee': 6961, 'prettyyyyy': 6962, 'gawwwjuss': 6963, 'eviani': 6964, 'ronald': 6965, 'woooooow': 6966, 'laaav': 6967, 'bestfrienddd': 6968, 'cheeks': 6969, 'chipmunk': 6970, 'yessssss': 6971, 'shill': 6972, 'xddd': 6973, 'probaly': 6974, 'juuu': 6975, 'perfetooo': 6976, 'pagent': 6977, 'preety': 6978, 'shoul': 6979, 'donkkkkkkkkkkk': 6980, 'likea': 6981, 'probuly': 6982, 'camila': 6983, 'approachable': 6984, 'reallyu': 6985, 'haterss': 6986, 'blowws': 6987, 'mindd': 6988, 'halarious': 6989, 'powder': 6990, 'concealer': 6991, 'eyeliner': 6992, 'pretttttty': 6993, 'treees': 6994, 'honey': 6995, 'pretttttiest': 6996, 'knooowwww': 6997, 'hottt': 6998, 'fuckkk': 6999, 'goo': 7000, 'sluuttt': 7001, 'haleyy': 7002, 'noooooooooooooooooo': 7003, 'raping': 7004, 'uyg': 7005, 'fg': 7006, 'fools': 7007, 'lifts': 7008, 'flannel': 7009, 'suing': 7010, 'manage': 7011, 'smiles': 7012, 'bandicoot': 7013, 'roxxx': 7014, 'cortex': 7015, 'ifogguitarist': 7016, 'honda': 7017, 'civics': 7018, 'mothna': 7019, 'llready': 7020, 'cargo': 7021, 'lingering': 7022, 'burito': 7023, 'ahhha': 7024, 'lnoxen': 7025, 'aarindna': 7026, 'dayz': 7027, 'amarte': 7028, 'antigua': 7029, 'bedrockin': 7030, 'aorere': 7031, 'mangere': 7032, 'papatoetoe': 7033, 'allllllll': 7034, 'appropiate': 7035, 'nik': 7036, 'skellcies': 7037, 'sita': 7038, 'suggestion': 7039, 'lastnight': 7040, 'gamer': 7041, 'xbox': 7042, 'maker': 7043, 'unflattering': 7044, 'importantly': 7045, 'uni': 7046, 'midgets': 7047, 'superstitious': 7048, 'touchie': 7049, 'auckland': 7050, 'dipsy': 7051, 'tinklewinkles': 7052, 'tinky': 7053, 'winky': 7054, 'wd': 7055, 'envy': 7056, 'sends': 7057, 'teddys': 7058, 'divino': 7059, 'pronto': 7060, 'volver': 7061, 'ayo': 7062, 'queensland': 7063, 'bwahahahhahaha': 7064, 'laps': 7065, 'freestyle': 7066, 'backstroke': 7067, 'treading': 7068, 'bloke': 7069, 'blond': 7070, 'princess': 7071, 'subsription': 7072, 'glamour': 7073, 'tricycle': 7074, 'macca': 7075, 'decompose': 7076, 'spinning': 7077, 'xat': 7078, 'fcuk': 7079, 'techs': 7080, 'router': 7081, 'corrupt': 7082, 'transmission': 7083, 'rubble': 7084, 'bambam': 7085, 'churchchrist': 7086, 'gurlr': 7087, 'cockroach': 7088, 'pry': 7089, 'briefly': 7090, 'knocked': 7091, 'dazed': 7092, 'shakes': 7093, 'australians': 7094, 'culd': 7095, 'suxk': 7096, 'lang': 7097, 'frum': 7098, 'baxk': 7099, 'shawtayyyy': 7100, 'algood': 7101, 'heaps': 7102, 'moko': 7103, 'bllionaire': 7104, 'bacilos': 7105, 'primer': 7106, 'psuj': 7107, 'ansa': 7108, 'mz': 7109, 'perfection': 7110, 'reba': 7111, 'asteroid': 7112, 'tomorrowr': 7113, 'frisko': 7114, 'offical': 7115, 'vultari': 7116, 'cullens': 7117, 'meesh': 7118, 'ewe': 7119, 'hunter': 7120, 'llmao': 7121, 'teaming': 7122, 'ceo': 7123, 'earns': 7124, 'earn': 7125, 'victoria': 7126, 'vampires': 7127, 'grill': 7128, 'weighs': 7129, 'pounds': 7130, 'deposit': 7131, 'pee': 7132, 'discribe': 7133, 'circle': 7134, 'brow': 7135, 'threading': 7136, 'catalog': 7137, 'relatives': 7138, 'roos': 7139, 'peer': 7140, 'pressurer': 7141, 'preview': 7142, 'submitting': 7143, 'members': 7144, 'casinos': 7145, 'baggage': 7146, 'insists': 7147, 'irritated': 7148, 'drinkers': 7149, 'temperance': 7150, 'jerkin': 7151, 'peking': 7152, 'crispy': 7153, 'squares': 7154, 'choc': 7155, 'shack': 7156, 'bunker': 7157, 'rv': 7158, 'qualify': 7159, 'perfectr': 7160, 'considerate': 7161, 'otherr': 7162, 'froma': 7163, 'easly': 7164, 'mrflintstone': 7165, 'contract': 7166, 'phones': 7167, 'recharge': 7168, 'employ': 7169, 'ablum': 7170, 'drumline': 7171, 'reggae': 7172, 'ido': 7173, 'caribbean': 7174, 'reggaeton': 7175, 'bracelets': 7176, 'cubes': 7177, 'lovers': 7178, 'frenz': 7179, 'tihnk': 7180, 'lastsong': 7181, 'jewellry': 7182, 'sawn': 7183, 'stonger': 7184, 'quantas': 7185, 'depot': 7186, 'screws': 7187, 'algebra': 7188, 'holden': 7189, 'tiptronic': 7190, 'ughh': 7191, 'zane': 7192, 'luvmehateme': 7193, 'intake': 7194, 'qirls': 7195, 'escargot': 7196, 'caviar': 7197, 'filet': 7198, 'mignon': 7199, 'stag': 7200, 'alseep': 7201, 'flewn': 7202, 'chinatown': 7203, 'stall': 7204, 'steep': 7205, 'joining': 7206, 'gunah': 7207, 'booootay': 7208, 'pissing': 7209, 'subscription': 7210, 'geeks': 7211, 'chilling': 7212, 'weas': 7213, 'tropic': 7214, 'plural': 7215, 'liquid': 7216, 'gambling': 7217, 'cafe': 7218, 'wrk': 7219, 'goodbye': 7220, 'rx': 7221, 'crx': 7222, 'matchbox': 7223, 'grrrrr': 7224, 'handy': 7225, 'hahahhah': 7226, 'nation': 7227, 'hahahhaha': 7228, 'vinegar': 7229, 'pantsed': 7230, 'thankfully': 7231, 'grabbed': 7232, 'mortified': 7233, 'winks': 7234, 'freaked': 7235, 'ggpr': 7236, 'chop': 7237, 'duces': 7238, 'humiliated': 7239, 'feared': 7240, 'diamond': 7241, 'gem': 7242, 'emerald': 7243, 'labyrinth': 7244, 'david': 7245, 'bowies': 7246, 'peeing': 7247, 'blondprincess': 7248, 'surgerys': 7249, 'tiffany': 7250, 'hypnotized': 7251, 'feard': 7252, 'advantage': 7253, 'hampshire': 7254, 'flinstone': 7255, 'datted': 7256, 'ih': 7257, 'posing': 7258, 'squirrel': 7259, 'rhubarb': 7260, 'tionary': 7261, 'reconsidered': 7262, 'gods': 7263, 'humour': 7264, 'pacific': 7265, 'scarys': 7266, 'cautious': 7267, 'whipped': 7268, 'flown': 7269, 'successful': 7270, 'potions': 7271, 'inception': 7272, 'leonardo': 7273, 'caprio': 7274, 'suspected': 7275, 'throbbed': 7276, 'eats': 7277, 'capitol': 7278, 'diddy': 7279, 'tais': 7280, 'pbwqjg': 7281, 'bop': 7282, 'archive': 7283, 'giftedbuttwistedcd': 7284, 'giftedbuttwisted': 7285, 'zip': 7286, 'dillio': 7287, 'banging': 7288, 'chilin': 7289, 'privacy': 7290, 'levels': 7291, 'evo': 7292, 'stripe': 7293, 'tinted': 7294, 'tekken': 7295, 'heylo': 7296, 'pretti': 7297, 'hhope': 7298, 'ellejay': 7299, 'bestest': 7300, 'melbourne': 7301, 'nyc': 7302, 'ridin': 7303, 'hmmmmm': 7304, 'motorway': 7305, 'highway': 7306, 'hmmmmmm': 7307, 'converse': 7308, 'hobart': 7309, 'holla': 7310, 'scanner': 7311, 'bugging': 7312, 'flintstones': 7313, 'nanu': 7314, 'keen': 7315, 'jackets': 7316, 'bbaby': 7317, 'mellons': 7318, 'arebu': 7319, 'melb': 7320, 'dint': 7321, 'famz': 7322, 'mariah': 7323, 'carey': 7324, 'infants': 7325, 'restaraunts': 7326, 'relations': 7327, 'jeaousy': 7328, 'liquored': 7329, 'rituals': 7330, 'minus': 7331, 'unfollowed': 7332, 'networks': 7333, 'singlets': 7334, 'skeletons': 7335, 'wheels': 7336, 'spoke': 7337, 'materialistic': 7338, 'allowance': 7339, 'bonkers': 7340, 'whiskey': 7341, 'dropppppp': 7342, 'skirts': 7343, 'reglious': 7344, 'tini': 7345, 'bikini': 7346, 'intimacy': 7347, 'chappinessu': 7348, 'disappeard': 7349, 'howz': 7350, 'doodles': 7351, 'wyo': 7352, 'egty': 7353, 'ymo': 7354, 'vzg': 7355, 'qvryziqkfu': 7356, 'qloitbscto': 7357, 'akluce': 7358, 'nim': 7359, 'hltq': 7360, 'sd': 7361, 'bmmzjurtj': 7362, 'bznaziezxb': 7363, 'favupd': 7364, 'ijvy': 7365, 'iom': 7366, 'pjns': 7367, 'plmkwi': 7368, 'dy': 7369, 'fvw': 7370, 'tugsll': 7371, 'axk': 7372, 'popt': 7373, 'telll': 7374, 'thinkg': 7375, 'figs': 7376, 'salsa': 7377, 'counts': 7378, 'chocolates': 7379, 'latinas': 7380, 'patron': 7381, 'muscles': 7382, 'alook': 7383, 'fiji': 7384, 'konkie': 7385, 'konka': 7386, 'rooderlolr': 7387, 'boi': 7388, 'peeeeeeee': 7389, 'ov': 7390, 'stopppppp': 7391, 'yawwwnnn': 7392, 'sucky': 7393, 'pts': 7394, 'programs': 7395, 'hahahahhahahahhahhhahahhahhahha': 7396, 'clicks': 7397, 'context': 7398, 'noes': 7399, 'sprongbob': 7400, 'squerr': 7401, 'supportive': 7402, 'quaked': 7403, 'hahhhahahaha': 7404, 'forgets': 7405, 'mish': 7406, 'essaychayywyy': 7407, 'geeemmayysee': 7408, 'dunnor': 7409, 'shaky': 7410, 'ozzies': 7411, 'sydny': 7412, 'engines': 7413, 'ordinary': 7414, 'numder': 7415, 'pulls': 7416, 'stopping': 7417, 'weymouth': 7418, 'figsr': 7419, 'adriadic': 7420, 'solving': 7421, 'mysterys': 7422, 'wilma': 7423, 'fred': 7424, 'matching': 7425, 'namez': 7426, 'nicaragua': 7427, 'flor': 7428, 'cana': 7429, 'ehre': 7430, 'hte': 7431, 'usar': 7432, 'grossed': 7433, 'flyyyyyyyy': 7434, 'afriad': 7435, 'scroll': 7436, 'assed': 7437, 'fluke': 7438, 'monitor': 7439, 'shots': 7440, 'hammerd': 7441, 'tcell': 7442, 'wnna': 7443, 'lecture': 7444, 'diet': 7445, 'active': 7446, 'suffer': 7447, 'compu': 7448, 'comp': 7449, 'rethink': 7450, 'afternoon': 7451, 'comet': 7452, 'metero': 7453, 'stunt': 7454, 'uihjhfjhdjdfhierrinbhkdaaaa': 7455, 'ahahahhaha': 7456, 'sangria': 7457, 'tapas': 7458, 'paella': 7459, 'downtown': 7460, 'clusters': 7461, 'rough': 7462, 'lollipops': 7463, 'smoothies': 7464, 'yumm': 7465, 'poisonous': 7466, 'emt': 7467, 'venom': 7468, 'lend': 7469, 'dent': 7470, 'doorstep': 7471, 'teletubbies': 7472, 'pitch': 7473, 'dealt': 7474, 'deck': 7475, 'credit': 7476, 'bigggg': 7477, 'plastic': 7478, 'bum': 7479, 'shays': 7480, 'harrass': 7481, 'unsafe': 7482, 'undress': 7483, 'mornng': 7484, 'pony': 7485, 'unbelievable': 7486, 'options': 7487, 'rope': 7488, 'trained': 7489, 'frozen': 7490, 'chamber': 7491, 'rubbing': 7492, 'speeding': 7493, 'bullet': 7494, 'strength': 7495, 'material': 7496, 'retire': 7497, 'backu': 7498, 'landed': 7499, 'market': 7500, 'jewlery': 7501, 'brands': 7502, 'restrictions': 7503, 'cribs': 7504, 'cheque': 7505, 'starve': 7506, 'burning': 7507, 'spammin': 7508, 'dumazz': 7509, 'queestions': 7510, 'binge': 7511, 'rake': 7512, 'exercise': 7513, 'imean': 7514, 'subjects': 7515, 'socialise': 7516, 'droid': 7517, 'kindly': 7518, 'befriend': 7519, 'ememy': 7520, 'bullsiht': 7521, 'zzez': 7522, 'enter': 7523, 'meaningless': 7524, 'taht': 7525, 'gates': 7526, 'microsoft': 7527, 'wayt': 7528, 'autograph': 7529, 'sensoring': 7530, 'begun': 7531, 'beegees': 7532, 'expain': 7533, 'pigeon': 7534, 'iw': 7535, 'ashed': 7536, 'soapy': 7537, 'circular': 7538, 'boom': 7539, 'jhess': 7540, 'logging': 7541, 'koolies': 7542, 'coolio': 7543, 'lalalala': 7544, 'accidently': 7545, 'blame': 7546, 'uknow': 7547, 'mon': 7548, 'choking': 7549, 'wehn': 7550, 'splle': 7551, 'thsi': 7552, 'pleasant': 7553, 'peaceful': 7554, 'transation': 7555, 'troublesome': 7556, 'disagreed': 7557, 'lifes': 7558, 'chur': 7559, 'comming': 7560, 'zooland': 7561, 'titlezoo': 7562, 'ines': 7563, 'monment': 7564, 'rip': 7565, 'upgrade': 7566, 'wry': 7567, 'lmafo': 7568, 'joxx': 7569, 'mhmm': 7570, 'felel': 7571, 'uninspried': 7572, 'duuuhhh': 7573, 'resolved': 7574, 'buuurn': 7575, 'troubles': 7576, 'fcukers': 7577, 'expired': 7578, 'whaaatever': 7579, 'promises': 7580, 'flesh': 7581, 'praise': 7582, 'hallelujah': 7583, 'ooosshhh': 7584, 'carton': 7585, 'marlboro': 7586, 'reds': 7587, 'batt': 7588, 'ugh': 7589, 'lmfaoue': 7590, 'gut': 7591, 'whales': 7592, 'larry': 7593, 'ellison': 7594, 'founder': 7595, 'marketing': 7596, 'keri': 7597, 'hilson': 7598, 'smirnof': 7599, 'nuffing': 7600, 'bombard': 7601, 'txting': 7602, 'differnt': 7603, 'salvador': 7604, 'liter': 7605, 'ohs': 7606, 'orry': 7607, 'lolhahahhahahhahhahha': 7608, 'headset': 7609, 'lukys': 7610, 'luvs': 7611, 'ppp': 7612, 'cupcake': 7613, 'earings': 7614, 'absolut': 7615, 'midori': 7616, 'madori': 7617, 'miz': 7618, 'forrealies': 7619, 'reals': 7620, 'mrsflintstone': 7621, 'hysterical': 7622, 'flipping': 7623, 'designated': 7624, 'grandma': 7625, 'onto': 7626, 'watering': 7627, 'marine': 7628, 'pyscho': 7629, 'brougth': 7630, 'againr': 7631, 'tattos': 7632, 'xhao': 7633, 'ji': 7634, 'bu': 7635, 'gi': 7636, 'dow': 7637, 'mor': 7638, 'drumstick': 7639, 'stickin': 7640, 'nymore': 7641, 'sprite': 7642, 'noo': 7643, 'stuipd': 7644, 'steel': 7645, 'ekexkhxiq': 7646, 'siphon': 7647, 'guessing': 7648, 'partier': 7649, 'legion': 7650, 'slice': 7651, 'blurred': 7652, 'hecks': 7653, 'optometrist': 7654, 'mantis': 7655, 'classic': 7656, 'whanau': 7657, 'robbing': 7658, 'jada': 7659, 'pinkett': 7660, 'smith': 7661, 'bullets': 7662, 'gran': 7663, 'turismo': 7664, 'ripped': 7665, 'corvette': 7666, 'netball': 7667, 'stow': 7668, 'asda': 7669, 'homh': 7670, 'ohmh': 7671, 'omhohmmh': 7672, 'mohmo': 7673, 'hmohmoho': 7674, 'mohomh': 7675, 'mhomhomhmoohm': 7676, 'ohmoh': 7677, 'hmohmm': 7678, 'ohmohm': 7679, 'hoh': 7680, 'optus': 7681, 'boost': 7682, 'lmdbo': 7683, 'vegg': 7684, 'bck': 7685, 'surgeon': 7686, 'mexico': 7687, 'whai': 7688, 'bachata': 7689, 'mis': 7690, 'clarissa': 7691, 'abd': 7692, 'tday': 7693, 'walkd': 7694, 'upto': 7695, 'intent': 7696, 'alby': 7697, 'prissy': 7698, 'hsc': 7699, 'civil': 7700, 'prob': 7701, 'canend': 7702, 'refering': 7703, 'invites': 7704, 'jailbroken': 7705, 'bombarding': 7706, 'reast': 7707, 'fellow': 7708, 'wrestle': 7709, 'wendys': 7710, 'brit': 7711, 'supernatural': 7712, 'ghostly': 7713, 'uc': 7714, 'wonnnnn': 7715, 'yrou': 7716, 'cuteeeeeeeeeeeeeeeee': 7717, 'ooosh': 7718, 'gayness': 7719, 'resting': 7720, 'quicker': 7721, 'sickly': 7722, 'opens': 7723, 'phahaha': 7724, 'pepsi': 7725, 'nw': 7726, 'jefgray': 7727, 'psychology': 7728, 'meanings': 7729, 'completly': 7730, 'pronouce': 7731, 'coupon': 7732, 'puppie': 7733, 'hawaiians': 7734, 'ranch': 7735, 'closely': 7736, 'roasted': 7737, 'grand': 7738, 'marnier': 7739, 'served': 7740, 'medley': 7741, 'accompanied': 7742, 'cherry': 7743, 'walnut': 7744, 'sorbet': 7745, 'desse': 7746, 'severe': 7747, 'shake': 7748, 'sheesh': 7749, 'serving': 7750, 'shemar': 7751, 'moore': 7752, 'doubleyouw': 7753, 'scab': 7754, 'mundo': 7755, 'bastard': 7756, 'gor': 7757, 'tanya': 7758, 'updates': 7759, 'mars': 7760, 'india': 7761, 'witha': 7762, 'cucumber': 7763, 'newsr': 7764, 'bailed': 7765, 'whateva': 7766, 'voyeurism': 7767, 'sooooooooooo': 7768, 'soooooooooooooo': 7769, 'fettucini': 7770, 'alfredo': 7771, 'hearty': 7772, 'mask': 7773, 'rickets': 7774, 'dp': 7775, 'personified': 7776, 'storms': 7777, 'mistaflistone': 7778, 'realr': 7779, 'pqiqrnze': 7780, 'beers': 7781, 'coincidence': 7782, 'wheelchair': 7783, 'retardedly': 7784, 'machate': 7785, 'slash': 7786, 'alsways': 7787, 'arrange': 7788, 'decsion': 7789, 'sadest': 7790, 'magpie': 7791, 'quesitons': 7792, 'austraila': 7793, 'trankilla': 7794, 'trankilllllaaa': 7795, 'dept': 7796, 'allreadyyyy': 7797, 'ttyl': 7798, 'diassssss': 7799, 'dancingg': 7800, 'hitlers': 7801, 'mixed': 7802, 'colata': 7803, 'dounkin': 7804, 'appointment': 7805, 'findings': 7806, 'giftcard': 7807, 'bestbuy': 7808, 'sail': 7809, 'titmouse': 7810, 'pearl': 7811, 'salads': 7812, 'spankings': 7813, 'hurting': 7814, 'tyrese': 7815, 'tyree': 7816, 'bfcuu': 7817, 'aus': 7818, 'thorw': 7819, 'boomarangs': 7820, 'sombody': 7821, 'quesiton': 7822, 'wra': 7823, 'rawrwarawraw': 7824, 'awrawr': 7825, 'awraw': 7826, 'rwa': 7827, 'rw': 7828, 'warawrawrawraw': 7829, 'ra': 7830, 'wr': 7831, 'vandalize': 7832, 'vandalized': 7833, 'genic': 7834, 'waa': 7835, 'awsome': 7836, 'perth': 7837, 'airline': 7838, 'ssome': 7839, 'jumper': 7840, 'bwahahahhahhaahhhahhhhhhahaha': 7841, 'boardwalk': 7842, 'mic': 7843, 'donalds': 7844, 'outbackr': 7845, 'reviewed': 7846, 'appeal': 7847, 'violation': 7848, 'target': 7849, 'installing': 7850, 'import': 7851, 'chile': 7852, 'golden': 7853, 'gate': 7854, 'imu': 7855, 'udont': 7856, 'aaradhna': 7857, 'trhough': 7858, 'tends': 7859, 'downfall': 7860, 'betwen': 7861, 'fills': 7862, 'gaps': 7863, 'allthe': 7864, 'reallies': 7865, 'travaling': 7866, 'doller': 7867, 'officer': 7868, 'relaxed': 7869, 'whaadssgoood': 7870, 'whast': 7871, 'fantasia': 7872, 'dislikes': 7873, 'somethings': 7874, 'nerves': 7875, 'qualites': 7876, 'detergent': 7877, 'brings': 7878, 'sexiness': 7879, 'gmacs': 7880, 'waitin': 7881, 'rectangluar': 7882, 'sundays': 7883, 'bumper': 7884, 'peoole': 7885, 'weave': 7886, 'rows': 7887, 'yolanda': 7888, 'americano': 7889, 'dbk': 7890, 'jfmcbh': 7891, 'sjq': 7892, 'lug': 7893, 'stuf': 7894, 'todayr': 7895, 'thass': 7896, 'diaper': 7897, 'sticking': 7898, 'pajama': 7899, 'tor': 7900, 'siht': 7901, 'cows': 7902, 'profession': 7903, 'expectation': 7904, 'floyd': 7905, 'maiden': 7906, 'eureka': 7907, 'rips': 7908, 'widd': 7909, 'identify': 7910, 'junkie': 7911, 'musicjunkie': 7912, 'bookjunkie': 7913, 'modeljunkie': 7914, 'sexfeenjunkie': 7915, 'candyjunkie': 7916, 'betweeners': 7917, 'determine': 7918, 'justttt': 7919, 'restaurants': 7920, 'mums': 7921, 'wheel': 7922, 'pieves': 7923, 'emotional': 7924, 'tires': 7925, 'awake': 7926, 'levi': 7927, 'doning': 7928, 'havein': 7929, 'brekkie': 7930, 'surprises': 7931, 'theatre': 7932, 'realationship': 7933, 'replace': 7934, 'crowded': 7935, 'crashed': 7936, 'peeping': 7937, 'stumble': 7938, 'mailbox': 7939, 'leak': 7940, 'breakkie': 7941, 'takin': 7942, 'priced': 7943, 'possession': 7944, 'sneaky': 7945, 'marines': 7946, 'swiming': 7947, 'fetch': 7948, 'amout': 7949, 'recipe': 7950, 'pos': 7951, 'anywayz': 7952, 'anorexic': 7953, 'usual': 7954, 'snarky': 7955, 'remark': 7956, 'doc': 7957, 'vehical': 7958, 'favoritee': 7959, 'isu': 7960, 'theu': 7961, 'uncommon': 7962, 'persom': 7963, 'entertain': 7964, 'heap': 7965, 'bash': 7966, 'prince': 7967, 'crabby': 7968, 'bossy': 7969, 'hooligans': 7970, 'laughed': 7971, 'visualize': 7972, 'cperfectu': 7973, 'crown': 7974, 'roscommon': 7975, 'clendon': 7976, 'browns': 7977, 'picr': 7978, 'friendlys': 7979, 'drain': 7980, 'magnetic': 7981, 'dominant': 7982, 'fashion': 7983, 'willzie': 7984, 'pushing': 7985, 'nancy': 7986, 'richard': 7987, 'aldington': 7988, 'german': 7989, 'autoban': 7990, 'bicycle': 7991, 'busters': 7992, 'whod': 7993, 'inspired': 7994, 'nets': 7995, 'spamnation': 7996, 'gilr': 7997, 'bk': 7998, 'sighing': 7999, 'gangtser': 8000, 'anywher': 8001, 'sayfor': 8002, 'yousaid': 8003, 'windoes': 8004, 'stereo': 8005, 'useing': 8006, 'hooo': 8007, 'wifi': 8008, 'printer': 8009, 'deactived': 8010, 'purgatory': 8011, 'sailing': 8012, 'stange': 8013, 'orgasim': 8014, 'travelling': 8015, 'warcraft': 8016, 'minimum': 8017, 'wage': 8018, 'upper': 8019, 'michaels': 8020, 'criminal': 8021, 'harsh': 8022, 'bigot': 8023, 'racoon': 8024, 'nggr': 8025, 'shotr': 8026, 'wires': 8027, 'famly': 8028, 'licked': 8029, 'marshmellow': 8030, 'wuddup': 8031, 'gangstaaa': 8032, 'eyez': 8033, 'tryin': 8034, 'wayz': 8035, 'dialled': 8036, 'ausssies': 8037, 'youtubed': 8038, 'idunno': 8039, 'yeps': 8040, 'caipirinha': 8041, 'brazialin': 8042, 'peruvian': 8043, 'speen': 8044, 'mystery': 8045, 'lise': 8046, 'shawtay': 8047, 'yus': 8048, 'sunshiner': 8049, 'grayr': 8050, 'samoa': 8051, 'aitutaki': 8052, 'aunty': 8053, 'booking': 8054, 'occasion': 8055, 'telsa': 8056, 'nudity': 8057, 'shotgun': 8058, 'remedies': 8059, 'reposted': 8060, 'inconvenience': 8061, 'prettiiiiiii': 8062, 'zooooooshay': 8063, 'poppin': 8064, 'frien': 8065, 'payne': 8066, 'biatchh': 8067, 'horner': 8068, 'fallon': 8069, 'brewerton': 8070, 'bumm': 8071, 'chumms': 8072, 'nun': 8073, 'crippled': 8074, 'carrot': 8075, 'taio': 8076, 'crus': 8077, 'kei': 8078, 'fanny': 8079, 'wellington': 8080, 'finkley': 8081, 'marwell': 8082, 'heeloo': 8083, 'hoboish': 8084, 'chloe': 8085, 'confuse': 8086, 'sweetieeeeeeeeee': 8087, 'loling': 8088, 'moose': 8089, 'girraffe': 8090, 'carl': 8091, 'satch': 8092, 'pushed': 8093, 'strop': 8094, 'reference': 8095, 'twenty': 8096, 'squirell': 8097, 'crocodiles': 8098, 'storee': 8099, 'buttons': 8100, 'bumhole': 8101, 'guesswho': 8102, 'ayy': 8103, 'cobwebs': 8104, 'snot': 8105, 'guinea': 8106, 'truee': 8107, 'venuss': 8108, 'kersleyy': 8109, 'jemmmaa': 8110, 'mouldy': 8111, 'nanananaanaaa': 8112, 'fousomes': 8113, 'reproduse': 8114, 'slag': 8115, 'beachh': 8116, 'yn': 8117, 'brava': 8118, 'gawdd': 8119, 'believing': 8120, 'willy': 8121, 'treeeeee': 8122, 'goot': 8123, 'fuuniest': 8124, 'favourtie': 8125, 'px': 8126, 'wearin': 8127, 'dida': 8128, 'funiest': 8129, 'tunidge': 8130, 'rocket': 8131, 'barbeque': 8132, 'yayy': 8133, 'larmaa': 8134, 'bluee': 8135, 'purchas': 8136, 'jamie': 8137, 'cole': 8138, 'moe': 8139, 'dizzee': 8140, 'rascal': 8141, 'flex': 8142, 'copying': 8143, 'pasting': 8144, 'crcodiles': 8145, 'schedule': 8146, 'chickens': 8147, 'hutch': 8148, 'joshh': 8149, 'bruvv': 8150, 'laverlyy': 8151, 'laverly': 8152, 'lovelyy': 8153, 'acaciia': 8154, 'dayssss': 8155, 'holllyyyy': 8156, 'jesuss': 8157, 'knoo': 8158, 'excitteeddd': 8159, 'knoooo': 8160, 'trevors': 8161, 'looovvveee': 8162, 'danng': 8163, 'lovve': 8164, 'puahahhhahhahah': 8165, 'thaattts': 8166, 'cutte': 8167, 'mmeeannn': 8168, 'rented': 8169, 'llama': 8170, 'brooklyn': 8171, 'bbygrl': 8172, 'sowwy': 8173, 'dooo': 8174, 'cr': 8175, 'alt': 8176, 'codes': 8177, 'youz': 8178, 'baybay': 8179, 'geee': 8180, 'compton': 8181, 'infact': 8182, 'stating': 8183, 'kaveens': 8184, 'final': 8185, 'babbbyyy': 8186, 'babygirltwistawayyyyyyy': 8187, 'dtf': 8188, 'callate': 8189, 'boca': 8190, 'chamaco': 8191, 'noodle': 8192, 'coldstone': 8193, 'communication': 8194, 'breakdown': 8195, 'saame': 8196, 'botherd': 8197, 'freshy': 8198, 'jizz': 8199, 'catty': 8200, 'homewrok': 8201, 'marcos': 8202, 'rancho': 8203, 'bernardo': 8204, 'leet': 8205, 'jose': 8206, 'duuuun': 8207, 'eeek': 8208, 'elite': 8209, 'downnn': 8210, 'ez': 8211, 'pepe': 8212, 'feeeeeeeeeeeor': 8213, 'fillin': 8214, 'braahh': 8215, 'yob': 8216, 'gooood': 8217, 'maths': 8218, 'alllll': 8219, 'helop': 8220, 'tanks': 8221, 'applaud': 8222, 'forgetful': 8223, 'suckk': 8224, 'dew': 8225, 'tornament': 8226, 'weeken': 8227, 'nighty': 8228, 'helllllllllllll': 8229, 'lit': 8230, 'hhay': 8231, 'pham': 8232, 'eee': 8233, 'dee': 8234, 'cee': 8235, 'toooday': 8236, 'tinypic': 8237, 'ugwfs': 8238, 'encyclopediadramatica': 8239, 'duckroll': 8240, 'soundcloud': 8241, 'mixessss': 8242, 'rage': 8243, 'urbandictionary': 8244, 'itor': 8245, 'chvhwcog': 8246, 'yqghfknrvcu': 8247, 'uploaded': 8248, 'bioshock': 8249, 'dissapoint': 8250, 'elbowed': 8251, 'defendd': 8252, 'climb': 8253, 'farts': 8254, 'ito': 8255, 'tarad': 8256, 'yaravvi': 8257, 'pickture': 8258, 'todayy': 8259, 'whereverz': 8260, 'travelin': 8261, 'wuvs': 8262, 'woozer': 8263, 'madam': 8264, 'afterschool': 8265, 'hills': 8266, 'approving': 8267, 'mickkk': 8268, 'imissyou': 8269, 'implying': 8270, 'sub': 8271, 'premier': 8272, 'mikayla': 8273, 'diferant': 8274, 'legend': 8275, 'makesr': 8276, 'yaddadamean': 8277, 'mj': 8278, 'glasgow': 8279, 'jade': 8280, 'seaworld': 8281, 'lovewhenpeopledon': 8282, 'tlistentoanthonygreen': 8283, 'elsinore': 8284, 'mkay': 8285, 'leads': 8286, 'monica': 8287, 'jj': 8288, 'dakotahchore': 8289, 'swisher': 8290, 'foolio': 8291, 'doenst': 8292, 'climbeded': 8293, 'ahahah': 8294, 'nawht': 8295, 'nawp': 8296, 'exams': 8297, 'bround': 8298, 'sucking': 8299, 'nigger': 8300, 'assfuck': 8301, 'liddol': 8302, 'tengo': 8303, 'noooooo': 8304, 'pendejo': 8305, 'beibie': 8306, 'escondido': 8307, 'charter': 8308, 'ohtay': 8309, 'perfer': 8310, 'milllion': 8311, 'presence': 8312, 'pshshsh': 8313, 'qtbby': 8314, 'shaqueefa': 8315, 'sen': 8316, 'dentist': 8317, 'witch': 8318, 'hauser': 8319, 'hoffmisster': 8320, 'sixth': 8321, 'sweeeeet': 8322, 'econ': 8323, 'steitz': 8324, 'thankyou': 8325, 'hoework': 8326, 'adrian': 8327, 'celly': 8328, 'amaze': 8329, 'victorr': 8330, 'helleww': 8331, 'victorvictorvictor': 8332, 'forsure': 8333, 'harold': 8334, 'kumar': 8335, 'sweeper': 8336, 'wel': 8337, 'exes': 8338, 'boyd': 8339, 'huhh': 8340, 'avlarios': 8341, 'upside': 8342, 'hw': 8343, 'led': 8344, 'flava': 8345, 'flavahh': 8346, 'bettah': 8347, 'oizza': 8348, 'pepperoni': 8349, 'rub': 8350, 'sweaet': 8351, 'madre': 8352, 'al': 8353, 'hoy': 8354, 'safari': 8355, 'glide': 8356, 'extaxy': 8357, 'xoxoashleyxo': 8358, 'threats': 8359, 'funkin': 8360, 'neil': 8361, 'harris': 8362, 'noobs': 8363, 'capability': 8364, 'tuna': 8365, 'creepiest': 8366, 'shopped': 8367, 'definetally': 8368, 'swearin': 8369, 'yuss': 8370, 'danit': 8371, 'paulina': 8372, 'bretter': 8373, 'mockingbirds': 8374, 'homeboy': 8375, 'ashelyy': 8376, 'ashhh': 8377, 'mmhkayy': 8378, 'incredible': 8379, 'banah': 8380, 'yalls': 8381, 'buisness': 8382, 'multiverse': 8383, 'reflect': 8384, 'haleigh': 8385, 'fineee': 8386, 'misty': 8387, 'geeees': 8388, 'oregon': 8389, 'lordy': 8390, 'cuttin': 8391, 'weirrrrrrd': 8392, 'sureeee': 8393, 'isssss': 8394, 'iiiby': 8395, 'np': 8396, 'convos': 8397, 'hotlinks': 8398, 'radical': 8399, 'rhyming': 8400, 'hayden': 8401, 'hippo': 8402, 'twizzler': 8403, 'experiment': 8404, 'ary': 8405, 'flew': 8406, 'exploded': 8407, 'causing': 8408, 'original': 8409, 'mcintyre': 8410, 'jenna': 8411, 'jerrrk': 8412, 'coffey': 8413, 'edline': 8414, 'doggie': 8415, 'plannd': 8416, 'selling': 8417, 'nows': 8418, 'xxdd': 8419, 'ohk': 8420, 'thes': 8421, 'sexsexsexsexsex': 8422, 'moneymuffins': 8423, 'cloudless': 8424, 'climes': 8425, 'starry': 8426, 'aspect': 8427, 'megatron': 8428, 'sloth': 8429, 'amazingness': 8430, 'screy': 8431, 'shitload': 8432, 'attacking': 8433, 'scarier': 8434, 'spiderss': 8435, 'undersea': 8436, 'askkk': 8437, 'chili': 8438, 'jell': 8439, 'peirceddd': 8440, 'whata': 8441, 'chilli': 8442, 'wompwomp': 8443, 'freakiest': 8444, 'widdle': 8445, 'bolo': 8446, 'fity': 8447, 'hammered': 8448, 'fromspring': 8449, 'tehehehehe': 8450, 'knee': 8451, 'caan': 8452, 'dayummn': 8453, 'cookieman': 8454, 'tops': 8455, 'dusty': 8456, 'spams': 8457, 'ron': 8458, 'jks': 8459, 'jackman': 8460, 'youuuuuuuuuuuuuuu': 8461, 'loveyou': 8462, 'simoaaas': 8463, 'ifly': 8464, 'simoaaaaa': 8465, 'ilovesimoa': 8466, 'ranga': 8467, 'youuuuuuuuuuuuuuuuuuuuuuuuuuuuuuuu': 8468, 'ommgsh': 8469, 'amazingggg': 8470, 'ausie': 8471, 'wifeyyyyyyyyyyyyyyyyyyyyyyyyyyyyyyyy': 8472, 'justsayinggg': 8473, 'gorgoues': 8474, 'tats': 8475, 'ohhtayy': 8476, 'carlie': 8477, 'happend': 8478, 'byeas': 8479, 'correct': 8480, 'rocked': 8481, 'soooooooooooooooooooooooooooooo': 8482, 'guyhigoiph': 8483, 'ijrtlgos': 8484, 'irhjsbro': 8485, 'jtelkmg': 8486, 'bhgpvuojknmav': 8487, 'sckj': 8488, 'ghepiryuvomjkf': 8489, 'crhworugfwuhkcbsefb': 8490, 'etty': 8491, 'thinki': 8492, 'clap': 8493, 'becham': 8494, 'transporter': 8495, 'lovie': 8496, 'dovie': 8497, 'papa': 8498, 'jake': 8499, 'chelsey': 8500, 'spigler': 8501, 'issue': 8502, 'gray': 8503, 'hilgartner': 8504, 'disengaged': 8505, 'manager': 8506, 'comfort': 8507, 'reacted': 8508, 'admitted': 8509, 'piper': 8510, 'muddled': 8511, 'stalked': 8512, 'psycho': 8513, 'increasingly': 8514, 'battle': 8515, 'tucker': 8516, 'addition': 8517, 'recommendations': 8518, 'extracurricular': 8519, 'generations': 8520, 'discuss': 8521, 'aggony': 8522, 'ahem': 8523, 'superglues': 8524, 'stinging': 8525, 'helmet': 8526, 'merrrrr': 8527, 'phrases': 8528, 'grandmother': 8529, 'prone': 8530, 'emphasized': 8531, 'preach': 8532, 'responsive': 8533, 'choosing': 8534, 'facial': 8535, 'marbles': 8536, 'marble': 8537, 'cuddler': 8538, 'procrastinator': 8539, 'squeamish': 8540, 'task': 8541, 'tennesee': 8542, 'baker': 8543, 'equally': 8544, 'friction': 8545, 'negligible': 8546, 'velocity': 8547, 'improved': 8548, 'attempt': 8549, 'gong': 8550, 'odor': 8551, 'keffy': 8552, 'sindi': 8553, 'beaut': 8554, 'mammals': 8555, 'swollen': 8556, 'suggest': 8557, 'slayer': 8558, 'bunnies': 8559, 'hippos': 8560, 'insanity': 8561, 'bulletproofcupid': 8562, 'drawing': 8563, 'cornered': 8564, 'hints': 8565, 'musical': 8566, 'instruments': 8567, 'drums': 8568, 'fags': 8569, 'dim': 8570, 'cane': 8571, 'cannae': 8572, 'cheddar': 8573, 'almonds': 8574, 'crunchy': 8575, 'orrrr': 8576, 'lnk': 8577, 'perfecto': 8578, 'drunken': 8579, 'interviews': 8580, 'intimate': 8581, 'airbags': 8582, 'ellie': 8583, 'goulding': 8584, 'supporting': 8585, 'ceremony': 8586, 'sand': 8587, 'frogs': 8588, 'reporters': 8589, 'mainly': 8590, 'garry': 8591, 'baldis': 8592, 'crackers': 8593, 'ceral': 8594, 'lousie': 8595, 'superstitions': 8596, 'floating': 8597, 'rib': 8598, 'caramel': 8599, 'granite': 8600, 'pickles': 8601, 'plants': 8602, 'rush': 8603, 'lavender': 8604, 'turtles': 8605, 'handwriting': 8606, 'independence': 8607, 'massages': 8608, 'sketch': 8609, 'kexy': 8610, 'seeker': 8611, 'tonsils': 8612, 'pussyr': 8613, 'lessening': 8614, 'premiere': 8615, 'dolphin': 8616, 'wolf': 8617, 'lion': 8618, 'advert': 8619, 'van': 8620, 'embrace': 8621, 'naughtyness': 8622, 'indie': 8623, 'thai': 8624, 'therapist': 8625, 'weights': 8626, 'tattooist': 8627, 'farting': 8628, 'burping': 8629, 'pendant': 8630, 'settle': 8631, 'heater': 8632, 'recycling': 8633, 'fluff': 8634, 'focus': 8635, 'focused': 8636, 'italy': 8637, 'le': 8638, 'drum': 8639, 'rawrrrr': 8640, 'amazingggggg': 8641, 'angst': 8642, 'roof': 8643, 'aloha': 8644, 'farther': 8645, 'dramatic': 8646, 'extensions': 8647, 'weirdness': 8648, 'earthy': 8649, 'tones': 8650, 'yourssss': 8651, 'european': 8652, 'accents': 8653, 'mwahaha': 8654, 'diabolical': 8655, 'clowns': 8656, 'acrobats': 8657, 'klutz': 8658, 'marrowsky': 8659, 'reversal': 8660, 'impediment': 8661, 'crow': 8662, 'lovedddddddddd': 8663, 'edgar': 8664, 'allan': 8665, 'poe': 8666, 'tortued': 8667, 'disturbing': 8668, 'shopper': 8669, 'vaction': 8670, 'british': 8671, 'youth': 8672, 'pond': 8673, 'rav': 8674, 'haiiiiii': 8675, 'cuffs': 8676, 'ropes': 8677, 'collections': 8678, 'canoe': 8679, 'indoor': 8680, 'martial': 8681, 'arts': 8682, 'tae': 8683, 'kwondo': 8684, 'stripclub': 8685, 'fancied': 8686, 'hetero': 8687, 'imagined': 8688, 'hypothetical': 8689, 'stayed': 8690, 'operation': 8691, 'unconscious': 8692, 'hetrosexual': 8693, 'experiances': 8694, 'distant': 8695, 'helloooooo': 8696, 'prettiness': 8697, 'havs': 8698, 'unattractiveness': 8699, 'shifts': 8700, 'lottt': 8701, 'congratz': 8702, 'entertained': 8703, 'delusional': 8704, 'likeing': 8705, 'silent': 8706, 'aside': 8707, 'pyjamas': 8708, 'surfed': 8709, 'turfed': 8710, 'ref': 8711, 'ts': 8712, 'zjb': 8713, 'qeuxub': 8714, 'memorizing': 8715, 'vinnie': 8716, 'jones': 8717, 'condemned': 8718, 'snails': 8719, 'advernturous': 8720, 'microwave': 8721, 'breaths': 8722, 'unoriginal': 8723, 'geese': 8724, 'alll': 8725, 'preferably': 8726, 'parkbench': 8727, 'bruise': 8728, 'sneezed': 8729, 'yawned': 8730, 'cryed': 8731, 'borreeeddd': 8732, 'bham': 8733, 'effily': 8734, 'combo': 8735, 'btu': 8736, 'poping': 8737, 'loss': 8738, 'loveeeeee': 8739, 'chipping': 8740, 'burgers': 8741, 'phase': 8742, 'pratically': 8743, 'horozontally': 8744, 'ceebs': 8745, 'stiches': 8746, 'external': 8747, 'planing': 8748, 'loaaaaaads': 8749, 'squeaky': 8750, 'brilliant': 8751, 'fr': 8752, 'fitch': 8753, 'keeeps': 8754, 'xxxxx': 8755, 'baptized': 8756, 'higher': 8757, 'variations': 8758, 'mixtures': 8759, 'foreverrrr': 8760, 'freakishly': 8761, 'soles': 8762, 'useless': 8763, 'appalled': 8764, 'wastemen': 8765, 'elaborate': 8766, 'locks': 8767, 'failures': 8768, 'silverware': 8769, 'mute': 8770, 'swears': 8771, 'synchronized': 8772, 'drowns': 8773, 'drown': 8774, 'shell': 8775, 'audience': 8776, 'dawn': 8777, 'dusk': 8778, 'tgi': 8779, 'fridays': 8780, 'leprechaun': 8781, 'zero': 8782, 'poland': 8783, 'poles': 8784, 'pinocchio': 8785, 'cmy': 8786, 'growu': 8787, 'quitters': 8788, 'winners': 8789, 'expiration': 8790, 'superglue': 8791, 'hotlines': 8792, 'precipice': 8793, 'dersires': 8794, 'bride': 8795, 'caller': 8796, 'owing': 8797, 'favs': 8798, 'shitsu': 8799, 'hypochondriac': 8800, 'genie': 8801, 'grant': 8802, 'heroine': 8803, 'theif': 8804, 'bisexual': 8805, 'ipoding': 8806, 'eeeek': 8807, 'motorbikes': 8808, 'mopeds': 8809, 'learnt': 8810, 'independent': 8811, 'curiosity': 8812, 'bishop': 8813, 'crys': 8814, 'carte': 8815, 'dor': 8816, 'eternal': 8817, 'secluded': 8818, 'escape': 8819, 'poli': 8820, 'tics': 8821, 'bloodsucking': 8822, 'creatures': 8823, 'worthwhile': 8824, 'satisfying': 8825, 'improve': 8826, 'je': 8827, 'aime': 8828, 'hypothetically': 8829, 'bucket': 8830, 'litter': 8831, 'uncoordinatedness': 8832, 'boundaries': 8833, 'bake': 8834, 'lobster': 8835, 'pleaase': 8836, 'replied': 8837, 'cotton': 8838, 'haah': 8839, 'censorship': 8840, 'loveless': 8841, 'prescott': 8842, 'lovvvveeeee': 8843, 'sooner': 8844, 'associates': 8845, 'bachelors': 8846, 'studies': 8847, 'ers': 8848, 'cancel': 8849, 'lists': 8850, 'margarita': 8851, 'pina': 8852, 'colada': 8853, 'daiquiri': 8854, 'marmite': 8855, 'roast': 8856, 'cinnamon': 8857, 'fruity': 8858, 'scents': 8859, 'perhaps': 8860, 'cuddling': 8861, 'wiggle': 8862, 'traditionally': 8863, 'styled': 8864, 'rulee': 8865, 'observer': 8866, 'doer': 8867, 'dirtiness': 8868, 'influential': 8869, 'soooooooo': 8870, 'brokennnn': 8871, 'ahhhhh': 8872, 'naah': 8873, 'keenest': 8874, 'rampant': 8875, 'combination': 8876, 'spashley': 8877, 'narr': 8878, 'sharing': 8879, 'louiseeee': 8880, 'narrr': 8881, 'bracelet': 8882, 'erm': 8883, 'crusty': 8884, 'stress': 8885, 'mcvitee': 8886, 'eligible': 8887, 'vat': 8888, 'wikipedia': 8889, 'wiki': 8890, 'travels': 8891, 'nessercelly': 8892, 'withholding': 8893, 'november': 8894, 'pregnancies': 8895, 'quietly': 8896, 'mumbled': 8897, 'protect': 8898, 'tori': 8899, 'ewwww': 8900, 'certainly': 8901, 'organized': 8902, 'sac': 8903, 'riddles': 8904, 'duno': 8905, 'lemoanade': 8906, 'fixing': 8907, 'summut': 8908, 'yuor': 8909, 'continual': 8910, 'annoyance': 8911, 'slovenian': 8912, 'skier': 8913, 'winning': 8914, 'blankets': 8915, 'protein': 8916, 'fiber': 8917, 'ferret': 8918, 'wtfs': 8919, 'flabbergasting': 8920, 'wowwwww': 8921, 'reptiles': 8922, 'amphibians': 8923, 'transparent': 8924, 'russia': 8925, 'sweden': 8926, 'finland': 8927, 'cuddles': 8928, 'beaumont': 8929, 'leys': 8930, 'sleepin': 8931, 'whores': 8932, 'psychologist': 8933, 'hasnt': 8934, 'greece': 8935, 'rome': 8936, 'statues': 8937, 'cursing': 8938, 'klutsness': 8939, 'ramble': 8940, 'mumble': 8941, 'picked': 8942, 'bothered': 8943, 'linguine': 8944, 'dot': 8945, 'bummm': 8946, 'reserved': 8947, 'amo': 8948, 'ourageous': 8949, 'tequila': 8950, 'reallyyyyy': 8951, 'accompanying': 8952, 'descent': 8953, 'rumored': 8954, 'newton': 8955, 'region': 8956, 'weirdddddddd': 8957, 'notebook': 8958, 'scooby': 8959, 'fluffy': 8960, 'bore': 8961, 'juicy': 8962, 'enemies': 8963, 'rife': 8964, 'twig': 8965, 'deside': 8966, 'drip': 8967, 'limping': 8968, 'leaning': 8969, 'curling': 8970, 'watchin': 8971, 'interview': 8972, 'afterellen': 8973, 'gav': 8974, 'nxt': 8975, 'nevers': 8976, 'addictions': 8977, 'endearment': 8978, 'ultimate': 8979, 'ballerinas': 8980, 'anxious': 8981, 'youself': 8982, 'stroking': 8983, 'fully': 8984, 'jc': 8985, 'excites': 8986, 'happends': 8987, 'inspiration': 8988, 'currency': 8989, 'essence': 8990, 'japanese': 8991, 'attribute': 8992, 'expletive': 8993, 'kazakhstan': 8994, 'proposal': 8995, 'importance': 8996, 'sets': 8997, 'grosses': 8998, 'creeps': 8999, 'creeped': 9000, 'mountain': 9001, 'attracted': 9002, 'burger': 9003, 'tornado': 9004, 'murderer': 9005, 'epically': 9006, 'purchase': 9007, 'strangest': 9008, 'horses': 9009, 'glory': 9010, 'cloudy': 9011, 'sterilize': 9012, 'infecting': 9013, 'oilsssss': 9014, 'nursery': 9015, 'rhyme': 9016, 'humpty': 9017, 'dumpty': 9018, 'brooke': 9019, 'whereu': 9020, 'waldo': 9021, 'massaged': 9022, 'compass': 9023, 'rooting': 9024, 'aspire': 9025, 'recycled': 9026, 'whuts': 9027, 'mcnuggets': 9028, 'softballs': 9029, 'flotation': 9030, 'devices': 9031, 'parachutes': 9032, 'seeded': 9033, 'boned': 9034, 'fillet': 9035, 'speedometers': 9036, 'legally': 9037, 'emptiest': 9038, 'afterwards': 9039, 'westu': 9040, 'eastu': 9041, 'hockey': 9042, 'anonymity': 9043, 'trickled': 9044, 'centuries': 9045, 'dyslexiau': 9046, 'charlie': 9047, 'charles': 9048, 'electrical': 9049, 'inlet': 9050, 'greenland': 9051, 'iceland': 9052, 'tourist': 9053, 'dealers': 9054, 'software': 9055, 'developers': 9056, 'clients': 9057, 'users': 9058, 'abbreviationu': 9059, 'reveal': 9060, 'sadly': 9061, 'everyway': 9062, 'pouring': 9063, 'dribble': 9064, 'mdma': 9065, 'buttonu': 9066, 'pressed': 9067, 'tidy': 9068, 'organizing': 9069, 'devil': 9070, 'offensive': 9071, 'skeleton': 9072, 'luge': 9073, 'buscuit': 9074, 'peppers': 9075, 'adele': 9076, 'chief': 9077, 'giver': 9078, 'yeaaa': 9079, 'carried': 9080, 'yeaah': 9081, 'explaining': 9082, 'focusing': 9083, 'technologies': 9084, 'rufus': 9085, 'myne': 9086, 'jan': 9087, 'mingin': 9088, 'suks': 9089, 'rl': 9090, 'overwhelmed': 9091, 'underwhelmed': 9092, 'whelmed': 9093, 'mankind': 9094, 'span': 9095, 'premise': 9096, 'ought': 9097, 'wednesday': 9098, 'yummmm': 9099, 'resurrect': 9100, 'welly': 9101, 'mwahahaha': 9102, 'sweeter': 9103, 'certificates': 9104, 'masters': 9105, 'phd': 9106, 'doctoral': 9107, 'grad': 9108, 'newest': 9109, 'hunn': 9110, 'gonnaa': 9111, 'freshman': 9112, 'riiiiiii': 9113, 'somtime': 9114, 'lifeee': 9115, 'thaaat': 9116, 'knoeee': 9117, 'thuhhh': 9118, 'kenna': 9119, 'kaay': 9120, 'alisa': 9121, 'fuhk': 9122, 'tlked': 9123, 'marcus': 9124, 'letss': 9125, 'alrght': 9126, 'fiona': 9127, 'thoo': 9128, 'alwyss': 9129, 'imy': 9130, 'toung': 9131, 'whhhy': 9132, 'preettieee': 9133, 'mb': 9134, 'throught': 9135, 'marielena': 9136, 'brian': 9137, 'ajula': 9138, 'herrr': 9139, 'cuteee': 9140, 'bryans': 9141, 'uglyyy': 9142, 'cj': 9143, 'yewwww': 9144, 'thruuuuu': 9145, 'dayummmmmmm': 9146, 'ssms': 9147, 'kare': 9148, 'haterszz': 9149, 'eli': 9150, 'giovanni': 9151, 'formsprinng': 9152, 'juust': 9153, 'lookinnq': 9154, 'wonderinnq': 9155, 'abouut': 9156, 'anywaays': 9157, 'qorqeous': 9158, 'byee': 9159, 'aujala': 9160, 'jessicaaa': 9161, 'dem': 9162, 'damnnnnnnn': 9163, 'kumin': 9164, 'noesha': 9165, 'heared': 9166, 'qotta': 9167, 'hikie': 9168, 'lolll': 9169, 'aujalaaaaa': 9170, 'aujalaa': 9171, 'dixonn': 9172, 'yuuhhh': 9173, 'shuld': 9174, 'babee': 9175, 'todayyy': 9176, 'iiii': 9177, 'luvvv': 9178, 'yuhhhh': 9179, 'rainbowxz': 9180, 'iloveyouh': 9181, 'union': 9182, 'hall': 9183, 'weneva': 9184, 'afta': 9185, 'slump': 9186, 'tah': 9187, 'brahh': 9188, 'mite': 9189, 'buhh': 9190, 'prettie': 9191, 'omaru': 9192, 'bwt': 9193, 'thnx': 9194, 'kee': 9195, 'jayyy': 9196, 'finer': 9197, 'dik': 9198, 'mexiacn': 9199, 'hayleysanders': 9200, 'na': 9201, 'finna': 9202, 'nm': 9203, 'ceejay': 9204, 'becausee': 9205, 'illl': 9206, 'happpy': 9207, 'lmfaooooo': 9208, 'kr': 9209, 'ugle': 9210, 'pumper': 9211, 'stroker': 9212, 'glades': 9213, 'pussyyy': 9214, 'starburst': 9215, 'ashlie': 9216, 'cuhhh': 9217, 'kk': 9218, 'ilu': 9219, 'jasmin': 9220, 'glen': 9221, 'russell': 9222, 'seexy': 9223, 'hangs': 9224, 'evelyn': 9225, 'alwayz': 9226, 'reaellie': 9227, 'soooooooooooooooooooooooooooooooo': 9228, 'ura': 9229, 'getta': 9230, 'watsss': 9231, 'wazzup': 9232, 'favorit': 9233, 'whut': 9234, 'namer': 9235, 'fuckinq': 9236, 'everypne': 9237, 'qosh': 9238, 'suchho': 9239, 'liken': 9240, 'bryun': 9241, 'kuszinn': 9242, 'kus': 9243, 'dooooo': 9244, 'nottt': 9245, 'gowd': 9246, 'oviously': 9247, 'iloveyouhh': 9248, 'cristal': 9249, 'wyte': 9250, 'teef': 9251, 'kising': 9252, 'brianaa': 9253, 'candis': 9254, 'preddy': 9255, 'tina': 9256, 'encantan': 9257, 'imxta': 9258, 'digan': 9259, 'intereso': 9260, 'broma': 9261, 'serio': 9262, 'muchas': 9263, 'seras': 9264, 'esos': 9265, 'grandtheftaidan': 9266, 'lsvcap': 9267, 'muy': 9268, 'bn': 9269, 'aver': 9270, 'comida': 9271, 'favorita': 9272, 'pero': 9273, 'tipo': 9274, 'chico': 9275, 'anda': 9276, 'varias': 9277, 'xq': 9278, 'asi': 9279, 'aca': 9280, 'realmente': 9281, 'desagradables': 9282, 'yyyyyy': 9283, 'blanks': 9284, 'hora': 9285, 'duermes': 9286, 'aaaa': 9287, 'amidst': 9288, 'flashing': 9289, 'fame': 9290, 'amiix': 9291, 'tino': 9292, 'coury': 9293, 'mailman': 9294, 'getoff': 9295, 'artista': 9296, 'favorito': 9297, 'sed': 9298, 'badromance': 9299, 'sadddd': 9300, 'uuu': 9301, 'besar': 9302, 'bobotee': 9303, 'cuente': 9304, 'paige': 9305, 'pasion': 9306, 'considr': 9307, 'hazel': 9308, 'pp': 9309, 'ciudad': 9310, 'vives': 9311, 'tokio': 9312, 'ssoo': 9313, 'bryanbiebz': 9314, 'gahaha': 9315, 'nightynight': 9316, 'stuffffffff': 9317, 'goodnite': 9318, 'irias': 9319, 'del': 9320, 'pais': 9321, 'bod': 9322, 'jaykay': 9323, 'lmaaaaao': 9324, 'noc': 9325, 'porq': 9326, 'fue': 9327, 'dos': 9328, 'veces': 9329, 'pregunta': 9330, 'olvidalo': 9331, 'hai': 9332, 'clamber': 9333, 'wyyd': 9334, 'supposidly': 9335, 'heloooo': 9336, 'stufff': 9337, 'herlooo': 9338, 'buddeh': 9339, 'tounge': 9340, 'hiya': 9341, 'biebers': 9342, 'loco': 9343, 'holaaa': 9344, 'andas': 9345, 'holaaaa': 9346, 'jajaja': 9347, 'todo': 9348, 'bienn': 9349, 'mauriceeeeeeeeeeeeeeeeeeeeee': 9350, 'immboreddd': 9351, 'larissaweber': 9352, 'vu': 9353, 'lcdo': 9354, 'euiic': 9355, 'mbxfxhs': 9356, 'yzeyl': 9357, 'zjj': 9358, 'qtgjs': 9359, 'looooove': 9360, 'hayley': 9361, 'backrouuund': 9362, 'owner': 9363, 'looooool': 9364, 'spaz': 9365, 'wooonder': 9366, 'proposing': 9367, 'twita': 9368, 'forver': 9369, 'timberlake': 9370, 'littlemonster': 9371, 'babey': 9372, 'inappropiate': 9373, 'brookes': 9374, 'whatya': 9375, 'somthing': 9376, 'jajajaja': 9377, 'niu': 9378, 'itooooooooooooo': 9379, 'salio': 9380, 'alborotadito': 9381, 'jajajajaja': 9382, 'colombiano': 9383, 'gringo': 9384, 'biebs': 9385, 'calor': 9386, 'shet': 9387, 'lmaaaaaaao': 9388, 'gooooood': 9389, 'esta': 9390, 'bien': 9391, 'buen': 9392, 'punto': 9393, 'optionr': 9394, 'buddie': 9395, 'dejas': 9396, 'verte': 9397, 'desnudo': 9398, 'camara': 9399, 'toooooooo': 9400, 'mmkay': 9401, 'paws': 9402, 'puedo': 9403, 'hablar': 9404, 'espanol': 9405, 'ryan': 9406, 'tierney': 9407, 'drake': 9408, 'kindda': 9409, 'oout': 9410, 'hhahaaa': 9411, 'genital': 9412, 'warts': 9413, 'mauricio': 9414, 'okie': 9415, 'dokie': 9416, 'okiiiiiiiiiii': 9417, 'insted': 9418, 'spamin': 9419, 'oooooh': 9420, 'ooooop': 9421, 'wowowowowowowowowowowowowoowowowoowowoowow': 9422, 'osea': 9423, 'eyebrow': 9424, 'poder': 9425, 'ser': 9426, 'feliz': 9427, 'necesita': 9428, 'pleassee': 9429, 'comee': 9430, 'por': 9431, 'hablas': 9432, 'siempre': 9433, 'ingles': 9434, 'espau': 9435, 'ol': 9436, 'porke': 9437, 'pppppppppppppppppppppplease': 9438, 'teeeeeeeeeeeeeeeeeeeell': 9439, 'meeeeeeeeeeeeeee': 9440, 'pssshhh': 9441, 'familia': 9442, 'tus': 9443, 'tweets': 9444, 'piensa': 9445, 'este': 9446, 'responde': 9447, 'vrd': 9448, 'salvaje': 9449, 'romantico': 9450, 'shh': 9451, 'jkjk': 9452, 'hyper': 9453, 'tener': 9454, 'haces': 9455, 'pudiera': 9456, 'realidad': 9457, 'deseo': 9458, 'seria': 9459, 'tubieras': 9460, 'cuerpo': 9461, 'quien': 9462, 'knocks': 9463, 'tommorow': 9464, 'sureeeeeeee': 9465, 'koid': 9466, 'py': 9467, 'bjffcubu': 9468, 'paparazzichina': 9469, 'fancies': 9470, 'hambre': 9471, 'comer': 9472, 'xdddd': 9473, 'noimnotsinglebutistillwannaflirtwithyoubutjustdon': 9474, 'ttellmygirlfriend': 9475, 'bfcual': 9476, 'cosa': 9477, 'divertida': 9478, 'hecho': 9479, 'vacaciones': 9480, 'panic': 9481, 'uuuuuh': 9482, 'huhhhhhh': 9483, 'wer': 9484, 'erica': 9485, 'itsericababes': 9486, 'weres': 9487, 'wot': 9488, 'georgraphy': 9489, 'hahahhahah': 9490, 'biebersbaby': 9491, 'digo': 9492, 'justinbieber': 9493, 'precious': 9494, 'sile': 9495, 'proffesion': 9496, 'frend': 9497, 'depend': 9498, 'misterr': 9499, 'beginin': 9500, 'frist': 9501, 'mexicans': 9502, 'fulll': 9503, 'mud': 9504, 'eyeballs': 9505, 'pffttt': 9506, 'missmcj': 9507, 'xoxoxoxoxoxoxoxoxoxoxoxoxoxoxoxoxoxoxoxoxoxoxoxoxr': 9508, 'xoxoxoxoxoxoxoxoxoxoxoxoxoxoxoxoxoxor': 9509, 'interesa': 9510, 'curiosita': 9511, 'seduced': 9512, 'yeaaaaaah': 9513, 'thnks': 9514, 'teeheehee': 9515, 'wed': 9516, 'sooooooooooooooooooooooooooooooooooooo': 9517, 'wod': 9518, 'whyyy': 9519, 'obscure': 9520, 'compound': 9521, 'pyrophosphite': 9522, 'source': 9523, 'discovery': 9524, 'nears': 9525, 'quarter': 9526, 'sacrifices': 9527, 'trap': 9528, 'confession': 9529, 'gfs': 9530, 'veggies': 9531, 'dealer': 9532, 'approved': 9533, 'jammies': 9534, 'chinesse': 9535, 'digestive': 9536, 'digest': 9537, 'crazyness': 9538, 'agony': 9539, 'pb': 9540, 'finds': 9541, 'recalls': 9542, 'unknowingly': 9543, 'ingredients': 9544, 'chapman': 9545, 'spies': 9546, 'sheet': 9547, 'quisiera': 9548, 'preguntarle': 9549, 'motiva': 9550, 'despertarse': 9551, 'cada': 9552, 'maana': 9553, 'seguir': 9554, 'acaban': 9555, 'morgankayyfersure': 9556, 'britain': 9557, 'confirms': 9558, 'jets': 9559, 'trails': 9560, 'mediate': 9561, 'ryms': 9562, 'facehookers': 9563, 'maze': 9564, 'solved': 9565, 'alrighty': 9566, 'fiancee': 9567, 'sounded': 9568, 'annnnnnnnnnnnnd': 9569, 'crumble': 9570, 'purposefully': 9571, 'careers': 9572, 'smaller': 9573, 'convienience': 9574, 'pallachecks': 9575, 'eater': 9576, 'gymnatics': 9577, 'premarital': 9578, 'isnu': 9579, 'possibilities': 9580, 'belief': 9581, 'occurring': 9582, 'overweight': 9583, 'wasting': 9584, 'semester': 9585, 'upbeat': 9586, 'worrisome': 9587, 'agencies': 9588, 'arrrugh': 9589, 'flys': 9590, 'ed': 9591, 'goood': 9592, 'cummin': 9593, 'batmobile': 9594, 'axe': 9595, 'spice': 9596, 'bedtime': 9597, 'underestimated': 9598, 'bp': 9599, 'fund': 9600, 'embattled': 9601, 'sufficient': 9602, 'regualr': 9603, 'waiter': 9604, 'waitress': 9605, 'injure': 9606, 'orientations': 9607, 'accepting': 9608, 'peopleu': 9609, 'differences': 9610, 'portuguese': 9611, 'suceed': 9612, 'captainthrash': 9613, 'rascals': 9614, 'stooges': 9615, 'hotr': 9616, 'chosen': 9617, 'pricey': 9618, 'restraunt': 9619, 'pausing': 9620, 'computered': 9621, 'tonights': 9622, 'notify': 9623, 'desbribe': 9624, 'discounts': 9625, 'zoobooks': 9626, 'neopets': 9627, 'adventures': 9628, 'philly': 9629, 'greeks': 9630, 'oily': 9631, 'financial': 9632, 'obligation': 9633, 'shutter': 9634, 'isit': 9635, 'discussion': 9636, 'fonder': 9637, 'independance': 9638, 'sweats': 9639, 'racial': 9640, 'chattin': 9641, 'smokee': 9642, 'pill': 9643, 'consiquences': 9644, 'teenage': 9645, 'conspiracy': 9646, 'theories': 9647, 'homoesexuality': 9648, 'abductions': 9649, 'tactic': 9650, 'lochness': 9651, 'creator': 9652, 'canu': 9653, 'tiresome': 9654, 'funerals': 9655, 'exercises': 9656, 'meditation': 9657, 'drinked': 9658, 'constraint': 9659, 'hiking': 9660, 'elmo': 9661, 'sticker': 9662, 'lamebook': 9663, 'postsecret': 9664, 'silently': 9665, 'billboards': 9666, 'christians': 9667, 'athletes': 9668, 'musicians': 9669, 'actors': 9670, 'harm': 9671, 'factors': 9672, 'equal': 9673, 'paternity': 9674, 'maternity': 9675, 'caged': 9676, 'habitat': 9677, 'among': 9678, 'behavioral': 9679, 'taxation': 9680, 'taxed': 9681, 'sorts': 9682, 'recruit': 9683, 'soldiers': 9684, 'benefits': 9685, 'downfalls': 9686, 'endearing': 9687, 'sensuous': 9688, 'affectionate': 9689, 'cloying': 9690, 'prejudiced': 9691, 'biased': 9692, 'methodology': 9693, 'optimization': 9694, 'gamble': 9695, 'perverted': 9696, 'hairstyles': 9697, 'hairstyle': 9698, 'mushroom': 9699, 'roomy': 9700, 'extent': 9701, 'sized': 9702, 'addictive': 9703, 'innie': 9704, 'outtie': 9705, 'gardening': 9706, 'grazing': 9707, 'hayfever': 9708, 'investigate': 9709, 'alzhiemer': 9710, 'patients': 9711, 'pertains': 9712, 'dane': 9713, 'onions': 9714, 'raisins': 9715, 'coasters': 9716, 'seafood': 9717, 'sensual': 9718, 'tied': 9719, 'foreplaying': 9720, 'debating': 9721, 'hardy': 9722, 'hookah': 9723, 'snuggle': 9724, 'modifacations': 9725, 'pose': 9726, 'improvements': 9727, 'meditate': 9728, 'pogo': 9729, 'rye': 9730, 'turkey': 9731, 'elegant': 9732, 'dinners': 9733, 'motorcycles': 9734, 'thongss': 9735, 'orientation': 9736, 'shaved': 9737, 'landing': 9738, 'pubes': 9739, 'rely': 9740, 'simplicity': 9741, 'politely': 9742, 'clingy': 9743, 'davinci': 9744, 'code': 9745, 'artwork': 9746, 'extravagent': 9747, 'weddings': 9748, 'waste': 9749, 'casual': 9750, 'obese': 9751, 'airlines': 9752, 'accommodate': 9753, 'pedophiles': 9754, 'dishing': 9755, 'phonebooks': 9756, 'screwing': 9757, 'untie': 9758, 'leftovers': 9759, 'breastfeed': 9760, 'cuold': 9761, 'deiiferent': 9762, 'fortunes': 9763, 'ytou': 9764, 'beinq': 9765, 'dissecting': 9766, 'har': 9767, 'milkshake': 9768, 'curl': 9769, 'southern': 9770, 'columbia': 9771, 'favored': 9772, 'worker': 9773, 'domestic': 9774, 'violence': 9775, 'increase': 9776, 'everyonee': 9777, 'kissin': 9778, 'thagt': 9779, 'streaking': 9780, 'tinie': 9781, 'tempah': 9782, 'moments': 9783, 'greyhound': 9784, 'unicorn': 9785, 'palin': 9786, 'chipper': 9787, 'instant': 9788, 'mode': 9789, 'transportation': 9790, 'postion': 9791, 'movieee': 9792, 'erectile': 9793, 'disfunction': 9794, 'ipad': 9795, 'insecent': 9796, 'gather': 9797, 'giddy': 9798, 'boots': 9799, 'daumn': 9800, 'plently': 9801, 'brief': 9802, 'explanation': 9803, 'sisters': 9804, 'againn': 9805, 'spits': 9806, 'swallows': 9807, 'detailss': 9808, 'rebel': 9809, 'brothel': 9810, 'aberdeen': 9811, 'tis': 9812, 'ace': 9813, 'shocking': 9814, 'fathers': 9815, 'tryed': 9816, 'political': 9817, 'aunts': 9818, 'accused': 9819, 'couldnu': 9820, 'werenu': 9821, 'beggar': 9822, 'disliked': 9823, 'faded': 9824, 'occurrence': 9825, 'bac': 9826, 'rediculous': 9827, 'hurty': 9828, 'abc': 9829, 'rescue': 9830, 'shallow': 9831, 'worthy': 9832, 'convert': 9833, 'convince': 9834, 'comfortably': 9835, 'blading': 9836, 'climaxed': 9837, 'contracted': 9838, 'shocker': 9839, 'faked': 9840, 'gfu': 9841, 'patch': 9842, 'indulged': 9843, 'catfight': 9844, 'widow': 9845, 'britains': 9846, 'slide': 9847, 'tackles': 9848, 'bronthers': 9849, 'lifted': 9850, 'gauges': 9851, 'uninterested': 9852, 'mans': 9853, 'booths': 9854, 'didnu': 9855, 'airbender': 9856, 'willingly': 9857, 'poltergeist': 9858, 'judgments': 9859, 'discoveries': 9860, 'emeniem': 9861, 'wii': 9862, 'chongalicious': 9863, 'manipulated': 9864, 'triedd': 9865, 'harmonyy': 9866, 'haveee': 9867, 'tasste': 9868, 'righ': 9869, 'haver': 9870, 'datedd': 9871, 'asianss': 9872, 'hellllo': 9873, 'limited': 9874, 'everone': 9875, 'tiao': 9876, 'cruz': 9877, 'heyaaa': 9878, 'clone': 9879, 'thecatiives': 9880, 'capital': 9881, 'sadistic': 9882, 'donate': 9883, 'braille': 9884, 'atms': 9885, 'monologue': 9886, 'confident': 9887, 'ciu': 9888, 'oneu': 9889, 'sporting': 9890, 'berid': 9891, 'chaperones': 9892, 'splain': 9893, 'polite': 9894, 'merry': 9895, 'tank': 9896, 'effected': 9897, 'anarchy': 9898, 'coy': 9899, 'blunt': 9900, 'chortles': 9901, 'snorts': 9902, 'preserve': 9903, 'trinkets': 9904, 'cheeseburger': 9905, 'condiments': 9906, 'skim': 9907, 'mend': 9908, 'symtoms': 9909, 'acknowlege': 9910, 'ancestors': 9911, 'stonehenge': 9912, 'cheatersz': 9913, 'mid': 9914, 'sunburn': 9915, 'sunscreen': 9916, 'soothe': 9917, 'sunburns': 9918, 'advance': 9919, 'meals': 9920, 'vengeance': 9921, 'adapt': 9922, 'degree': 9923, 'treating': 9924, 'opposed': 9925, 'crawling': 9926, 'shortest': 9927, 'closests': 9928, 'holds': 9929, 'washing': 9930, 'peircing': 9931, 'angelica': 9932, 'anjalica': 9933, 'angie': 9934, 'angela': 9935, 'angeli': 9936, 'idealy': 9937, 'fone': 9938, 'foned': 9939, 'danger': 9940, 'poisoning': 9941, 'judaism': 9942, 'influenced': 9943, 'controlled': 9944, 'possess': 9945, 'snacking': 9946, 'intimidates': 9947, 'intimidated': 9948, 'howss': 9949, 'medellin': 9950, 'itll': 9951, 'sierra': 9952, 'retard': 9953, 'uninspired': 9954, 'motivation': 9955, 'survey': 9956, 'lag': 9957, 'shooting': 9958, 'agess': 9959, 'coppying': 9960, 'foooooooood': 9961, 'yummy': 9962, 'exactally': 9963, 'ross': 9964, 'wardrobes': 9965, 'stareing': 9966, 'brick': 9967, 'cheaters': 9968, 'fourth': 9969, 'haveing': 9970, 'chase': 9971, 'mobey': 9972, 'villian': 9973, 'deadbeat': 9974, 'sheu': 9975, 'costumes': 9976, 'cycle': 9977, 'nastly': 9978, 'gna': 9979, 'dirnking': 9980, 'cider': 9981, 'phineas': 9982, 'ferb': 9983, 'cartoons': 9984, 'patterned': 9985, 'sock': 9986, 'acc': 9987, 'cloth': 9988, 'furniture': 9989, 'couches': 9990, 'smells': 9991, 'graze': 9992, 'looooooooooooooooooooooooooooooooooooooooooooooooooooooooooooooooooooooooooooooooooooooooooooooooooooooooooooooool': 9993, 'malibu': 9994, 'coursework': 9995, 'helppppppp': 9996, 'miranda': 9997, 'cosgrove': 9998, 'tokyo': 9999, 'japan': 10000, 'muskrat': 10001, 'spotted': 10002, 'divorces': 10003, 'contributing': 10004, 'contributed': 10005, 'sturdy': 10006, 'admired': 10007, 'iloveyouuu': 10008, 'sucessful': 10009, 'campfire': 10010, 'ashleighkmartin': 10011, 'mere': 10012, 'reactions': 10013, 'outsider': 10014, 'listens': 10015, 'blondie': 10016, 'waited': 10017, 'ammusement': 10018, 'championships': 10019, 'misinformed': 10020, 'wore': 10021, 'overflowing': 10022, 'deleteing': 10023, 'forewarning': 10024, 'lovelies': 10025, 'hoagie': 10026, 'drenched': 10027, 'hoagies': 10028, 'bbl': 10029, 'nanny': 10030, 'begins': 10031, 'disbaling': 10032, 'nooooo': 10033, 'unappealing': 10034, 'downright': 10035, 'alzhiemers': 10036, 'anyoneu': 10037, 'illegally': 10038, 'constitution': 10039, 'metaphorically': 10040, 'trapped': 10041, 'whomever': 10042, 'hardly': 10043, 'confessed': 10044, 'exchange': 10045, 'chosing': 10046, 'uniforms': 10047, 'require': 10048, 'physiological': 10049, 'requirement': 10050, 'urinate': 10051, 'prisoners': 10052, 'kobe': 10053, 'bryant': 10054, 'obtained': 10055, 'filling': 10056, 'pour': 10057, 'brim': 10058, 'chauffeur': 10059, 'masseuse': 10060, 'invent': 10061, 'lifestyle': 10062, 'magically': 10063, 'br': 10064, 'unpredictable': 10065, 'endangered': 10066, 'bothersome': 10067, 'logo': 10068, 'expire': 10069, 'sheets': 10070, 'homes': 10071, 'neighborhood': 10072, 'bulletin': 10073, 'deletes': 10074, 'pursue': 10075, 'abided': 10076, 'bootlegger': 10077, 'frustration': 10078, 'harboring': 10079, 'homeu': 10080, 'worku': 10081, 'incessantly': 10082, 'oppertunity': 10083, 'nazi': 10084, 'jews': 10085, 'laws': 10086, 'brighten': 10087, 'infested': 10088, 'rats': 10089, 'avoiding': 10090, 'confront': 10091, 'directly': 10092, 'rays': 10093, 'mixedd': 10094, 'headed': 10095, 'tummy': 10096, 'kansas': 10097, 'eleventy': 10098, 'kit': 10099, 'tail': 10100, 'reception': 10101, 'joins': 10102, 'approach': 10103, 'changes': 10104, 'lunchtime': 10105, 'impregnated': 10106, 'papers': 10107, 'uninjured': 10108, 'untampered': 10109, 'toward': 10110, 'bagged': 10111, 'customer': 10112, 'desire': 10113, 'cheer': 10114, 'clique': 10115, 'confessing': 10116, 'hardwood': 10117, 'stained': 10118, 'carpeted': 10119, 'heterosexuals': 10120, 'adopting': 10121, 'consent': 10122, 'abortions': 10123, 'descriminated': 10124, 'younge': 10125, 'opinon': 10126, 'infedelity': 10127, 'corniest': 10128, 'schooling': 10129, 'pmsing': 10130, 'recieving': 10131, 'interracially': 10132, 'owl': 10133, 'whooter': 10134, 'lyric': 10135, 'thankful': 10136, 'overseas': 10137, 'sings': 10138, 'typing': 10139, 'refuse': 10140, 'chills': 10141, 'negotiable': 10142, 'interpretation': 10143, 'manages': 10144, 'magnets': 10145, 'dreadfully': 10146, 'hacker': 10147, 'resort': 10148, 'racoons': 10149, 'aligators': 10150, 'roots': 10151, 'hacking': 10152, 'glitch': 10153, 'snowfall': 10154, 'organ': 10155, 'donor': 10156, 'liscence': 10157, 'infestation': 10158, 'mp': 10159, 'players': 10160, 'notifying': 10161, 'units': 10162, 'temporary': 10163, 'forms': 10164, 'ecplain': 10165, 'splice': 10166, 'crave': 10167, 'getaway': 10168, 'krispy': 10169, 'kreme': 10170, 'donut': 10171, 'unravels': 10172, 'curry': 10173, 'lshmtuafimc': 10174, 'unbareable': 10175, 'celebrities': 10176, 'punished': 10177, 'crimes': 10178, 'viginity': 10179, 'mae': 10180, 'west': 10181, 'marilyn': 10182, 'applicants': 10183, 'nay': 10184, 'realy': 10185, 'squeezed': 10186, 'corset': 10187, 'western': 10188, 'jonah': 10189, 'hex': 10190, 'fainting': 10191, 'gd': 10192, 'consenting': 10193, 'voluntarily': 10194, 'according': 10195, 'motivates': 10196, 'adult': 10197, 'percent': 10198, 'halt': 10199, 'moreee': 10200, 'spolit': 10201, 'budge': 10202, 'stance': 10203, 'weu': 10204, 'buhbye': 10205, 'satillites': 10206, 'restored': 10207, 'tempele': 10208, 'smirnoff': 10209, 'fears': 10210, 'europe': 10211, 'idr': 10212, 'repopulate': 10213, 'individually': 10214, 'shouldnu': 10215, 'teddy': 10216, 'godmother': 10217, 'oklahoma': 10218, 'tornadoes': 10219, 'worsening': 10220, 'positions': 10221, 'memorable': 10222, 'remains': 10223, 'replay': 10224, 'oooops': 10225, 'ouchiesss': 10226, 'probs': 10227, 'lineant': 10228, 'pampered': 10229, 'chihuahua': 10230, 'inherits': 10231, 'heiress': 10232, 'gail': 10233, 'posner': 10234, 'beloved': 10235, 'inheritance': 10236, 'penguins': 10237, 'pandass': 10238, 'polka': 10239, 'limits': 10240, 'heavily': 10241, 'enforced': 10242, 'ladygaga': 10243, 'wig': 10244, 'glozell': 10245, 'hight': 10246, 'doubled': 10247, 'announcement': 10248, 'guest': 10249, 'delay': 10250, 'drty': 10251, 'lovable': 10252, 'clubhead': 10253, 'thermostat': 10254, 'temperature': 10255, 'rumor': 10256, 'remain': 10257, 'drift': 10258, 'predators': 10259, 'identifying': 10260, 'pluck': 10261, 'bandz': 10262, 'cavs': 10263, 'lebron': 10264, 'curves': 10265, 'heath': 10266, 'yesss': 10267, 'noreply': 10268, 'messeges': 10269, 'amazed': 10270, 'upping': 10271, 'stampsu': 10272, 'postal': 10273, 'tmrw': 10274, 'imax': 10275, 'lbd': 10276, 'adive': 10277, 'disble': 10278, 'calmed': 10279, 'rember': 10280, 'holly': 10281, 'comr': 10282, 'xxxxxxr': 10283, 'threesomes': 10284, 'parner': 10285, 'soam': 10286, 'slightest': 10287, 'judgment': 10288, 'slavery': 10289, 'celebrated': 10290, 'surrounding': 10291, 'genders': 10292, 'bisexuality': 10293, 'dispensers': 10294, 'feellike': 10295, 'java': 10296, 'spaaaaaaaaaaaaaaaaam': 10297, 'alwayss': 10298, 'backk': 10299, 'camps': 10300, 'cups': 10301, 'madly': 10302, 'varies': 10303, 'depends': 10304, 'textbook': 10305, 'kissssssssss': 10306, 'appricated': 10307, 'connect': 10308, 'pilotless': 10309, 'officials': 10310, 'concerned': 10311, 'identified': 10312, 'trillion': 10313, 'rare': 10314, 'untapped': 10315, 'deposits': 10316, 'afghanistan': 10317, 'funds': 10318, 'organizations': 10319, 'amazon': 10320, 'grrr': 10321, 'industry': 10322, 'attracts': 10323, 'reminder': 10324, 'recieve': 10325, 'shannacide': 10326, 'beyondfear': 10327, 'riden': 10328, 'lighht': 10329, 'haair': 10330, 'cthe': 10331, 'recommended': 10332, 'dosage': 10333, 'cyou': 10334, 'treated': 10335, 'cyouu': 10336, 'mu': 10337, 'faltiples': 10338, 'personalidades': 10339, 'suicida': 10340, 'bfse': 10341, 'podru': 10342, 'eda': 10343, 'decir': 10344, 'tomado': 10345, 'rehenes': 10346, 'personalities': 10347, 'hostages': 10348, 'formspringg': 10349, 'lagg': 10350, 'turnsz': 10351, 'locally': 10352, 'monthe': 10353, 'confussed': 10354, 'taa': 10355, 'unfreeze': 10356, 'gettting': 10357, 'esiiiiited': 10358, 'kindd': 10359, 'musicc': 10360, 'wearinh': 10361, 'noises': 10362, 'insanly': 10363, 'someplace': 10364, 'fishtan': 10365, 'toooo': 10366, 'alchohol': 10367, 'stereotyped': 10368, 'pj': 10369, 'robe': 10370, 'chilly': 10371, 'traditions': 10372, 'exceptions': 10373, 'diapers': 10374, 'thickness': 10375, 'bedsheets': 10376, 'planted': 10377, 'daisys': 10378, 'itm': 10379, 'qualitys': 10380, 'irish': 10381, 'initial': 10382, 'intentions': 10383, 'hurtful': 10384, 'juvenile': 10385, 'punishments': 10386, 'fatheru': 10387, 'warming': 10388, 'dominated': 10389, 'ridiculed': 10390, 'pda': 10391, 'troops': 10392, 'plagiarism': 10393, 'teen': 10394, 'engagements': 10395, 'heighth': 10396, 'fantasize': 10397, 'tramatized': 10398, 'contemplating': 10399, 'firing': 10400, 'squad': 10401, 'utah': 10402, 'positivly': 10403, 'enstilled': 10404, 'futher': 10405, 'intaking': 10406, 'element': 10407, 'overlooked': 10408, 'towards': 10409, 'monumental': 10410, 'instances': 10411, 'soley': 10412, 'petty': 10413, 'nit': 10414, 'beileve': 10415, 'described': 10416, 'prevent': 10417, 'tagged': 10418, 'opersit': 10419, 'arse': 10420, 'catches': 10421, 'newborn': 10422, 'sociable': 10423, 'chemical': 10424, 'formula': 10425, 'glucose': 10426, 'chemisty': 10427, 'biome': 10428, 'baptist': 10429, 'agnostic': 10430, 'fairest': 10431, 'elect': 10432, 'process': 10433, 'exhibit': 10434, 'antonio': 10435, 'ikr': 10436, 'vocabulary': 10437, 'unhealthy': 10438, 'amusment': 10439, 'breaker': 10440, 'occur': 10441, 'possessed': 10442, 'windy': 10443, 'forgiven': 10444, 'stain': 10445, 'societies': 10446, 'standards': 10447, 'swedish': 10448, 'zodiak': 10449, 'astrological': 10450, 'caffein': 10451, 'achieving': 10452, 'jerry': 10453, 'purchased': 10454, 'indulge': 10455, 'social': 10456, 'networking': 10457, 'scenario': 10458, 'modifications': 10459, 'individuality': 10460, 'praying': 10461, 'bulls': 10462, 'misunderstood': 10463, 'pornography': 10464, 'degrades': 10465, 'stem': 10466, 'strict': 10467, 'spray': 10468, 'baught': 10469, 'aol': 10470, 'gmail': 10471, 'percieve': 10472, 'inculcate': 10473, 'env': 10474, 'liners': 10475, 'latest': 10476, 'occured': 10477, 'tornados': 10478, 'colleges': 10479, 'buildings': 10480, 'elbows': 10481, 'grooming': 10482, 'excersize': 10483, 'sprawl': 10484, 'flung': 10485, 'everywhich': 10486, 'resteraunt': 10487, 'recreate': 10488, 'responsibility': 10489, 'womanu': 10490, 'protection': 10491, 'biger': 10492, 'averaged': 10493, 'performance': 10494, 'preform': 10495, 'owning': 10496, 'manhunt': 10497, 'hopscotch': 10498, 'prepared': 10499, 'disappointment': 10500, 'propose': 10501, 'contemplate': 10502, 'warranted': 10503, 'toodaloo': 10504, 'motha': 10505, 'fucka': 10506, 'brauts': 10507, 'duii': 10508, 'sexier': 10509, 'cheesiest': 10510, 'embarassing': 10511, 'junk': 10512, 'facing': 10513, 'curtains': 10514, 'hobbiess': 10515, 'carnival': 10516, 'artical': 10517, 'essential': 10518, 'unnecessary': 10519, 'embryo': 10520, 'sperm': 10521, 'embryos': 10522, 'sickening': 10523, 'everyones': 10524, 'choked': 10525, 'didd': 10526, 'prosperous': 10527, 'vegetation': 10528, 'specfic': 10529, 'hoo': 10530, 'cwhat': 10531, 'attended': 10532, 'funeral': 10533, 'niiiice': 10534, 'disappointing': 10535, 'imagining': 10536, 'prenuptial': 10537, 'agreement': 10538, 'marrying': 10539, 'styles': 10540, 'abnormal': 10541, 'possiblites': 10542, 'sickness': 10543, 'detect': 10544, 'lasst': 10545, 'patner': 10546, 'visible': 10547, 'underside': 10548, 'wrist': 10549, 'strain': 10550, 'noah': 10551, 'termintes': 10552, 'arch': 10553, 'heaviest': 10554, 'sweep': 10555, 'palms': 10556, 'enjoys': 10557, 'wheree': 10558, 'goingg': 10559, 'campingg': 10560, 'cunder': 10561, 'godu': 10562, 'cin': 10563, 'trustu': 10564, 'reside': 10565, 'funner': 10566, 'carriage': 10567, 'pencil': 10568, 'pessimist': 10569, 'rise': 10570, 'disclose': 10571, 'mac': 10572, 'pc': 10573, 'rhythme': 10574, 'constant': 10575, 'intellectually': 10576, 'dynamic': 10577, 'verbal': 10578, 'larvae': 10579, 'tapeworm': 10580, 'taaaaaaaaaaaallllllllll': 10581, 'donkeys': 10582, 'patiently': 10583, 'provided': 10584, 'iconic': 10585, 'entertainer': 10586, 'politician': 10587, 'influencial': 10588, 'mutual': 10589, 'stones': 10590, 'judging': 10591, 'contagious': 10592, 'feathers': 10593, 'cared': 10594, 'overuse': 10595, 'airjordanshoes': 10596, 'birthcontrol': 10597, 'epidural': 10598, 'ritual': 10599, 'males': 10600, 'attract': 10601, 'maleu': 10602, 'rotator': 10603, 'cuff': 10604, 'results': 10605, 'anne': 10606, 'frank': 10607, 'happier': 10608, 'plenty': 10609, 'rodeo': 10610, 'obtaining': 10611, 'detector': 10612, 'expectancy': 10613, 'electricity': 10614, 'flashlight': 10615, 'turd': 10616, 'puking': 10617, 'rivals': 10618, 'multiples': 10619, 'triplets': 10620, 'quadruplets': 10621, 'tortured': 10622, 'genius': 10623, 'simpleton': 10624, 'lap': 10625, 'forty': 10626, 'institution': 10627, 'showcase': 10628, 'unexpectedly': 10629, 'findspammers': 10630, 'navy': 10631, 'westvirginia': 10632, 'ciggs': 10633, 'whoots': 10634, 'des': 10635, 'moines': 10636, 'relative': 10637, 'hypocritical': 10638, 'ban': 10639, 'captive': 10640, 'detectors': 10641, 'slip': 10642, 'embarrassment': 10643, 'critical': 10644, 'bushwhacking': 10645, 'alchy': 10646, 'scrub': 10647, 'tathered': 10648, 'mansion': 10649, 'criticism': 10650, 'priest': 10651, 'sinking': 10652, 'overboard': 10653, 'tugging': 10654, 'purposely': 10655, 'bashed': 10656, 'hunted': 10657, 'woaaaaaaahh': 10658, 'pedifile': 10659, 'peep': 10660, 'robbers': 10661, 'incest': 10662, 'yukk': 10663, 'disgusting': 10664}\n"
          ],
          "name": "stdout"
        }
      ]
    },
    {
      "cell_type": "code",
      "metadata": {
        "id": "52aNX4cBCZye",
        "colab_type": "code",
        "colab": {}
      },
      "source": [
        "len(tokenizer.word_index)\n",
        "X = tokenizer.texts_to_sequences(X)\n",
        "X = sequence.pad_sequences(X,maxlen=250)"
      ],
      "execution_count": 68,
      "outputs": []
    },
    {
      "cell_type": "code",
      "metadata": {
        "id": "12dE1ywHDFbO",
        "colab_type": "code",
        "colab": {}
      },
      "source": [
        "y = df['ans1'].values.astype(int)"
      ],
      "execution_count": 69,
      "outputs": []
    },
    {
      "cell_type": "code",
      "metadata": {
        "id": "PiQ9n52JDkmn",
        "colab_type": "code",
        "colab": {}
      },
      "source": [
        "from sklearn.model_selection import train_test_split\n",
        "X_train,X_test,y_train,y_test = train_test_split(X,y,test_size=0.25,random_state=0)"
      ],
      "execution_count": 79,
      "outputs": []
    },
    {
      "cell_type": "code",
      "metadata": {
        "id": "GdTBzVVYED1T",
        "colab_type": "code",
        "colab": {}
      },
      "source": [
        "model = Sequential()\n",
        "model.add(Embedding(20000,120))\n",
        "model.add(LSTM(120,dropout=0.2,recurrent_dropout=0.2))\n",
        "model.add(Dense(1,activation='sigmoid'))"
      ],
      "execution_count": 80,
      "outputs": []
    },
    {
      "cell_type": "code",
      "metadata": {
        "id": "ugZm2VBBE4CF",
        "colab_type": "code",
        "colab": {}
      },
      "source": [
        "model.compile(loss='binary_crossentropy',optimizer='adam',metrics=['accuracy'])\n"
      ],
      "execution_count": 81,
      "outputs": []
    },
    {
      "cell_type": "code",
      "metadata": {
        "id": "hHp3Ru2_JK6G",
        "colab_type": "code",
        "colab": {
          "base_uri": "https://localhost:8080/",
          "height": 85
        },
        "outputId": "d7c7349e-fa39-447d-b603-25e10136ddb4"
      },
      "source": [
        "history = model.fit(X_train,y_train,batch_size=45,epochs=2,verbose=2,validation_data=(X_test,y_test))"
      ],
      "execution_count": 82,
      "outputs": [
        {
          "output_type": "stream",
          "text": [
            "Epoch 1/2\n",
            "185/185 - 146s - loss: 0.1401 - accuracy: 0.9706 - val_loss: 0.0981 - val_accuracy: 0.9743\n",
            "Epoch 2/2\n",
            "185/185 - 146s - loss: 0.0614 - accuracy: 0.9821 - val_loss: 0.0811 - val_accuracy: 0.9797\n"
          ],
          "name": "stdout"
        }
      ]
    },
    {
      "cell_type": "code",
      "metadata": {
        "id": "fkKvxeKzL9yI",
        "colab_type": "code",
        "colab": {
          "base_uri": "https://localhost:8080/",
          "height": 34
        },
        "outputId": "54a0a30a-4dad-40c2-b3da-c5bb49cd04ed"
      },
      "source": [
        "score,accuracy = model.evaluate(X_test,y_test,batch_size=45,verbose=2)"
      ],
      "execution_count": 83,
      "outputs": [
        {
          "output_type": "stream",
          "text": [
            "62/62 - 5s - loss: 0.0811 - accuracy: 0.9797\n"
          ],
          "name": "stdout"
        }
      ]
    },
    {
      "cell_type": "code",
      "metadata": {
        "id": "FgaR-fDVNUws",
        "colab_type": "code",
        "colab": {}
      },
      "source": [
        "test_sentence = ['You are a stupid bitch']"
      ],
      "execution_count": 122,
      "outputs": []
    },
    {
      "cell_type": "code",
      "metadata": {
        "id": "yyUMieOBNYzk",
        "colab_type": "code",
        "colab": {}
      },
      "source": [
        "def pre(sentence):\n",
        "  seq = tokenizer.texts_to_sequences(sentence)\n",
        "  padded_seq = sequence.pad_sequences(seq,maxlen=250)\n",
        "  pred = model.predict(padded_seq)\n",
        "  pred_actual = round(pred[0][0],2)\n",
        "  result = \"This sentence has a \"+str(pred_actual)+\" probability of containing cyberbullying content\"\n",
        "  print( result)"
      ],
      "execution_count": 118,
      "outputs": []
    },
    {
      "cell_type": "code",
      "metadata": {
        "id": "F8efG1vgOOCS",
        "colab_type": "code",
        "colab": {
          "base_uri": "https://localhost:8080/",
          "height": 34
        },
        "outputId": "16a36c6e-5004-47fa-bb71-7f11ad7880aa"
      },
      "source": [
        "pre(test_sentence)"
      ],
      "execution_count": 123,
      "outputs": [
        {
          "output_type": "stream",
          "text": [
            "This sentence has a 0.89 probability of containing cyberbullying content\n"
          ],
          "name": "stdout"
        }
      ]
    },
    {
      "cell_type": "code",
      "metadata": {
        "id": "YS5zSHBkOdbk",
        "colab_type": "code",
        "colab": {
          "base_uri": "https://localhost:8080/",
          "height": 34
        },
        "outputId": "d29281ca-534e-4931-bc3a-34aec3ef661f"
      },
      "source": [
        "pre(['You are a terrible liar'])"
      ],
      "execution_count": 126,
      "outputs": [
        {
          "output_type": "stream",
          "text": [
            "This sentence has a 0.0 probability of containing cyberbullying content\n"
          ],
          "name": "stdout"
        }
      ]
    },
    {
      "cell_type": "code",
      "metadata": {
        "id": "3Qbq_SnhQd7g",
        "colab_type": "code",
        "colab": {
          "base_uri": "https://localhost:8080/",
          "height": 34
        },
        "outputId": "1a36b766-b593-405a-c28a-f6ab281713c1"
      },
      "source": [
        "pre(['Why are you stupid?'])"
      ],
      "execution_count": 127,
      "outputs": [
        {
          "output_type": "stream",
          "text": [
            "This sentence has a 0.2 probability of containing cyberbullying content\n"
          ],
          "name": "stdout"
        }
      ]
    },
    {
      "cell_type": "code",
      "metadata": {
        "id": "ncDhoLyPQn0y",
        "colab_type": "code",
        "colab": {
          "base_uri": "https://localhost:8080/",
          "height": 34
        },
        "outputId": "ea85be70-3e0a-48c4-dbb6-cbf0797fe2c3"
      },
      "source": [
        "pre(['Hello How are you doing?'])"
      ],
      "execution_count": 128,
      "outputs": [
        {
          "output_type": "stream",
          "text": [
            "This sentence has a 0.0 probability of containing cyberbullying content\n"
          ],
          "name": "stdout"
        }
      ]
    },
    {
      "cell_type": "code",
      "metadata": {
        "id": "oqEmqx7dQsCx",
        "colab_type": "code",
        "colab": {
          "base_uri": "https://localhost:8080/",
          "height": 34
        },
        "outputId": "6d31f8d9-85a6-4767-c953-afee882faef3"
      },
      "source": [
        "pre(['I\"m going to kill you and your family'])"
      ],
      "execution_count": 129,
      "outputs": [
        {
          "output_type": "stream",
          "text": [
            "This sentence has a 0.0 probability of containing cyberbullying content\n"
          ],
          "name": "stdout"
        }
      ]
    },
    {
      "cell_type": "code",
      "metadata": {
        "id": "kUwxTkAHQyQ9",
        "colab_type": "code",
        "colab": {
          "base_uri": "https://localhost:8080/",
          "height": 34
        },
        "outputId": "fb5de9e5-ceaf-4e7b-a5fe-054f03ebdb42"
      },
      "source": [
        "pre(['You are a punkass'])"
      ],
      "execution_count": 130,
      "outputs": [
        {
          "output_type": "stream",
          "text": [
            "This sentence has a 0.01 probability of containing cyberbullying content\n"
          ],
          "name": "stdout"
        }
      ]
    },
    {
      "cell_type": "code",
      "metadata": {
        "id": "xV1DXvAlQ3c5",
        "colab_type": "code",
        "colab": {
          "base_uri": "https://localhost:8080/",
          "height": 34
        },
        "outputId": "d4ffd4ae-999c-4d49-b7a2-fe3708ae6646"
      },
      "source": [
        "pre(['you are a fucked up bitch !'])"
      ],
      "execution_count": 136,
      "outputs": [
        {
          "output_type": "stream",
          "text": [
            "This sentence has a 0.82 probability of containing cyberbullying content\n"
          ],
          "name": "stdout"
        }
      ]
    },
    {
      "cell_type": "code",
      "metadata": {
        "id": "RtQWYXf0Q5gv",
        "colab_type": "code",
        "colab": {}
      },
      "source": [
        "import h5py\n",
        "model_json = model.to_json()\n",
        "with open(\"rnn_model.json\", \"w\") as json_file:\n",
        "    json_file.write(model_json)\n"
      ],
      "execution_count": 139,
      "outputs": []
    },
    {
      "cell_type": "code",
      "metadata": {
        "id": "ipdmiKoZROPp",
        "colab_type": "code",
        "colab": {}
      },
      "source": [
        ""
      ],
      "execution_count": null,
      "outputs": []
    }
  ]
}