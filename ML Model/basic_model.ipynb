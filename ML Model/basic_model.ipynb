{
  "nbformat": 4,
  "nbformat_minor": 0,
  "metadata": {
    "kernelspec": {
      "display_name": "Python 3",
      "language": "python",
      "name": "python3"
    },
    "language_info": {
      "codemirror_mode": {
        "name": "ipython",
        "version": 3
      },
      "file_extension": ".py",
      "mimetype": "text/x-python",
      "name": "python",
      "nbconvert_exporter": "python",
      "pygments_lexer": "ipython3",
      "version": "3.7.4"
    },
    "colab": {
      "name": "basic_model.ipynb",
      "provenance": []
    }
  },
  "cells": [
    {
      "cell_type": "code",
      "metadata": {
        "id": "0J-JDr9g5rRz",
        "colab_type": "code",
        "colab": {}
      },
      "source": [
        "import pandas as pd\n",
        "import numpy as np"
      ],
      "execution_count": 1,
      "outputs": []
    },
    {
      "cell_type": "code",
      "metadata": {
        "id": "QZairLte5rSO",
        "colab_type": "code",
        "colab": {}
      },
      "source": [
        "df = pd.read_csv('/content/formspring_data.csv',sep='\\t')"
      ],
      "execution_count": 2,
      "outputs": []
    },
    {
      "cell_type": "code",
      "metadata": {
        "id": "oaLxoufu5rSg",
        "colab_type": "code",
        "colab": {}
      },
      "source": [
        "selector1 = df['ans1'] == df['ans2']\n",
        "selector2 = df['ans2'] == df['ans3']\n",
        "selector3 = df['ans3'] == df['ans1']"
      ],
      "execution_count": 3,
      "outputs": []
    },
    {
      "cell_type": "code",
      "metadata": {
        "id": "9JgM5HGR5rSy",
        "colab_type": "code",
        "colab": {}
      },
      "source": [
        "df = df[selector1 & selector2 & selector3]"
      ],
      "execution_count": 4,
      "outputs": []
    },
    {
      "cell_type": "code",
      "metadata": {
        "id": "lhC6YSAW5rTD",
        "colab_type": "code",
        "colab": {}
      },
      "source": [
        "df = df[['ques','ans1']]"
      ],
      "execution_count": 5,
      "outputs": []
    },
    {
      "cell_type": "code",
      "metadata": {
        "id": "n1fgvFqz5rTU",
        "colab_type": "code",
        "colab": {}
      },
      "source": [
        "df['ans1'] = df['ans1'].replace((\"Yes\",\"No\"),(1,0))"
      ],
      "execution_count": 6,
      "outputs": []
    },
    {
      "cell_type": "code",
      "metadata": {
        "id": "mPQD75sI5rUG",
        "colab_type": "code",
        "colab": {}
      },
      "source": [
        "df = df.astype(str)"
      ],
      "execution_count": 7,
      "outputs": []
    },
    {
      "cell_type": "code",
      "metadata": {
        "id": "xtMqBX-b5rUW",
        "colab_type": "code",
        "colab": {}
      },
      "source": [
        "corpus = []\n",
        "from nltk.corpus import stopwords\n",
        "import re\n",
        "def clean_data(sentence):\n",
        "    sentence = sentence.replace('&#039;','\"').replace(\"<br>\",\" \").replace(\"&quot;\",\"'\")\n",
        "    sentence = re.sub('[^a-zA-Z]',' ',sentence)\n",
        "    sentence = sentence.lower().split()\n",
        "    words = [word for word in sentence if not word in stopwords.words('english')]\n",
        "    sentence = ' '.join(words)\n",
        "    corpus.append(sentence)"
      ],
      "execution_count": 8,
      "outputs": []
    },
    {
      "cell_type": "code",
      "metadata": {
        "id": "oORk2i3G5rUn",
        "colab_type": "code",
        "colab": {
          "base_uri": "https://localhost:8080/",
          "height": 34
        },
        "outputId": "efbcba90-2c2d-4dd2-a65a-e96b0f3fc115"
      },
      "source": [
        "df.shape"
      ],
      "execution_count": 9,
      "outputs": [
        {
          "output_type": "execute_result",
          "data": {
            "text/plain": [
              "(11089, 2)"
            ]
          },
          "metadata": {
            "tags": []
          },
          "execution_count": 9
        }
      ]
    },
    {
      "cell_type": "code",
      "metadata": {
        "id": "j1WIXY1b5rU4",
        "colab_type": "code",
        "colab": {}
      },
      "source": [
        "df.columns = ['Comment','Cyberbullying?']"
      ],
      "execution_count": 10,
      "outputs": []
    },
    {
      "cell_type": "code",
      "metadata": {
        "id": "Dk8-lIDT5rVJ",
        "colab_type": "code",
        "colab": {
          "base_uri": "https://localhost:8080/",
          "height": 51
        },
        "outputId": "9ed34c38-248e-486d-9e53-8ed6ec287897"
      },
      "source": [
        "import nltk\n",
        "nltk.download('stopwords')\n",
        "for sentence in df['Comment']:\n",
        "    clean_data(sentence)"
      ],
      "execution_count": 13,
      "outputs": [
        {
          "output_type": "stream",
          "text": [
            "[nltk_data] Downloading package stopwords to /root/nltk_data...\n",
            "[nltk_data]   Unzipping corpora/stopwords.zip.\n"
          ],
          "name": "stdout"
        }
      ]
    },
    {
      "cell_type": "code",
      "metadata": {
        "id": "dJjr2LeL5rVY",
        "colab_type": "code",
        "colab": {
          "base_uri": "https://localhost:8080/",
          "height": 34
        },
        "outputId": "27b269fc-c1d0-4f1a-a915-51abb84dd013"
      },
      "source": [
        "len(corpus)"
      ],
      "execution_count": 14,
      "outputs": [
        {
          "output_type": "execute_result",
          "data": {
            "text/plain": [
              "11089"
            ]
          },
          "metadata": {
            "tags": []
          },
          "execution_count": 14
        }
      ]
    },
    {
      "cell_type": "code",
      "metadata": {
        "id": "nnNott1d5rVv",
        "colab_type": "code",
        "colab": {}
      },
      "source": [
        "from sklearn.feature_extraction.text import CountVectorizer\n",
        "cv = CountVectorizer()\n"
      ],
      "execution_count": 15,
      "outputs": []
    },
    {
      "cell_type": "code",
      "metadata": {
        "id": "NlsyFup_5rV_",
        "colab_type": "code",
        "colab": {
          "base_uri": "https://localhost:8080/",
          "height": 34
        },
        "outputId": "92e5d9e8-f91c-4f4d-844b-29bab71397dc"
      },
      "source": [
        "from sklearn.model_selection import train_test_split\n",
        "y = df.iloc[:,-1].values.astype(int)\n",
        "print(y[0:5])\n",
        "X_train,X_test,y_train,y_test = train_test_split(corpus,y,test_size=0.2,random_state=0)"
      ],
      "execution_count": 16,
      "outputs": [
        {
          "output_type": "stream",
          "text": [
            "[0 0 0 0 0]\n"
          ],
          "name": "stdout"
        }
      ]
    },
    {
      "cell_type": "code",
      "metadata": {
        "id": "biZolnLo5rWS",
        "colab_type": "code",
        "colab": {}
      },
      "source": [
        "cv.fit(X_train)\n",
        "X_train = cv.transform(X_train)\n",
        "X_test = cv.transform(X_test)"
      ],
      "execution_count": 17,
      "outputs": []
    },
    {
      "cell_type": "code",
      "metadata": {
        "id": "BI1rwG0J5rWp",
        "colab_type": "code",
        "colab": {}
      },
      "source": [
        "X_train = X_train.toarray()"
      ],
      "execution_count": 18,
      "outputs": []
    },
    {
      "cell_type": "code",
      "metadata": {
        "id": "CGqtASZw5rW4",
        "colab_type": "code",
        "colab": {}
      },
      "source": [
        "X_test = X_test.toarray()"
      ],
      "execution_count": 19,
      "outputs": []
    },
    {
      "cell_type": "code",
      "metadata": {
        "id": "bLtW_jxD5rXH",
        "colab_type": "code",
        "colab": {}
      },
      "source": [
        "from sklearn.tree import DecisionTreeClassifier\n",
        "from sklearn.model_selection import cross_val_score"
      ],
      "execution_count": 20,
      "outputs": []
    },
    {
      "cell_type": "code",
      "metadata": {
        "id": "Fppp5cjq5rXl",
        "colab_type": "code",
        "colab": {
          "base_uri": "https://localhost:8080/",
          "height": 119
        },
        "outputId": "ac6d9bae-9645-433b-ca32-5faf5ce97bc6"
      },
      "source": [
        "clf = DecisionTreeClassifier()\n",
        "clf.fit(X_train,y_train)"
      ],
      "execution_count": 21,
      "outputs": [
        {
          "output_type": "execute_result",
          "data": {
            "text/plain": [
              "DecisionTreeClassifier(ccp_alpha=0.0, class_weight=None, criterion='gini',\n",
              "                       max_depth=None, max_features=None, max_leaf_nodes=None,\n",
              "                       min_impurity_decrease=0.0, min_impurity_split=None,\n",
              "                       min_samples_leaf=1, min_samples_split=2,\n",
              "                       min_weight_fraction_leaf=0.0, presort='deprecated',\n",
              "                       random_state=None, splitter='best')"
            ]
          },
          "metadata": {
            "tags": []
          },
          "execution_count": 21
        }
      ]
    },
    {
      "cell_type": "code",
      "metadata": {
        "id": "ealgKtxG5rX2",
        "colab_type": "code",
        "colab": {}
      },
      "source": [
        "from sklearn.metrics import accuracy_score,f1_score,recall_score"
      ],
      "execution_count": 22,
      "outputs": []
    },
    {
      "cell_type": "code",
      "metadata": {
        "id": "UegqDL315rYR",
        "colab_type": "code",
        "colab": {}
      },
      "source": [
        "y_pred = clf.predict(X_test)"
      ],
      "execution_count": 23,
      "outputs": []
    },
    {
      "cell_type": "code",
      "metadata": {
        "id": "HFEhjHtn5rYi",
        "colab_type": "code",
        "colab": {}
      },
      "source": [
        "score = accuracy_score(y_test,y_pred)"
      ],
      "execution_count": 24,
      "outputs": []
    },
    {
      "cell_type": "code",
      "metadata": {
        "id": "RkTG_Jk45rYv",
        "colab_type": "code",
        "colab": {}
      },
      "source": [
        "f1_score__ = f1_score(y_test,y_pred)\n",
        "recall = recall_score(y_test,y_pred)"
      ],
      "execution_count": 26,
      "outputs": []
    },
    {
      "cell_type": "code",
      "metadata": {
        "id": "2NOqS5uB5rY9",
        "colab_type": "code",
        "colab": {}
      },
      "source": [
        "# function to use for prediction\n",
        "# firstly have to fit pickled model on vocabulary(X_train precisely) ==> clf.fit(X_train)\n",
        "def pre(words):\n",
        "    words = cv.transform(words).toarray()\n",
        "    prediction = clf.predict(words)\n",
        "    return prediction"
      ],
      "execution_count": null,
      "outputs": []
    },
    {
      "cell_type": "code",
      "metadata": {
        "id": "UHggNkYc5rZK",
        "colab_type": "code",
        "colab": {
          "base_uri": "https://localhost:8080/",
          "height": 68
        },
        "outputId": "a0c6c811-df54-47f0-be17-6452417f4c85"
      },
      "source": [
        "print(\"Accuracy => \",score)\n",
        "print(\"Recall => \",recall)\n",
        "print(\"F1 score => \",f1_score__)"
      ],
      "execution_count": 27,
      "outputs": [
        {
          "output_type": "stream",
          "text": [
            "Accuracy =>  0.9670874661857529\n",
            "Recall =>  0.38461538461538464\n",
            "F1 score =>  0.4065040650406504\n"
          ],
          "name": "stdout"
        }
      ]
    },
    {
      "cell_type": "code",
      "metadata": {
        "id": "GaEdkXju5rZ3",
        "colab_type": "code",
        "colab": {
          "base_uri": "https://localhost:8080/",
          "height": 34
        },
        "outputId": "0c5a58c9-3308-4a77-f5f1-24dc18b262c1"
      },
      "source": [
        "import joblib\n",
        "joblib.dump(clf,'basic_model.pkl')"
      ],
      "execution_count": 29,
      "outputs": [
        {
          "output_type": "execute_result",
          "data": {
            "text/plain": [
              "['basic_model.pkl']"
            ]
          },
          "metadata": {
            "tags": []
          },
          "execution_count": 29
        }
      ]
    },
    {
      "cell_type": "code",
      "metadata": {
        "id": "gHUx4-sa9GEV",
        "colab_type": "code",
        "colab": {}
      },
      "source": [
        ""
      ],
      "execution_count": null,
      "outputs": []
    }
  ]
}